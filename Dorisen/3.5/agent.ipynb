{
 "cells": [
  {
   "cell_type": "markdown",
   "source": [
    "语言模型本身无法采取行动 - 它们只是输出文本。LangChain 的一个重要用例是创建代理。 代理是使用LLM作为推理引擎来确定要采取哪些操作以及执行操作所需的输入的系统。执行操作后，结果可以反馈到 LLM 中，以确定是否需要更多操作，或者是否可以完成。这通常是通过工具调用来实现的。\n",
    "\n",
    "在本教程中，我们将构建一个可以与搜索引擎交互的代理。您将能够向该代理提问、观察它调用搜索工具以及与其进行对话。\n",
    "\n",
    "我们首先需要创建我们想要使用的工具。我们选择的主要工具是Tavily - 一个搜索引擎。我们在 LangChain 中有一个内置工具，可以轻松使用 Tavily 搜索引擎作为工具。"
   ],
   "metadata": {
    "collapsed": false
   },
   "id": "76d1736a49c06439"
  },
  {
   "cell_type": "code",
   "outputs": [],
   "source": [
    "# Import relevant functionality\n",
    "from langchain_anthropic import ChatAnthropic\n",
    "from langchain_community.tools.tavily_search import TavilySearchResults\n",
    "from langchain_core.messages import HumanMessage\n",
    "from langgraph.checkpoint.memory import MemorySaver\n",
    "from langgraph.prebuilt import create_react_agent\n",
    "from langchain_ollama import ChatOllama\n",
    "from dotenv import load_dotenv\n",
    "\n",
    "# 加载 .env 文件\n",
    "load_dotenv()\n",
    "\n",
    "# 初始化Ollama LLM，注意需要后台开启ollama服务\n",
    "model_name = \"llama3.2\"\n",
    "model  = ChatOllama(model=model_name)\n",
    "\n",
    "# Create the agent\n",
    "memory = MemorySaver()\n",
    "search = TavilySearchResults(max_results=2)\n",
    "tools = [search]\n",
    "agent_executor = create_react_agent(model, tools, checkpointer=memory)"
   ],
   "metadata": {
    "collapsed": false,
    "ExecuteTime": {
     "end_time": "2025-03-05T06:38:41.481940Z",
     "start_time": "2025-03-05T06:38:41.434406Z"
    }
   },
   "id": "1e96ee2762943da6",
   "execution_count": 6
  },
  {
   "cell_type": "code",
   "outputs": [
    {
     "name": "stdout",
     "output_type": "stream",
     "text": [
      "================================\u001B[1m Human Message \u001B[0m=================================\n",
      "\n",
      "hi im bob! and i live in sf\n",
      "==================================\u001B[1m Ai Message \u001B[0m==================================\n",
      "Tool Calls:\n",
      "  tavily_search_results_json (e05e54d8-4e0e-4f17-b374-e1ffe5138049)\n",
      " Call ID: e05e54d8-4e0e-4f17-b374-e1ffe5138049\n",
      "  Args:\n",
      "    query: San Francisco news\n",
      "=================================\u001B[1m Tool Message \u001B[0m=================================\n",
      "Name: tavily_search_results_json\n",
      "\n",
      "[{\"url\": \"https://www.sfchronicle.com/\", \"content\": \"Exclusive Bay Area and San Francisco breaking news, sports, tech, and food and wine coverage, plus enhanced coverage of Giants, 49ers and Warriors.\"}, {\"url\": \"https://www.sfgate.com/\", \"content\": \"Your San Francisco Bay Area local news source plus the latest in sports, culture, weather, food and drink, politics, real estate, Lake Tahoe and California\"}]\n",
      "==================================\u001B[1m Ai Message \u001B[0m==================================\n",
      "\n",
      "Hi Bob! It sounds like you live in San Francisco. For any news or information related to SF, I can suggest checking out some of these reputable sources:\n",
      "\n",
      "* The San Francisco Chronicle (https://www.sfchronicle.com/) for exclusive Bay Area and San Francisco breaking news, sports, tech, and food and wine coverage.\n",
      "* The San Francisco Gate (https://www.sfgate.com/) for your San Francisco Bay Area local news source with latest in sports, culture, weather, food and drink, politics, real estate, Lake Tahoe and California.\n",
      "\n",
      "Let me know if I can help you find anything specific or answer any questions you may have!\n"
     ]
    }
   ],
   "source": [
    "# Use the agent\n",
    "config = {\"configurable\": {\"thread_id\": \"abc123\"}}\n",
    "for step in agent_executor.stream(\n",
    "    {\"messages\": [HumanMessage(content=\"hi im bob! and i live in sf\")]},\n",
    "    config,\n",
    "    stream_mode=\"values\",\n",
    "):\n",
    "    step[\"messages\"][-1].pretty_print()"
   ],
   "metadata": {
    "collapsed": false,
    "ExecuteTime": {
     "end_time": "2025-03-05T06:38:58.222320Z",
     "start_time": "2025-03-05T06:38:43.238448Z"
    }
   },
   "id": "5808b4de2e04d9e3",
   "execution_count": 7
  },
  {
   "cell_type": "code",
   "outputs": [
    {
     "name": "stdout",
     "output_type": "stream",
     "text": [
      "================================\u001B[1m Human Message \u001B[0m=================================\n",
      "\n",
      "whats the weather where I live?\n",
      "==================================\u001B[1m Ai Message \u001B[0m==================================\n",
      "Tool Calls:\n",
      "  tavily_search_results_json (3472f5b6-a648-4afe-b56a-b16ab7c40e6a)\n",
      " Call ID: 3472f5b6-a648-4afe-b56a-b16ab7c40e6a\n",
      "  Args:\n",
      "    query: San Francisco weather\n",
      "=================================\u001B[1m Tool Message \u001B[0m=================================\n",
      "Name: tavily_search_results_json\n",
      "\n",
      "[{\"url\": \"https://www.weatherapi.com/\", \"content\": \"{'location': {'name': 'San Francisco', 'region': 'California', 'country': 'United States of America', 'lat': 37.775, 'lon': -122.4183, 'tz_id': 'America/Los_Angeles', 'localtime_epoch': 1741156867, 'localtime': '2025-03-04 22:41'}, 'current': {'last_updated_epoch': 1741156200, 'last_updated': '2025-03-04 22:30', 'temp_c': 12.8, 'temp_f': 55.0, 'is_day': 0, 'condition': {'text': 'Partly cloudy', 'icon': '//cdn.weatherapi.com/weather/64x64/night/116.png', 'code': 1003}, 'wind_mph': 6.0, 'wind_kph': 9.7, 'wind_degree': 28, 'wind_dir': 'NNE', 'pressure_mb': 1021.0, 'pressure_in': 30.14, 'precip_mm': 0.0, 'precip_in': 0.0, 'humidity': 74, 'cloud': 75, 'feelslike_c': 12.0, 'feelslike_f': 53.6, 'windchill_c': 10.5, 'windchill_f': 50.8, 'heatindex_c': 11.0, 'heatindex_f': 51.7, 'dewpoint_c': 9.3, 'dewpoint_f': 48.7, 'vis_km': 16.0, 'vis_miles': 9.0, 'uv': 0.0, 'gust_mph': 9.6, 'gust_kph': 15.5}}\"}, {\"url\": \"https://weathershogun.com/weather/usa/ca/san-francisco/480/march/2025-03-05\", \"content\": \"San Francisco, California Weather: Wednesday, March 5, 2025. Cloudy weather, overcast skies with clouds. Day 59°. Night 48°.\"}]\n",
      "==================================\u001B[1m Ai Message \u001B[0m==================================\n",
      "\n",
      "Hi Bob! According to the latest weather updates, it's currently a partly cloudy day in San Francisco with a temperature of around 12.8°C (55°F). The wind is blowing at a speed of about 6 mph from the northeast, and there's no precipitation expected. It's going to be a bit cool tonight, with temperatures dipping down to around 48°F.\n",
      "\n",
      "If you're looking for more detailed or up-to-date weather forecasts, I recommend checking out reputable sources like:\n",
      "\n",
      "* Weather API (https://www.weatherapi.com/)\n",
      "* Weathershogun (https://weathershogun.com/weather/usa/ca/san-francisco/480/march/2025-03-05)\n",
      "\n",
      "Let me know if you have any other questions or need further assistance!\n"
     ]
    }
   ],
   "source": [
    "for step in agent_executor.stream(\n",
    "    {\"messages\": [HumanMessage(content=\"whats the weather where I live?\")]},\n",
    "    config,\n",
    "    stream_mode=\"values\",\n",
    "):\n",
    "    step[\"messages\"][-1].pretty_print()"
   ],
   "metadata": {
    "collapsed": false,
    "ExecuteTime": {
     "end_time": "2025-03-05T06:41:18.271071Z",
     "start_time": "2025-03-05T06:41:03.511296Z"
    }
   },
   "id": "d1037e746e24c7fc",
   "execution_count": 8
  },
  {
   "cell_type": "markdown",
   "source": [
    "简单定义一个calculatot工具"
   ],
   "metadata": {
    "collapsed": false
   },
   "id": "f9a5c9e5230caef0"
  },
  {
   "cell_type": "code",
   "outputs": [],
   "source": [
    "from langchain.tools import Tool\n",
    "from pydantic import BaseModel, Field\n",
    "\n",
    "\n",
    "class SimpleCalculatorTool(BaseModel):\n",
    "    def __init__(self):\n",
    "        name: str = Field(default=\"simple_calculator_tool\")\n",
    "        description: str = Field(default=\"This tool performs basic arithmetic operations (add, subtract, multiply, divide).\")\n",
    "    \n",
    "\n",
    "    def _run(self, operation: str, x: float, y: float) -> float:\n",
    "        if operation == \"add\":\n",
    "            return x + y\n",
    "        elif operation == \"subtract\":\n",
    "            return x - y\n",
    "        elif operation == \"multiply\":\n",
    "            return x * y\n",
    "        elif operation == \"divide\":\n",
    "            if y == 0:\n",
    "                raise ValueError(\"Cannot divide by zero\")\n",
    "            return x / y\n",
    "        else:\n",
    "            raise ValueError(\"Invalid operation\")\n",
    "\n",
    "    def _arun(self, operation: str, x: float, y: float) -> float:\n",
    "        # 异步执行时可以直接调用同步的 _run 方法\n",
    "        return self._run(operation, x, y)\n",
    "    \n",
    "calculator  = SimpleCalculatorTool()\n"
   ],
   "metadata": {
    "collapsed": false,
    "ExecuteTime": {
     "end_time": "2025-03-05T08:06:25.010339Z",
     "start_time": "2025-03-05T08:06:25.004879Z"
    }
   },
   "id": "d991e4f1ad83e646",
   "execution_count": 33
  },
  {
   "cell_type": "code",
   "outputs": [],
   "source": [
    "from langchain_core.tools import tool\n",
    "\n",
    "@tool\n",
    "def multiply(a: float, b: float) -> float:\n",
    "   \"\"\"Multiply two numbers.\"\"\"\n",
    "   return a * b"
   ],
   "metadata": {
    "collapsed": false,
    "ExecuteTime": {
     "end_time": "2025-03-05T08:14:34.355897Z",
     "start_time": "2025-03-05T08:14:34.348627Z"
    }
   },
   "id": "db9030ba44ed3c2a",
   "execution_count": 40
  },
  {
   "cell_type": "code",
   "outputs": [],
   "source": [
    "# Create the agent\n",
    "memory_calculator = MemorySaver()\n",
    "\n",
    "tools_calculator= [multiply]\n",
    "\n",
    "agent_calculator = create_react_agent(model, \n",
    "                                      tools_calculator)"
   ],
   "metadata": {
    "collapsed": false,
    "ExecuteTime": {
     "end_time": "2025-03-05T08:14:39.064624Z",
     "start_time": "2025-03-05T08:14:39.052739Z"
    }
   },
   "id": "4383b896e929ef9c",
   "execution_count": 41
  },
  {
   "cell_type": "code",
   "outputs": [
    {
     "name": "stdout",
     "output_type": "stream",
     "text": [
      "================================\u001B[1m Human Message \u001B[0m=================================\n",
      "\n",
      "计算300的25%\n",
      "==================================\u001B[1m Ai Message \u001B[0m==================================\n",
      "Tool Calls:\n",
      "  multiply (0a89a8bf-3a13-4c57-b393-9bf1155754b5)\n",
      " Call ID: 0a89a8bf-3a13-4c57-b393-9bf1155754b5\n",
      "  Args:\n",
      "    a: 300\n",
      "    b: 0.25\n",
      "=================================\u001B[1m Tool Message \u001B[0m=================================\n",
      "Name: multiply\n",
      "\n",
      "75.0\n",
      "==================================\u001B[1m Ai Message \u001B[0m==================================\n",
      "\n",
      "300 的 25% 是 75.0。\n"
     ]
    }
   ],
   "source": [
    "for step in agent_calculator.stream(\n",
    "    {\"messages\": [HumanMessage(content=\"计算300的25%\")]},\n",
    "    config,\n",
    "    stream_mode=\"values\",\n",
    "):\n",
    "    step[\"messages\"][-1].pretty_print()"
   ],
   "metadata": {
    "collapsed": false,
    "ExecuteTime": {
     "end_time": "2025-03-05T08:14:45.522848Z",
     "start_time": "2025-03-05T08:14:41.698464Z"
    }
   },
   "id": "1d6deb84c5fca61f",
   "execution_count": 42
  },
  {
   "cell_type": "code",
   "outputs": [],
   "source": [],
   "metadata": {
    "collapsed": false
   },
   "id": "7311dad2bae95431"
  }
 ],
 "metadata": {
  "kernelspec": {
   "display_name": "Python 3",
   "language": "python",
   "name": "python3"
  },
  "language_info": {
   "codemirror_mode": {
    "name": "ipython",
    "version": 2
   },
   "file_extension": ".py",
   "mimetype": "text/x-python",
   "name": "python",
   "nbconvert_exporter": "python",
   "pygments_lexer": "ipython2",
   "version": "2.7.6"
  }
 },
 "nbformat": 4,
 "nbformat_minor": 5
}
