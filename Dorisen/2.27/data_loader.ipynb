{
 "cells": [
  {
   "cell_type": "code",
   "outputs": [],
   "source": [
    "#import\n",
    "#.txt\n",
    "from langchain.document_loaders import TextLoader\n",
    "import os\n",
    "from langchain.document_loaders import CSVLoader\n",
    "# .pdf\n",
    "from langchain_community.document_loaders import PyPDFLoader\n",
    "# .json \n",
    "from langchain_community.document_loaders import JSONLoader\n",
    "from langchain.document_loaders import UnstructuredExcelLoader\n"
   ],
   "metadata": {
    "collapsed": false,
    "ExecuteTime": {
     "end_time": "2025-02-27T02:42:35.622172Z",
     "start_time": "2025-02-27T02:42:35.010604Z"
    }
   },
   "id": "289102e20f5e8e4d",
   "execution_count": 1
  },
  {
   "cell_type": "code",
   "execution_count": 18,
   "id": "initial_id",
   "metadata": {
    "collapsed": true,
    "ExecuteTime": {
     "end_time": "2025-02-27T03:03:54.536626Z",
     "start_time": "2025-02-27T03:03:48.573581Z"
    }
   },
   "outputs": [
    {
     "name": "stdout",
     "output_type": "stream",
     "text": [
      "JSON数据: [Document(metadata={'source': '/Users/dorisen/PycharmProjects/rag_test/AI-note/Dorisen/data/test_json.json', 'seq_num': 1}, page_content='{\"_type\": \"prompt\", \"input_variables\": [\"name\", \"what\"], \"template\": \"\\\\u7ed9\\\\u6211\\\\u8bb2\\\\u4e00\\\\u4e2a\\\\u5173\\\\u4e8e{name}\\\\u7684{what}\\\\u7684\\\\u6545\\\\u4e8b\"}')]\n",
      "文本数据: [Document(metadata={'source': '../data/test_txt.txt'}, page_content='这是一个txt测试文件')]\n",
      "CSV数据: page_content='name: The Lord of the Rings: The Return of the King\n",
      "year: 2003\n",
      "movie_rated: PG-13\n",
      "run_length: 3h 21min\n",
      "genres: Adventure; Drama; Fantasy;\n",
      "release_date: 17 December 2003 (USA)\n",
      "rating: 8.9\n",
      "num_raters: 1593859\n",
      "num_reviews: 3681' metadata={'source': '../data/test_csv.csv', 'row': 2}\n",
      "Excel数据: [Document(metadata={'source': '../data/test_xlsx.xlsx', 'file_directory': '../data', 'filename': 'test_xlsx.xlsx', 'last_modified': '2025-02-26T17:12:03', 'page_name': 'Sheet1', 'page_number': 1, 'text_as_html': '<table><tr><td>Name</td><td>Age</td><td>City</td></tr><tr><td>Alice</td><td>25</td><td>New York</td></tr><tr><td>Bob</td><td>30</td><td>Los Angeles</td></tr><tr><td>Charlie</td><td>35</td><td>Chicago</td></tr></table>', 'languages': ['eng'], 'filetype': 'application/vnd.openxmlformats-officedocument.spreadsheetml.sheet', 'category': 'Table', 'element_id': '81557391ef6412ecf7675dfd0af42364'}, page_content='Name Age City Alice 25 New York Bob 30 Los Angeles Charlie 35 Chicago')]\n",
      "PDF数据: [Document(metadata={'producer': 'GNU Ghostscript 6.51', 'creator': 'PyPDF', 'creationdate': '', 'source': '../data/test_pdf.pdf', 'total_pages': 4, 'page': 0, 'page_label': '1'}, page_content='APPROVED!!!\\nIntroduction \\nThe V irtual R eality M odeling L anguage (V R M L) is a language for describing m ulti-\\nparticipant interactive sim ulations -- virtual w orlds netw orked via the global Internet and \\nhyperlinked w ith the W orld W ide W eb. A ll aspects of virtual w orld display, interaction \\nand internetw orking can be specified using V R M L. It is the intention of its designers that \\nV R M L becom e the standard language for interactive sim ulation w ithin the W orld W ide \\nW eb.  \\nThe first version of V R M L allow s for the creation of virtual w orlds w ith lim ited \\ninteractive behavior. These w orlds can contain objects w hich have hyperlinks to other \\nw orlds, H TM L docum ents or other valid M IM E types. W hen the user selects an object \\nw ith a hyperlink, the appropriate M IM E view er is launched. W hen the user selects a link \\nto a V R M L docum ent from  w ithin a correctly configured W W W  brow ser, a V R M L \\nview er is launched. Thus V R M L view ers are the perfect com panion applications to \\nstandard W W W  brow sers for navigating and visualizing the W eb. Future versions of \\nV R M L w ill allow  for richer behaviors, including anim ations, m otion physics and real-\\ntim e m ulti-user interaction.  \\nThis docum ent specifies the features and syntax of V ersion 1.0 of V R M L.  \\nV R M L  M ission Statem ent \\nThe history of the developm ent of the Internet has had three distinct phases; first, the \\ndevelopm ent of the TC P/IP infrastructure w hich allow ed docum ents and data to be stored \\nin a proxim ally independent w ay; that is, Internet provided a layer of abstraction betw een \\ndata sets and the hosts w hich m anipulated them . W hile this abstraction w as useful, it w as \\nalso confusing; w ithout any clear sense of \"w hat w ent w here\", access to Internet w as \\nrestricted to the class of sysops/net surfers w ho could m aintain internal cognitive m aps of \\nthe data space.  \\nN ext, Tim  B erners-Lee\\'s w ork at C ER N , w here he developed the hyperm edia system  \\nknow n as W orld W ide W eb, added another layer of abstraction to the existing structure. \\nThis abstraction provided an \"addressing\" schem e, a unique identifier (the U niversal \\nR esource Locator), w hich could tell anyone \"w here to go and how  to get there\" for any \\npiece of data w ithin the W eb. W hile useful, it lacked dim ensionality; there\\'s no there \\nthere w ithin the w eb, and the only type of navigation perm issible (other than surfing) is \\nby direct reference. In other w ords, I can only tell you how  to get to the V R M L Forum  \\nhom e page by saying, \"http://w w w .w ired.com /\", w hich is not hum an-centered data. In'), Document(metadata={'producer': 'GNU Ghostscript 6.51', 'creator': 'PyPDF', 'creationdate': '', 'source': '../data/test_pdf.pdf', 'total_pages': 4, 'page': 1, 'page_label': '2'}, page_content='APPROVED!!!\\nfact, I need to m ake an effort to rem em ber it at all. So, w hile the W orld W ide W eb \\nprovides a retrieval m echanism  to com plem ent the existing storage m echanism , it leaves \\na lot to be desired, particularly for hum an beings.  \\nFinally, w e m ove to \"perceptualized\" Internetw orks, w here the data has been sensualized, \\nthat is, rendered sensually. If som ething is represented sensually, it is possible to m ake \\nsense of it. V R M L is an attem pt (how  successful, only tim e and effort w ill tell) to place \\nhum ans at the center of the Internet, ordering its universe to our w him s. In order to do \\nthat, the m ost im portant single elem ent is a standard that defines the particularities of \\nperception. V irtual R eality M odeling Language is that standard, designed to be a \\nuniversal description language for m ulti-participant sim ulations.  \\nThese three phases, storage, retrieval, and perceptualization are analogous to the hum an \\nprocess of consciousness, as expressed in term s of sem antics and cognitive science. \\nEvents occur and are recorded (m em ory); inferences are draw n from  m em ory \\n(associations), and from  sets of related events, m aps of the universe are created (cognitive \\nperception). W hat is im portant to rem em ber is that the m ap is not the territory, and w e \\nshould avoid becom ing trapped in any single representation or w orld-view . A lthough w e \\nneed to design to avoid disorientation, w e should alw ays push the envelope in the kinds \\nof experience w e can bring into m anifestation!  \\nThis docum ent is the living proof of the success of a process that w as com m itted to being \\nopen and flexible, responsive to the needs of a grow ing W eb com m unity. R ather than re-\\ninvent the w heel, w e have adapted an existing specification (O pen Inventor) as the basis \\nfrom  w hich our ow n w ork can grow , saving years of design w ork and perhaps m any \\nm istakes. N ow  our real w ork can begin; that of rendering our noospheric space.  \\nH istory \\nV R M L w as conceived in the spring of 1994 at the first annual W orld W ide W eb \\nC onference in G eneva, Sw itzerland. Tim  B erners-Lee and D ave R aggett organized a \\nB irds-of-a-Feather (B O F) session to discuss V irtual R eality interfaces to the W orld W ide \\nW eb. Several B O F attendees described projects already underw ay to build three \\ndim ensional graphical visualization tools w hich interoperate w ith the W eb. A ttendees \\nagreed on the need for these tools to have a com m on language for specifying 3D  scene \\ndescription and W W W  hyperlinks -- an analog of H TM L for virtual reality. The term  \\nV irtual R eality M arkup Language (V R M L) w as coined, and the group resolved to begin \\nspecification w ork after the conference. The w ord \\'M arkup\\' w as later changed to \\n\\'M odeling\\' to reflect the graphical nature of V R M L.'), Document(metadata={'producer': 'GNU Ghostscript 6.51', 'creator': 'PyPDF', 'creationdate': '', 'source': '../data/test_pdf.pdf', 'total_pages': 4, 'page': 2, 'page_label': '3'}, page_content='APPROVED!!!\\nShortly after the G eneva B O F session, the w w w -vrm l m ailing list w as created to discuss \\nthe developm ent of a specification for the first version of V R M L. The response to the list \\ninvitation w as overw helm ing: w ithin a w eek, there w ere over a thousand m em bers. A fter \\nan initial settling-in period, list m oderator M ark Pesce of Labyrinth G roup announced his \\nintention to have a draft version of the specification ready by the W W W  Fall 1994 \\nconference, a m ere five m onths aw ay. There w as general agreem ent on the list that, w hile \\nthis schedule w as aggressive, it w as achievable provided that the requirem ents for the \\nfirst version w ere not too am bitious and that V R M L could be adapted from  an existing \\nsolution. The list quickly agreed upon a set of requirem ents for the first version, and \\nbegan a search for technologies w hich could be adapted to fit the needs of V R M L.  \\nThe search for existing technologies turned up a several w orthw hile candidates. A fter \\nm uch deliberation the list cam e to a consensus: the O pen Inventor A SC II File Form at \\nfrom  Silicon G raphics, Inc. The Inventor File Form at supports com plete descriptions of \\n3D  scenes w ith polygonally rendered objects, lighting, m aterials, am bient properties and \\nrealism  effects. A  subset of the Inventor File Form at, w ith extensions to support \\nnetw orking, form s the basis of V R M L. G avin B ell of Silicon G raphics has adapted the \\nInventor File Form at for V R M L, w ith design input from  the m ailing list. SG I has publicly \\nstated that the file form at is available for use in the open m arket, and have contributed a \\nfile form at parser into the public dom ain to bootstrap V R M L view er developm ent.'), Document(metadata={'producer': 'GNU Ghostscript 6.51', 'creator': 'PyPDF', 'creationdate': '', 'source': '../data/test_pdf.pdf', 'total_pages': 4, 'page': 3, 'page_label': '4'}, page_content='APPROVED!!!\\nA Graphical Representation of Inverse VRML Uptake\\nChange the number in red below to adjust for download rate and/or bandwidth.\\n1 The number 1 represents an engineer with an \"average\" cube * \\nCF Min\\nfsw Air EANx \\n32%\\nEANx \\n36%\\n80.0 149.12 0\\n61.4 114.43 10\\n49.8 92.846 20\\n41.9 78.102 30 180\\n36.2 67.402 40 120\\n31.8 59.275 50 80.0 147.0 192.0\\n28.4 52.9 60 57.0 92.0 123.0\\n25.6 47.774 70 40.0 65.0 79.0\\n23.4 43.543 80 30.0 49.0 59.0\\n21.5 40.001 90 24.0 37.0 45.0\\n19.9 37 100 19.0 30.0 35.0\\n18.5 34.409 110 16.0 25.0 29.0\\n17.3 32.154 120 13.0 20.0 n/a\\n16.2 30.178 130 10.0 17.0 n/a\\n15.1 28.202 140 8.0 n/a n/a\\n0\\n20\\n40\\n60\\n80\\n100\\n120\\n140\\n0\\n10\\n20\\n30\\n40\\n50\\n60\\n70\\n80\\n90\\n100\\n110\\n120\\n130\\n140\\nDays after download\\nInverse usage\\nProgrammers\\nTechnical Writers\\nQA\\nOther\\n0\\n10\\n20\\n30\\n40\\n50\\n60\\n70\\n80\\n90\\n50\\n60\\n70\\n80\\n90\\n100\\n110\\n120\\n130\\n140\\nDays after download\\nInverse log usage\\nArtists\\nMusicians\\nPoliticians\\nDentists')]\n"
     ]
    }
   ],
   "source": [
    "class multi_FileLoader:\n",
    "    def __init__(self, file_path: str):\n",
    "        \"\"\"\n",
    "        初始化\n",
    "        :param file_path: 文件路径\n",
    "        \"\"\"\n",
    "        self.file_path = file_path\n",
    "        self.file = None\n",
    "        self.loader = None\n",
    "        \n",
    "\n",
    "    def _get_loader(self):\n",
    "        \"\"\"\n",
    "        加载loader\n",
    "        \"\"\"\n",
    "        try:\n",
    "            file_extension = os.path.splitext(self.file_path)[1].lower()\n",
    "            if file_extension == '.md' or file_extension == '.txt':\n",
    "                self.loader = self._text_loder()\n",
    "            elif file_extension == '.json':\n",
    "                self.loader = self._json_loder()\n",
    "            elif file_extension == '.csv':\n",
    "                self.loader = self._csv_loder()\n",
    "            elif file_extension == '.xlsx':\n",
    "                self.loader = self._xlsx_loder()\n",
    "            elif file_extension == '.pdf':\n",
    "                self.loader = self._pdf_loder()\n",
    "            else:\n",
    "                raise ValueError(f\"不支持的文件类型: {file_extension}\")\n",
    "        except Exception as e:\n",
    "            print(f\"加载文件失败: {e}\")\n",
    "\n",
    "\n",
    "    def _text_loder(self):\n",
    "        return TextLoader(self.file_path)\n",
    "    \n",
    "    \n",
    "    def _json_loder(self):\n",
    "        return JSONLoader(\n",
    "            file_path=self.file_path,\n",
    "            jq_schema=\".\",\n",
    "            text_content=False,\n",
    "        )\n",
    "    \n",
    "    def _csv_loder(self):\n",
    "        return CSVLoader(self.file_path)\n",
    "    \n",
    "    def _xlsx_loder(self):\n",
    "        return UnstructuredExcelLoader(\n",
    "            self.file_path,\n",
    "            mode=\"elements\")\n",
    "    \n",
    "    def _pdf_loder(self):\n",
    "        return PyPDFLoader(self.file_path)\n",
    "    \n",
    "    def load(self):\n",
    "        try:\n",
    "            self._get_loader()\n",
    "            return self.loader.load()\n",
    "        except Exception as e:\n",
    "            print(f\"加载文件失败: {e}\")\n",
    "\n",
    "\n",
    "# 示例1：加载一个JSON文件\n",
    "file_loader_json = multi_FileLoader('../data/test_json.json')  # 传入JSON文件路径\n",
    "data_json = file_loader_json.load()\n",
    "print(\"JSON数据:\", data_json)\n",
    "\n",
    "# 示例2：加载一个文本文件\n",
    "file_loader_txt = multi_FileLoader('../data/test_txt.txt')  # 传入文本文件路径\n",
    "data_txt = file_loader_txt.load()\n",
    "print(\"文本数据:\", data_txt)\n",
    "\n",
    "# 示例3：加载一个CSV文件\n",
    "file_loader_csv = multi_FileLoader('../data/test_csv.csv')  # 传入CSV文件路径\n",
    "data_csv = file_loader_csv.load()\n",
    "print(\"CSV数据:\", data_csv[2])\n",
    "\n",
    "\n",
    "# 示例4：加载一个Excel文件\n",
    "file_loader_xls = multi_FileLoader('../data/test_xlsx.xlsx')  # 传入Excel文件路径\n",
    "data_xls = file_loader_xls.load()\n",
    "print(\"Excel数据:\", data_xls)\n",
    "\n",
    "# 示例5：加载一个PDF文件\n",
    "file_loader_pdf = multi_FileLoader('../data/test_pdf.pdf')  # 传入PDF文件路径\n",
    "data_pdf = file_loader_pdf.load()\n",
    "print(\"PDF数据:\", data_pdf)"
   ]
  },
  {
   "cell_type": "code",
   "outputs": [],
   "source": [],
   "metadata": {
    "collapsed": false
   },
   "id": "cec0b82ba4fe7451"
  }
 ],
 "metadata": {
  "kernelspec": {
   "display_name": "Python 3",
   "language": "python",
   "name": "python3"
  },
  "language_info": {
   "codemirror_mode": {
    "name": "ipython",
    "version": 2
   },
   "file_extension": ".py",
   "mimetype": "text/x-python",
   "name": "python",
   "nbconvert_exporter": "python",
   "pygments_lexer": "ipython2",
   "version": "2.7.6"
  }
 },
 "nbformat": 4,
 "nbformat_minor": 5
}
