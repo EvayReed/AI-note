{
 "cells": [
  {
   "cell_type": "markdown",
   "source": [
    "# chroma\n",
    "\n",
    "Chroma的目标是帮助用户更加便捷地构建大模型应用，更加轻松的将知识（knowledge）、事实（facts）和技能（skills）等我们现实世界中的文档整合进大模型中。\n",
    "\n",
    "Chroma提供的工具：\n",
    "\n",
    "- 存储文档数据和它们的元数据：store embeddings and their metadata\n",
    "- 嵌入：embed documents and queries\n",
    "- 搜索： search embeddings\n",
    "\n",
    "Chroma的设计优先考虑：\n",
    "\n",
    "- 足够简单并且提升开发者效率：simplicity and developer productivity\n",
    "- 搜索之上再分析：analysis on top of search\n",
    "- 追求快（性能）： it also happens to be very quick"
   ],
   "metadata": {
    "collapsed": false
   },
   "id": "dcc3a5c7ee0f9533"
  },
  {
   "cell_type": "code",
   "outputs": [],
   "source": [
    "import chromadb\n",
    "# setup Chroma in-memory, for easy prototyping. Can add persistence easily!\n",
    "client = chromadb.Client()\n",
    "\n",
    "# Create collection. get_collection, get_or_create_collection, delete_collection also available!\n",
    "collection = client.create_collection(\"all-my-documents\")\n",
    "\n",
    "# Add docs to the collection. Can also update and delete. Row-based API coming soon!\n",
    "collection.add(\n",
    "    documents=[\"This is document1\", \"This is document2\"], # we handle tokenization, embedding, and indexing automatically. You can skip that and add your own embeddings as well\n",
    "    metadatas=[{\"source\": \"notion\"}, {\"source\": \"google-docs\"}], # filter on these!\n",
    "    ids=[\"doc1\", \"doc2\"], # unique for each doc\n",
    ")\n",
    "\n",
    "# Query/search 2 most similar results. You can also .get by id\n",
    "results = collection.query(\n",
    "    query_texts=[\"This is a query document\"],\n",
    "    n_results=2,\n",
    "    # where={\"metadata_field\": \"is_equal_to_this\"}, # optional filter\n",
    "    # where_document={\"$contains\":\"search_string\"}  # optional filter\n",
    ")"
   ],
   "metadata": {
    "collapsed": false,
    "ExecuteTime": {
     "end_time": "2025-02-27T01:59:03.804323Z",
     "start_time": "2025-02-27T01:59:01.560744Z"
    }
   },
   "id": "431c347b2d65a4d4",
   "execution_count": 1
  },
  {
   "cell_type": "code",
   "outputs": [
    {
     "name": "stdout",
     "output_type": "stream",
     "text": [
      "{'ids': [['doc1', 'doc2']], 'embeddings': None, 'documents': [['This is document1', 'This is document2']], 'uris': None, 'data': None, 'metadatas': [[{'source': 'notion'}, {'source': 'google-docs'}]], 'distances': [[0.902620792388916, 1.0357502698898315]], 'included': [<IncludeEnum.distances: 'distances'>, <IncludeEnum.documents: 'documents'>, <IncludeEnum.metadatas: 'metadatas'>]}\n"
     ]
    }
   ],
   "source": [
    "print(results)"
   ],
   "metadata": {
    "collapsed": false,
    "ExecuteTime": {
     "end_time": "2025-02-27T01:59:22.743550Z",
     "start_time": "2025-02-27T01:59:22.740308Z"
    }
   },
   "id": "a247f98bba4a45a9",
   "execution_count": 2
  },
  {
   "cell_type": "markdown",
   "source": [
    "### **数据集（Collection）**\n",
    "\n",
    "collection是Chroma中一个重要的概念，下面的代码和注释简单介绍了collection的主要功能和使用方法。\n",
    "\n",
    "从客户端对象中获取名为“test”的集合对象。如果该集合不存在，则会抛出一个异常。"
   ],
   "metadata": {
    "collapsed": false
   },
   "id": "1547db28d455c8f5"
  },
  {
   "cell_type": "code",
   "outputs": [
    {
     "ename": "InvalidCollectionException",
     "evalue": "Collection test does not exist.",
     "output_type": "error",
     "traceback": [
      "\u001B[0;31m---------------------------------------------------------------------------\u001B[0m",
      "\u001B[0;31mInvalidCollectionException\u001B[0m                Traceback (most recent call last)",
      "Cell \u001B[0;32mIn[3], line 1\u001B[0m\n\u001B[0;32m----> 1\u001B[0m collection \u001B[38;5;241m=\u001B[39m client\u001B[38;5;241m.\u001B[39mget_collection(name\u001B[38;5;241m=\u001B[39m\u001B[38;5;124m\"\u001B[39m\u001B[38;5;124mtest\u001B[39m\u001B[38;5;124m\"\u001B[39m)\n",
      "File \u001B[0;32m/opt/anaconda3/envs/rag_test/lib/python3.12/site-packages/chromadb/api/client.py:171\u001B[0m, in \u001B[0;36mClient.get_collection\u001B[0;34m(self, name, embedding_function, data_loader)\u001B[0m\n\u001B[1;32m    162\u001B[0m \u001B[38;5;129m@override\u001B[39m\n\u001B[1;32m    163\u001B[0m \u001B[38;5;28;01mdef\u001B[39;00m \u001B[38;5;21mget_collection\u001B[39m(\n\u001B[1;32m    164\u001B[0m     \u001B[38;5;28mself\u001B[39m,\n\u001B[0;32m   (...)\u001B[0m\n\u001B[1;32m    169\u001B[0m     data_loader: Optional[DataLoader[Loadable]] \u001B[38;5;241m=\u001B[39m \u001B[38;5;28;01mNone\u001B[39;00m,\n\u001B[1;32m    170\u001B[0m ) \u001B[38;5;241m-\u001B[39m\u001B[38;5;241m>\u001B[39m Collection:\n\u001B[0;32m--> 171\u001B[0m     model \u001B[38;5;241m=\u001B[39m \u001B[38;5;28mself\u001B[39m\u001B[38;5;241m.\u001B[39m_server\u001B[38;5;241m.\u001B[39mget_collection(\n\u001B[1;32m    172\u001B[0m         name\u001B[38;5;241m=\u001B[39mname,\n\u001B[1;32m    173\u001B[0m         tenant\u001B[38;5;241m=\u001B[39m\u001B[38;5;28mself\u001B[39m\u001B[38;5;241m.\u001B[39mtenant,\n\u001B[1;32m    174\u001B[0m         database\u001B[38;5;241m=\u001B[39m\u001B[38;5;28mself\u001B[39m\u001B[38;5;241m.\u001B[39mdatabase,\n\u001B[1;32m    175\u001B[0m     )\n\u001B[1;32m    176\u001B[0m     \u001B[38;5;28;01mreturn\u001B[39;00m Collection(\n\u001B[1;32m    177\u001B[0m         client\u001B[38;5;241m=\u001B[39m\u001B[38;5;28mself\u001B[39m\u001B[38;5;241m.\u001B[39m_server,\n\u001B[1;32m    178\u001B[0m         model\u001B[38;5;241m=\u001B[39mmodel,\n\u001B[1;32m    179\u001B[0m         embedding_function\u001B[38;5;241m=\u001B[39membedding_function,\n\u001B[1;32m    180\u001B[0m         data_loader\u001B[38;5;241m=\u001B[39mdata_loader,\n\u001B[1;32m    181\u001B[0m     )\n",
      "File \u001B[0;32m/opt/anaconda3/envs/rag_test/lib/python3.12/site-packages/chromadb/telemetry/opentelemetry/__init__.py:150\u001B[0m, in \u001B[0;36mtrace_method.<locals>.decorator.<locals>.wrapper\u001B[0;34m(*args, **kwargs)\u001B[0m\n\u001B[1;32m    148\u001B[0m \u001B[38;5;28;01mglobal\u001B[39;00m tracer, granularity\n\u001B[1;32m    149\u001B[0m \u001B[38;5;28;01mif\u001B[39;00m trace_granularity \u001B[38;5;241m<\u001B[39m granularity:\n\u001B[0;32m--> 150\u001B[0m     \u001B[38;5;28;01mreturn\u001B[39;00m f(\u001B[38;5;241m*\u001B[39margs, \u001B[38;5;241m*\u001B[39m\u001B[38;5;241m*\u001B[39mkwargs)\n\u001B[1;32m    151\u001B[0m \u001B[38;5;28;01mif\u001B[39;00m \u001B[38;5;129;01mnot\u001B[39;00m tracer:\n\u001B[1;32m    152\u001B[0m     \u001B[38;5;28;01mreturn\u001B[39;00m f(\u001B[38;5;241m*\u001B[39margs, \u001B[38;5;241m*\u001B[39m\u001B[38;5;241m*\u001B[39mkwargs)\n",
      "File \u001B[0;32m/opt/anaconda3/envs/rag_test/lib/python3.12/site-packages/chromadb/api/segment.py:103\u001B[0m, in \u001B[0;36mrate_limit.<locals>.wrapper\u001B[0;34m(*args, **kwargs)\u001B[0m\n\u001B[1;32m    100\u001B[0m \u001B[38;5;129m@wraps\u001B[39m(func)\n\u001B[1;32m    101\u001B[0m \u001B[38;5;28;01mdef\u001B[39;00m \u001B[38;5;21mwrapper\u001B[39m(\u001B[38;5;241m*\u001B[39margs: Any, \u001B[38;5;241m*\u001B[39m\u001B[38;5;241m*\u001B[39mkwargs: Any) \u001B[38;5;241m-\u001B[39m\u001B[38;5;241m>\u001B[39m Any:\n\u001B[1;32m    102\u001B[0m     \u001B[38;5;28mself\u001B[39m \u001B[38;5;241m=\u001B[39m args[\u001B[38;5;241m0\u001B[39m]\n\u001B[0;32m--> 103\u001B[0m     \u001B[38;5;28;01mreturn\u001B[39;00m \u001B[38;5;28mself\u001B[39m\u001B[38;5;241m.\u001B[39m_rate_limit_enforcer\u001B[38;5;241m.\u001B[39mrate_limit(func)(\u001B[38;5;241m*\u001B[39margs, \u001B[38;5;241m*\u001B[39m\u001B[38;5;241m*\u001B[39mkwargs)\n",
      "File \u001B[0;32m/opt/anaconda3/envs/rag_test/lib/python3.12/site-packages/chromadb/rate_limit/simple_rate_limit/__init__.py:24\u001B[0m, in \u001B[0;36mSimpleRateLimitEnforcer.rate_limit.<locals>.wrapper\u001B[0;34m(*args, **kwargs)\u001B[0m\n\u001B[1;32m     22\u001B[0m \u001B[38;5;129m@wraps\u001B[39m(func)\n\u001B[1;32m     23\u001B[0m \u001B[38;5;28;01mdef\u001B[39;00m \u001B[38;5;21mwrapper\u001B[39m(\u001B[38;5;241m*\u001B[39margs: Any, \u001B[38;5;241m*\u001B[39m\u001B[38;5;241m*\u001B[39mkwargs: Any) \u001B[38;5;241m-\u001B[39m\u001B[38;5;241m>\u001B[39m Any:\n\u001B[0;32m---> 24\u001B[0m     \u001B[38;5;28;01mreturn\u001B[39;00m func(\u001B[38;5;241m*\u001B[39margs, \u001B[38;5;241m*\u001B[39m\u001B[38;5;241m*\u001B[39mkwargs)\n",
      "File \u001B[0;32m/opt/anaconda3/envs/rag_test/lib/python3.12/site-packages/chromadb/api/segment.py:316\u001B[0m, in \u001B[0;36mSegmentAPI.get_collection\u001B[0;34m(self, name, tenant, database)\u001B[0m\n\u001B[1;32m    314\u001B[0m     \u001B[38;5;28;01mreturn\u001B[39;00m existing[\u001B[38;5;241m0\u001B[39m]\n\u001B[1;32m    315\u001B[0m \u001B[38;5;28;01melse\u001B[39;00m:\n\u001B[0;32m--> 316\u001B[0m     \u001B[38;5;28;01mraise\u001B[39;00m InvalidCollectionException(\u001B[38;5;124mf\u001B[39m\u001B[38;5;124m\"\u001B[39m\u001B[38;5;124mCollection \u001B[39m\u001B[38;5;132;01m{\u001B[39;00mname\u001B[38;5;132;01m}\u001B[39;00m\u001B[38;5;124m does not exist.\u001B[39m\u001B[38;5;124m\"\u001B[39m)\n",
      "\u001B[0;31mInvalidCollectionException\u001B[0m: Collection test does not exist."
     ]
    }
   ],
   "source": [
    "collection = client.get_collection(name=\"test\") "
   ],
   "metadata": {
    "collapsed": false,
    "ExecuteTime": {
     "end_time": "2025-02-27T02:13:30.533017Z",
     "start_time": "2025-02-27T02:13:30.086618Z"
    }
   },
   "id": "b4f3664d89cfdc7e",
   "execution_count": 3
  },
  {
   "cell_type": "markdown",
   "source": [
    "一些常用的函数"
   ],
   "metadata": {
    "collapsed": false
   },
   "id": "4859b35e8be13516"
  },
  {
   "cell_type": "code",
   "outputs": [],
   "source": [
    "collection.delete()"
   ],
   "metadata": {
    "collapsed": false
   },
   "id": "5a8ed2452ecbe742"
  }
 ],
 "metadata": {
  "kernelspec": {
   "display_name": "Python 3",
   "language": "python",
   "name": "python3"
  },
  "language_info": {
   "codemirror_mode": {
    "name": "ipython",
    "version": 2
   },
   "file_extension": ".py",
   "mimetype": "text/x-python",
   "name": "python",
   "nbconvert_exporter": "python",
   "pygments_lexer": "ipython2",
   "version": "2.7.6"
  }
 },
 "nbformat": 4,
 "nbformat_minor": 5
}
