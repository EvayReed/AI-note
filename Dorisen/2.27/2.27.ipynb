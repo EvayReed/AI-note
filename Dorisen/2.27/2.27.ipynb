{
 "cells": [
  {
   "cell_type": "markdown",
   "source": [
    "## 熟悉数据库\n",
    "1.掌握使用MySQL命令行工具（mysql）连接数据库。\n",
    "2.学习常用的MySQL命令：SHOW DATABASES;、USE database;、SHOW TABLES; 等。\n",
    "3.理解MySQL的数据类型（如整数、浮动、字符、日期/时间、布尔类型等）。\n",
    "4.创建数据库、删除数据库。\n",
    "5.创建表、删除表、修改表结构。\n",
    "6.插入、更新、删除数据（INSERT、UPDATE、DELETE）。\n",
    "7.查询数据（SELECT、WHERE、ORDER BY、LIMIT）。\n",
    "## 了解RAG\n",
    "1.嵌入向量化\n",
    "2.向量存储\n",
    "3.向量检索"
   ],
   "metadata": {
    "collapsed": false
   },
   "id": "1ba59613f9d35710"
  },
  {
   "cell_type": "markdown",
   "source": [
    "# 1.掌握使用MySQL命令行工具（mysql）连接数据库。\n",
    "\n",
    "mysql -u root -p #输入密码成功后：\n",
    "\n",
    "Welcome to the MySQL monitor.  Commands end with ; or \\g.\n",
    "Your MySQL connection id is 11\n",
    "Server version: 9.2.0 MySQL Community Server - GPL\n",
    "\n",
    "Copyright (c) 2000, 2024, Oracle and/or its affiliates.\n",
    "\n",
    "Oracle is a registered trademark of Oracle Corporation and/or its\n",
    "affiliates. Other names may be trademarks of their respective\n",
    "owners.\n",
    "\n",
    "Type 'help;' or '\\h' for help. Type '\\c' to clear the current input statement.\n"
   ],
   "metadata": {
    "collapsed": false
   },
   "id": "4e12997c7ba4386d"
  },
  {
   "cell_type": "markdown",
   "source": [
    "# 2.学习常用的MySQL命令：SHOW DATABASES;、USE database;、SHOW TABLES; 等。\n",
    "#### SHOW DATABASES;##列出所有可用的数据库：\n",
    "\n",
    "mysql> SHOW DATABASES;\n",
    "+--------------------+\n",
    "| Database           |\n",
    "+--------------------+\n",
    "| information_schema |\n",
    "| mysql              |\n",
    "| performance_schema |\n",
    "| sys                |\n",
    "+--------------------+\n",
    "4 rows in set (0.01 sec)\n",
    "\n",
    "#### mysql> USE mysql #操作其中一个数据库\n",
    "Reading table information for completion of table and column names\n",
    "You can turn off this feature to get a quicker startup with -A\n",
    "\n",
    "Database changed\n",
    "\n",
    "#### mysql> SHOW TABLES; #查看当前数据库中的表：\n",
    "+------------------------------------------------------+\n",
    "| Tables_in_mysql                                      |\n",
    "+------------------------------------------------------+\n",
    "| columns_priv                                         |\n",
    "| component                                            |\n",
    "| db                                                   |\n",
    "| default_roles                                        |\n",
    "| engine_cost                                          |\n",
    "| func                                                 |\n",
    "| general_log                                          |\n",
    "| global_grants                                        |\n",
    "| gtid_executed                                        |\n",
    "| help_category                                        |\n",
    "| help_keyword                                         |\n",
    "| help_relation                                        |\n",
    "| help_topic                                           |\n",
    "| innodb_index_stats                                   |\n",
    "| innodb_table_stats                                   |\n",
    "| ndb_binlog_index                                     |\n",
    "| password_history                                     |\n",
    "| plugin                                               |\n",
    "| procs_priv                                           |\n",
    "| proxies_priv                                         |\n",
    "| replication_asynchronous_connection_failover         |\n",
    "| replication_asynchronous_connection_failover_managed |\n",
    "| replication_group_configuration_version              |\n",
    "| replication_group_member_actions                     |\n",
    "| role_edges                                           |\n",
    "| server_cost                                          |\n",
    "| servers                                              |\n",
    "| slave_master_info                                    |\n",
    "| slave_relay_log_info                                 |\n",
    "| slave_worker_info                                    |\n",
    "| slow_log                                             |\n",
    "| tables_priv                                          |\n",
    "| time_zone                                            |\n",
    "| time_zone_leap_second                                |\n",
    "| time_zone_name                                       |\n",
    "| time_zone_transition                                 |\n",
    "| time_zone_transition_type                            |\n",
    "| user                                                 |\n",
    "+------------------------------------------------------+\n",
    "38 rows in set (0.00 sec)\n",
    "\n",
    "#### mysql> exit #退出\n",
    "Bye\n"
   ],
   "metadata": {
    "collapsed": false
   },
   "id": "da759103b8ff30be"
  },
  {
   "cell_type": "markdown",
   "source": [
    "# 3.理解MySQL的数据类型（如整数、浮动、字符、日期/时间、布尔类型等）。\n",
    "类型名称\t字节数\t类型说明\n",
    "tinyint\t1\t带符号的范围-128127，无符号范围0255\n",
    "smallint\t2\t带符号的范围-2^15 ~ 2^15 - 1，无符号 2^16 - 1\n",
    "mediumint\t3\t带符号的范围-2^23 ~ 2^23 - 1，无符号 2^24 - 1\n",
    "int\t4\t带符号的范围-2^31 ~ 2^31 - 1，无符号 2^32 - 1\n",
    "bigint\t8\t带符号的范围-2^63 ~ 2^63 - 1，无符号 2^64 - 1\n",
    "float\t4\t表示单精度浮点数\n",
    "double\t8\t表示双精度浮点数\n",
    "real\t8/4\t默认就是 double。如果把 SQL 模式设定为启用“ REAL_AS_FLOAT ”，那么，MySQL 就认为real 是 float\n",
    "\n",
    "类型名称\t类型说明\n",
    "char\t固定长度字符串，L是可以存储的长度，单位为字符，最大长度值可以为255\n",
    "varchar\t可变长度字符串，L表示字符长度，最大长度65535个字节\n",
    "\n",
    "常用的日期有如下三个：\n",
    "\n",
    "date :日期 ‘yyyy-mm-dd’ ，占用三字节\n",
    "datetime 时间日期格式 ‘yyyy-mm-dd HH:ii:ss’ 表示范围从 1000 到 9999 ，占用八字节\n",
    "timestamp ：时间戳，从1970年开始的 yyyy-mm-dd HH:ii:ss 格式和 datetime完全一致，占用四字节\n",
    "\n",
    "ENUM类型也叫作枚举类型，ENUM类型的取值范围需要在定义字段时进行指定。设置字段值时，ENUM类型只允许从成员中选取单个值，不能一次选取多个值。其所需要的存储空间由定义ENUM类型时指定的成员个数决定。当ENUM类型包含1～255个成员时，需要1个字节的存储空间；当ENUM类型包含256～65535个成员时，需要2个字节的存储空间；ENUM类型的成员个数的上限为65535个\n",
    "\n",
    "SET表示一个字符串对象，可以包含0个或多个成员，但成员个数的上限为 64 。设置字段值时，可以取取值范围内的 0 个或多个值。当SET类型包含的成员个数不同时，其所占用的存储空间也是不同的。SET类型在存储数据时成员个数越多，其占用的存储空间越大。注意：SET类型在选取成员时，可以一次选择多个成员，这一点与ENUM类型不同\n"
   ],
   "metadata": {
    "collapsed": false
   },
   "id": "a9b9a43ec313890a"
  },
  {
   "cell_type": "markdown",
   "source": [
    "# 4.创建数据库、删除数据库。\n",
    "mysql> CREATE DATABASE TEST;\n",
    "Query OK, 1 row affected (0.00 sec)\n",
    "mysql> SHOW DATABASES;\n",
    "+--------------------+\n",
    "| Database           |\n",
    "+--------------------+\n",
    "| information_schema |\n",
    "| mysql              |\n",
    "| performance_schema |\n",
    "| sys                |\n",
    "| TEST               |\n",
    "+--------------------+\n",
    "5 rows in set (0.01 sec)\n",
    "\n",
    "mysql> DROP DATABASE test;\n",
    "Query OK, 0 rows affected (0.01 sec)\n",
    "\n",
    "mysql> show databases;\n",
    "+--------------------+\n",
    "| Database           |\n",
    "+--------------------+\n",
    "| information_schema |\n",
    "| mysql              |\n",
    "| performance_schema |\n",
    "| sys                |\n",
    "+--------------------+\n",
    "4 rows in set (0.00 sec)"
   ],
   "metadata": {
    "collapsed": false
   },
   "id": "a39dcaab8175302f"
  },
  {
   "cell_type": "markdown",
   "source": [],
   "metadata": {
    "collapsed": false
   },
   "id": "7fadd79431555441"
  },
  {
   "cell_type": "markdown",
   "source": [
    "# 5.创建表、删除表、修改表结构。\n",
    "mysql> CREATE TABLE users (\n",
    "    ->     id INT AUTO_INCREMENT PRIMARY KEY,\n",
    "    ->     username VARCHAR(50) NOT NULL,\n",
    "    ->     email VARCHAR(100) NOT NULL,\n",
    "    ->     birthdate DATE,\n",
    "    ->     is_active BOOLEAN DEFAULT TRUE\n",
    "    -> );\n",
    "Query OK, 0 rows affected (0.01 sec)\n",
    "\n",
    "mysql> show tables\n",
    "    -> ;\n",
    "+----------------+\n",
    "| Tables_in_test |\n",
    "+----------------+\n",
    "| users          |\n",
    "+----------------+\n",
    "1 row in set (0.00 sec)\n",
    "\n",
    "**判断users表是否存在，存在则删除表users**\n",
    "mysql> DROP TABLE IF EXISTS users;\n",
    "Query OK, 0 rows affected (0.01 sec)\n",
    "\n",
    "mysql> show tables;\n",
    "Empty set (0.00 sec)\n",
    "\n",
    "**修改表结构**\n",
    "mysql> DESCRIBE users;\n",
    "+-----------+--------------+------+-----+---------+----------------+\n",
    "| Field     | Type         | Null | Key | Default | Extra          |\n",
    "+-----------+--------------+------+-----+---------+----------------+\n",
    "| id        | int          | NO   | PRI | NULL    | auto_increment |\n",
    "| username  | varchar(50)  | NO   |     | NULL    |                |\n",
    "| email     | varchar(100) | NO   |     | NULL    |                |\n",
    "| birthdate | date         | YES  |     | NULL    |                |\n",
    "| is_active | tinyint(1)   | YES  |     | 1       |                |\n",
    "+-----------+--------------+------+-----+---------+----------------+\n",
    "5 rows in set (0.01 sec)\n",
    "**删掉表users的email列**\n",
    "mysql> ALTER TABLE users\n",
    "    -> DROP COLUMN email;\n",
    "Query OK, 0 rows affected (0.01 sec)\n",
    "Records: 0  Duplicates: 0  Warnings: 0\n",
    "\n",
    "mysql> describe users;\n",
    "+-----------+-------------+------+-----+---------+----------------+\n",
    "| Field     | Type        | Null | Key | Default | Extra          |\n",
    "+-----------+-------------+------+-----+---------+----------------+\n",
    "| id        | int         | NO   | PRI | NULL    | auto_increment |\n",
    "| username  | varchar(50) | NO   |     | NULL    |                |\n",
    "| birthdate | date        | YES  |     | NULL    |                |\n",
    "| is_active | tinyint(1)  | YES  |     | 1       |                |\n",
    "+-----------+-------------+------+-----+---------+----------------+\n",
    "4 rows in set (0.00 sec)\n",
    "\n",
    "**表users添加email列**\n",
    "mysql> ALTER TABLE users\n",
    "    -> ADD COLUMN email VARCHAR(255);\n",
    "Query OK, 0 rows affected (0.02 sec)\n",
    "Records: 0  Duplicates: 0  Warnings: 0\n",
    "\n",
    "mysql>  DESCRIBE users;\n",
    "+-----------+--------------+------+-----+---------+----------------+\n",
    "| Field     | Type         | Null | Key | Default | Extra          |\n",
    "+-----------+--------------+------+-----+---------+----------------+\n",
    "| id        | int          | NO   | PRI | NULL    | auto_increment |\n",
    "| username  | varchar(50)  | NO   |     | NULL    |                |\n",
    "| birthdate | date         | YES  |     | NULL    |                |\n",
    "| is_active | tinyint(1)   | YES  |     | 1       |                |\n",
    "| email     | varchar(255) | YES  |     | NULL    |                |\n",
    "+-----------+--------------+------+-----+---------+----------------+\n",
    "5 rows in set (0.00 sec)\n",
    "\n",
    "**修改表users的is_active列为int**\n",
    "mysql> ALTER TABLE users\n",
    "    -> MODIFY COLUMN is_active INT;\n",
    "Query OK, 0 rows affected (0.01 sec)\n",
    "Records: 0  Duplicates: 0  Warnings: 0\n",
    "\n",
    "mysql> DESCRIBE USERS;\n",
    "+-----------+--------------+------+-----+---------+----------------+\n",
    "| Field     | Type         | Null | Key | Default | Extra          |\n",
    "+-----------+--------------+------+-----+---------+----------------+\n",
    "| id        | int          | NO   | PRI | NULL    | auto_increment |\n",
    "| username  | varchar(50)  | NO   |     | NULL    |                |\n",
    "| birthdate | date         | YES  |     | NULL    |                |\n",
    "| is_active | int          | YES  |     | NULL    |                |\n",
    "| email     | varchar(255) | YES  |     | NULL    |                |\n",
    "+-----------+--------------+------+-----+---------+----------------+\n",
    "5 rows in set (0.00 sec)\n",
    "\n",
    "# 6.插入、更新、删除数据（INSERT、UPDATE、DELETE）。\n",
    "# 7.查询数据（SELECT、WHERE、ORDER BY、LIMIT）\n",
    "**插入数据**\n",
    "INSERT INTO table_name (column1, column2, column3, ...)\n",
    "VALUES (value1, value2, value3, ...);\n",
    "**插入了一个用户test,如果插入所有的列可以省略列名**\n",
    "mysql> INSERT INTO users (username, email, birthdate, is_active)\n",
    "    -> VALUES ('test', 'test@runoob.com', '1990-01-01', true);\n",
    "Query OK, 1 row affected (0.00 sec)\n",
    "**查看表users的全部内容**\n",
    "mysql> select * from users;\n",
    "+----+----------+------------+-----------+-----------------+\n",
    "| id | username | birthdate  | is_active | email           |\n",
    "+----+----------+------------+-----------+-----------------+\n",
    "|  1 | test     | 1990-01-01 |         1 | test@runoob.com |\n",
    "+----+----------+------------+-----------+-----------------+\n",
    "1 row in set (0.00 sec)\n",
    "\n",
    "**修改test用户的生日**\n",
    "mysql> UPDATE users\n",
    "    -> SET birthdate = '1995-01-01'\n",
    "    -> WHERE username = 'test';\n",
    "Query OK, 1 row affected (0.00 sec)\n",
    "Rows matched: 1  Changed: 1  Warnings: 0\n",
    "\n",
    "mysql> select * from users;\n",
    "+----+----------+------------+-----------+-----------------+\n",
    "| id | username | birthdate  | is_active | email           |\n",
    "+----+----------+------------+-----------+-----------------+\n",
    "|  1 | test     | 1995-01-01 |         1 | test@runoob.com |\n",
    "+----+----------+------------+-----------+-----------------+\n",
    "1 row in set (0.00 sec)\n",
    "\n",
    "**删除test用户**\n",
    "DELETE FROM users\n",
    "WHERE username = \"test\";\n",
    "\n",
    "mysql> DELETE FROM users\n",
    "    -> WHERE username = \"test\";\n",
    "Query OK, 1 row affected (0.00 sec)\n",
    "\n",
    "mysql> select * from users;\n",
    "Empty set (0.00 sec)\n",
    "\n",
    "**添加了一些测试数据**\n",
    "mysql> select * from users;\n",
    "+----+----------+------------+-----------+---------------------+\n",
    "| id | username | birthdate  | is_active | email               |\n",
    "+----+----------+------------+-----------+---------------------+\n",
    "|  2 | alice    | 1990-05-15 |         1 | alice@example.com   |\n",
    "|  3 | bob      | 1985-09-30 |         1 | bob@example.com     |\n",
    "|  4 | charlie  | 2000-01-01 |         0 | charlie@example.com |\n",
    "|  5 | david    | 1995-07-22 |         1 | david@example.com   |\n",
    "|  6 | eve      | 1992-11-10 |         0 | eve@example.com     |\n",
    "+----+----------+------------+-----------+---------------------+\n",
    "5 rows in set (0.00 sec)\n",
    "\n",
    "**按生日排序，默认为升序排列，可以指定：ASC 或 DESC**\n",
    "mysql> select * from users\n",
    "    -> order by birthdate;\n",
    "+----+----------+------------+-----------+---------------------+\n",
    "| id | username | birthdate  | is_active | email               |\n",
    "+----+----------+------------+-----------+---------------------+\n",
    "|  3 | bob      | 1985-09-30 |         1 | bob@example.com     |\n",
    "|  2 | alice    | 1990-05-15 |         1 | alice@example.com   |\n",
    "|  6 | eve      | 1992-11-10 |         0 | eve@example.com     |\n",
    "|  5 | david    | 1995-07-22 |         1 | david@example.com   |\n",
    "|  4 | charlie  | 2000-01-01 |         0 | charlie@example.com |\n",
    "+----+----------+------------+-----------+---------------------+\n",
    "5 rows in set (0.01 sec)\n",
    "\n",
    "mysql> select * from users\n",
    "    -> order by birthdate desc;\n",
    "+----+----------+------------+-----------+---------------------+\n",
    "| id | username | birthdate  | is_active | email               |\n",
    "+----+----------+------------+-----------+---------------------+\n",
    "|  4 | charlie  | 2000-01-01 |         0 | charlie@example.com |\n",
    "|  5 | david    | 1995-07-22 |         1 | david@example.com   |\n",
    "|  6 | eve      | 1992-11-10 |         0 | eve@example.com     |\n",
    "|  2 | alice    | 1990-05-15 |         1 | alice@example.com   |\n",
    "|  3 | bob      | 1985-09-30 |         1 | bob@example.com     |\n",
    "+----+----------+------------+-----------+---------------------+\n",
    "5 rows in set (0.00 sec)\n",
    "\n",
    "**limit n返回前n行结果，limit offset,n从第offset+1行返回n行**\n",
    "mysql> SELECT * FROM users\n",
    "    -> ORDER BY birthdate DESC\n",
    "    -> LIMIT 3;\n",
    "+----+----------+------------+-----------+---------------------+\n",
    "| id | username | birthdate  | is_active | email               |\n",
    "+----+----------+------------+-----------+---------------------+\n",
    "|  4 | charlie  | 2000-01-01 |         0 | charlie@example.com |\n",
    "|  5 | david    | 1995-07-22 |         1 | david@example.com   |\n",
    "|  6 | eve      | 1992-11-10 |         0 | eve@example.com     |\n",
    "+----+----------+------------+-----------+---------------------+\n",
    "3 rows in set (0.01 sec)\n"
   ],
   "metadata": {
    "collapsed": false
   },
   "id": "990247414f29969c"
  },
  {
   "cell_type": "markdown",
   "source": [
    "## 了解RAG\n",
    "1.嵌入向量化\n",
    "2.向量存储\n",
    "3.向量检索"
   ],
   "metadata": {
    "collapsed": false
   },
   "id": "7399734d757a20b7"
  },
  {
   "cell_type": "code",
   "outputs": [
    {
     "name": "stdout",
     "output_type": "stream",
     "text": [
      "documents nums: 1500\n"
     ]
    }
   ],
   "source": [
    "from langchain.text_splitter import CharacterTextSplitter\n",
    "from langchain.document_loaders import CSVLoader\n",
    "\n",
    "loader = CSVLoader(\"../data/test_csv.csv\")\n",
    "\n",
    "documents = loader.load()\n",
    "\n",
    "# 分割文档，按字符进行拆分\n",
    "text_splitter = CharacterTextSplitter(        \n",
    "    separator = \"\\n\\n\",#每个块以\"\\n\\n\"作为分割，默认的是这个\n",
    "    chunk_size = 300,#块长度\n",
    "    chunk_overlap  = 0,#块重叠\n",
    "    length_function = len,#计算文本长度的方法\n",
    ")\n",
    "\n",
    "documents_movie = text_splitter.split_documents(documents)\n",
    "\n",
    "print(\"documents nums:\", documents_movie.__len__())\n"
   ],
   "metadata": {
    "collapsed": false,
    "ExecuteTime": {
     "end_time": "2025-02-27T08:58:14.291149Z",
     "start_time": "2025-02-27T08:58:14.258187Z"
    }
   },
   "id": "77ad09152fd34f8",
   "execution_count": 8
  },
  {
   "cell_type": "code",
   "outputs": [
    {
     "data": {
      "text/plain": "Document(metadata={'source': '../data/test_csv.csv', 'row': 0}, page_content='name: Inception\\nyear: 2010\\nmovie_rated: PG-13\\nrun_length: 2h 28min\\ngenres: Action; Adventure; Sci-Fi;\\nrelease_date: 16 July 2010 (USA)\\nrating: 8.8\\nnum_raters: 1981675\\nnum_reviews: 3820')"
     },
     "execution_count": 9,
     "metadata": {},
     "output_type": "execute_result"
    }
   ],
   "source": [
    "documents_movie[0]"
   ],
   "metadata": {
    "collapsed": false,
    "ExecuteTime": {
     "end_time": "2025-02-27T08:58:29.846680Z",
     "start_time": "2025-02-27T08:58:29.841624Z"
    }
   },
   "id": "d7e21fe645d07dde",
   "execution_count": 9
  },
  {
   "cell_type": "code",
   "outputs": [
    {
     "data": {
      "text/plain": "['0aa5a35c-4936-48c2-af94-90e93533d9c8',\n 'da0cfe2c-561b-49ec-8ae3-ce16e18a17ff',\n '081bfb38-0394-4493-ad4a-1b6d391b838a',\n 'af388bfd-7209-4f7f-a42e-4e1754d2b45c',\n '8805c509-d302-49d0-a2ad-d8691a3dbe7f',\n '389c91e4-d417-489d-bfca-14e0379b29fd',\n 'd1cfe23e-4873-432b-91a0-5e9d417e8ea3',\n '022eed5c-a42e-44eb-95d5-37521aa91ba3',\n '5714ab3e-85db-4490-9ff8-4d3dde0b14cb',\n '5d38b6e7-2ecc-4a5c-bea2-387aef4f84c6',\n '0f20f471-d296-4261-ac1e-fe8392559590',\n '81fea8c6-5beb-4f11-aba6-3654c36c2a76',\n '9d511b00-cada-4265-9651-83489c0fd63f',\n 'f1505e98-e392-4e06-bee5-427ecaad0956',\n '06e05801-e833-476d-952c-0395af58aa0b',\n '2dea811b-e020-4262-8993-fa21e5ab9fa3',\n '2aef7432-6a32-4c82-bd5b-e94013942081',\n 'd3f81f0e-b471-47f2-b87a-cfc636a74621',\n 'cf89237a-ed2d-4e84-b8c7-7fd1ea2c32fd',\n '47217131-317b-444b-bbf3-1d25afe2e6a8',\n 'b06a0737-2a85-45cb-89ae-c556b6a853b0',\n '1e5fbed2-7191-4aa4-ab2a-440cda942aca',\n '074b644f-d742-47dd-8054-0d8b64a159eb',\n 'ec8dca27-b475-4189-bf03-bf9756095371',\n '29fa0fda-fbca-4080-afb5-a0dbeb9cb32a',\n '14088148-b09c-4719-9b38-d1f5874ef9d0',\n 'fae56073-5d41-4ac5-a91f-ca7e170e417c',\n 'fc8c5b64-16b1-44a4-9cf0-1e765721e59c',\n '74fcc422-382b-4913-a4f1-6177ee9af0a5',\n '5f84cda1-ebea-482a-a6fa-9f9437a40b7c',\n 'da9cf9b7-9a69-4743-bf48-e2eb09fc5869',\n 'd47a7481-81e5-4312-9ba3-5e0ad3cb30d7',\n 'b8239f3d-d000-43d8-90ef-84b068051074',\n 'ad3b84da-1fa1-430d-b50c-5a666761c393',\n '4af2ccbe-2a07-4a2c-8f40-43528ce71e80',\n '6cfe2104-d9a3-4fd1-9ccb-7687d1312765',\n 'cfa7a192-2c81-43d1-9586-ed64edc00d40',\n '23564bfe-8df5-4465-81ef-0c5a1cb3da46',\n '3d77a1db-0542-44e1-8291-47640a1f5c0d',\n '76f69e63-b0f0-4404-a365-885166fbdd5f',\n '1372c1c1-1398-41af-9105-887574bbaf94',\n '13041aca-e67e-427e-bc4f-5f28df0539c4',\n '1ec77918-cf60-40a3-a781-0bf3e2595c2d',\n 'cb432994-7330-4a06-9a7c-aa29447800da',\n 'bf184646-6a91-4e08-9337-df33853fdba8',\n 'd1c1d6d5-55f5-430f-b696-d6d46d107b4a',\n '1114aa55-8528-46a6-871f-e3af8cba8ae6',\n '116cd354-969e-450b-aac3-eb84c1c516a2',\n '0d3149a4-9bb4-4497-bd45-3bbae6d331af',\n '76c5bdcb-2e7d-4c80-aa10-0ac56a1c9296',\n 'e60aeda9-8757-49a7-ba7b-981d0fc13f55',\n '76f67266-4ab6-488a-b4f7-3840933b568e',\n '6c135bf4-33df-4837-88d1-3d138899e25d',\n '75e435fb-e768-45c5-88f3-6f4f1e8d4a4b',\n '1c24abf7-3cb3-4049-a90e-115436f7585d',\n '1abea1da-ffff-49eb-913f-51a1a1bdb2b1',\n '11baeb24-25c0-4bf1-9a4c-43df047f0425',\n 'f1ea7f88-f9f8-426d-b18a-5447642a2a11',\n 'ce8b6e61-c2df-4973-ab5a-59630ba76dff',\n '437a8a1c-eb22-4eae-b314-9960f0223302',\n 'a59bba18-42bd-43b4-92ab-3a1344495b30',\n '61669cb7-5a37-4e9d-a555-40e37bcaa6c9',\n '67a172e1-4181-404d-af8b-072481149dc2',\n '2276d65c-05fb-4fe1-ac67-4bb4f9cdbbd9',\n '2979897a-8316-4166-84fa-8c1c725dc8b9',\n '2b74b548-33d3-47ec-aeea-684a59544b51',\n 'e6269226-1b7d-46a3-8072-0de33bc27502',\n '619ac29c-ab7c-4693-ae41-0c6f37a89bdc',\n 'f2717362-7a83-4866-857a-e2f52d0e8db6',\n 'ccd30144-dd83-4c7c-9f00-f8d81be2800d',\n 'b9c5371b-fb50-40aa-b9e6-9305543d079e',\n '78acf9f7-0b21-401d-8306-9f9b58ac9ec7',\n '2b585e71-df98-473c-acf3-28d3336a452a',\n '675971f4-34c5-42ff-b0e7-ad8d09234dd2',\n 'b29eed01-b076-4c90-8072-81acaa24765a',\n '928385ee-cd69-420a-a7ac-d42ec42e33c8',\n '4cd11c50-13f3-4c1a-ba6d-9a3e1d268b56',\n '1f42171c-d4e2-4ef7-aa80-d12f2b79a804',\n '0871f310-254a-452d-9556-d2702bfcaee2',\n 'd9417f08-ba9c-41bc-aaad-a900e81dbe2e',\n '01f7a891-6341-4fa1-aea1-96598cdd93b0',\n 'b53cb34d-a3ee-4492-9832-e034d2f8b9e2',\n 'ee85a48b-2730-493d-9c31-7d2bdb4d29d9',\n '40f5df8c-c4b3-45ef-98af-468761e2a3a5',\n 'b081bf29-8f96-4a31-9f81-65bee64aa7d5',\n '68066768-27fa-40f6-a31a-69eef830af0c',\n 'abac3c5b-097d-4aef-a16b-95f24cd4ac4e',\n 'dd3ec7d3-3af2-4918-b78f-0a9d92c5f777',\n 'bacc33b4-2e97-471c-ae6b-afa67e2c22c1',\n 'd373aabb-b4cc-4a35-8198-48d95d71af4c',\n '4a114031-8a9b-4aca-a33d-252a13a643ab',\n '00af70ed-7bb7-4e17-8cd3-79849a85cd74',\n '28f192fb-b0f3-4f65-8558-9c724ed06b48',\n '0a7386c3-1b6e-4184-b36d-48ccbf6b85ba',\n '6aab4357-b7ff-4c18-8057-415844e8a7eb',\n '660afd31-5e65-48fc-a655-2a567d518e01',\n 'db083663-2c27-451d-8051-85beba47cf28',\n '1048019d-5a4f-4515-b878-68b480bf9682',\n 'd40e08a9-d068-4f7a-a090-136d8bb7e6d6',\n 'd19aaa1f-109e-4397-ab15-4b3edaa27355',\n '1c1ca4a9-ae9d-43c2-9ece-b517d0a35f3a',\n '7a88c89a-e9ac-4105-a2f2-17e6ee464d43',\n '62f73361-65e2-4c44-9e2f-3963a69b2584',\n '7d08a010-81ca-436a-9963-0d595b83a978',\n 'fd7b836e-ac92-4473-85b1-ea190e8e5400',\n '1d3a3708-29bf-44e8-a828-94cce6b52e96',\n 'df91ad6a-3368-47c2-8995-8982916d34ab',\n 'b4611080-adc5-4a31-b883-e654b70e5316',\n '627c158e-967b-4284-bcb5-5e4063643170',\n '5dc0b13c-3186-4cfe-b6f9-456d34d2d9c8',\n 'c83c05f9-0e68-437f-ad41-aad25bc910fb',\n '881c936a-dd81-4595-99fc-7481665ffb7b',\n 'd22fb32d-c148-4ca6-8859-6202cac85b26',\n '931a1bd2-4311-46c4-ab8d-247f49235817',\n '843e92ff-5bcd-410e-89ee-87e400d09de0',\n 'd72a2af0-5d5c-4d42-9c20-93c1a36bf613',\n 'd55b0ab6-e7c1-4ae0-918c-237ad6c3dbef',\n 'd4c8c7fa-47f2-4664-8014-e5fd1ac390c9',\n 'd6a26a41-3d4d-40d2-a5c7-e396de0c6de7',\n '78bc4015-2b37-4c2a-92c6-a58fcb7ce44c',\n 'e1af10cb-20f7-480c-8215-4f844de7b391',\n 'a5e80431-abe8-4b71-a066-89885dfbc076',\n 'dd84c2f9-d569-4c4b-afa3-8f47fe3a507b',\n '1d362284-2095-4899-ac2a-c87f4b3f11e3',\n 'cffbc014-82ae-4729-9fbd-7171da93512e',\n 'e6fe9d85-08e3-4519-8091-9229f14697b9',\n '819ab3e2-f065-4618-9acc-aa2e29cc9032',\n '924c531d-9849-423a-8f60-09049691b6a0',\n '84910cfd-5d63-4e0b-ab88-eb69426d644d',\n 'd3a95c5a-39ea-4f9a-a0ff-dc8f9c1bdfb0',\n 'fee9f5fe-5eb9-4583-84e3-bc09e841e6ac',\n '04cc6cbf-c4f3-4225-bc5b-65850e4e4df6',\n 'eef46a76-f0f9-457f-ab0d-0aba8de9d5a5',\n 'f99d8491-45eb-492e-80d4-9b5beeca9c1f',\n '6a122ca8-fdf1-4c13-9177-a8d08c4ed8c1',\n '29062827-49b2-4260-891f-bbeae5db3849',\n 'ee9b5c5e-322d-4514-a7ae-620b3679b34c',\n '11117a1f-34c5-407a-954c-523e882a2372',\n '4fcbadbb-3694-47ed-98e6-0ceab210e4c3',\n '9fb564af-4362-451b-8294-2f371538f7d6',\n '974286ed-3800-4511-9470-a5bd9597e5a7',\n '9aa47fd5-9f30-42ba-a3b2-bd796a118876',\n '08de85a8-2d2f-4080-afd2-b49f00dcf590',\n 'c0c0fc83-bd99-4d0d-90dd-a0f432abb3c8',\n '681383ae-a52e-4931-b8c2-8c6da54e69d2',\n '440d1ba9-798c-4fc5-a2ba-f2afed8a633f',\n '2b93ad68-571d-47a8-8523-142cf9efedf7',\n '6041e92f-413c-4223-bb63-d1ebb839039f',\n '942fa247-7aea-4a22-90fa-8a59104e0b46',\n 'd8b39917-f04b-4fd8-b52c-9dab17688e53',\n '5451566b-120b-47d1-86a2-28f8d66aee6b',\n '349ea1ff-8bb9-4c5c-bb5d-f407e1cd98fb',\n 'd1d7f97e-5d3b-4156-8e9a-c0fef313ee2c',\n '1ddaad5a-dbfa-4026-96f6-15806965def4',\n '32600563-1561-4068-b15d-69b2e44fc2ec',\n 'f0ab7b44-3e59-44dc-b3a2-886858ad1e5b',\n '91816988-8566-42df-aeb8-ed074834dd85',\n 'c64b98f3-4c91-4420-9777-6554326bc3aa',\n '1b6edee3-4f74-4bae-926f-467873e78277',\n 'b865e757-60c4-4347-9ae8-0d36d4dc488b',\n '30a30766-03fc-4d81-9499-acf7b6c6558c',\n 'c18a2863-59a7-448b-82f8-0e42d38d737b',\n '7facc173-ba07-4743-80a1-24b1493385ac',\n '6b661b3f-38cf-4cb9-8210-d1f5894edccf',\n 'e37c9b10-a77c-43b7-a4f0-8990f26d39e5',\n '20656e3a-5d05-4f33-b081-a63ffc3f572a',\n '7023eddf-56bc-471f-a6c8-509d314da176',\n '814d25d8-58d9-4f0c-9670-48f3ddb11736',\n '3389330b-3932-46e4-99e4-d0962309fb57',\n 'afbefeba-2b8a-4a6e-90a0-f6aaf8898c70',\n 'b5c6c54e-ef1c-463c-9726-9fc74187b272',\n '26e08b6c-337d-4f9e-b2d3-d2c358f0c61d',\n 'ff70d0a3-725c-469a-ae98-c52e73206316',\n '2fe00780-ec2e-4beb-8618-b1d69bd35edc',\n '10df0ece-7caf-43a4-9921-795ce517fb24',\n '940c2b35-d9d4-449b-b43e-9c337a7b77e9',\n '576b5104-738d-4d4d-bd1a-4837d4153747',\n '0a23f6c0-a9c2-46a5-9a97-f1c5fc7988ad',\n '5c68cf43-fd10-4931-b910-5d3c27cb9a2f',\n '5fc252d1-0969-4c62-9fce-901d38c8b651',\n '4c1b1c73-ecbb-4a57-87f7-93e957569b98',\n '3ae0e924-9a04-4371-b73a-388fe1bda74c',\n '48eafcbd-ac40-4d95-b89c-9c0b132489fc',\n '7641fbf4-1546-4a91-a83f-3d91b18506f1',\n '942e242f-8b87-4261-ae9c-a577b9a5acaf',\n '0c8c9a91-e713-432a-99b0-f0a899590889',\n '6696d623-35a2-4f8d-b15e-ff07b5495359',\n '04e90a66-946f-40dc-acbf-e9e4baf77ed5',\n 'a0efbe96-0332-4769-98c3-79f8414c8b14',\n '2e7a6940-d977-4da5-9806-e59be784d095',\n '290f7a0f-724f-4267-80aa-02cdfe3b705e',\n '49561be4-385a-4c83-ad8b-e0349aa45637',\n '4058246a-0a25-40f9-a405-14ccc7bd8f89',\n '02dd1767-432e-41f8-8b2f-008a43028e97',\n 'f6404023-f8d2-4910-91af-2b516f2e47a9',\n '1763aaf9-163e-46dc-a643-0006bd051a40',\n '253a605b-6d41-4a36-a66d-4050261a31c0',\n '8adbc296-a6cb-4e76-824b-496ffbc2ff47',\n '6543de0d-1a99-4f49-8c83-3f3d9b88750a',\n '5fd0bb1f-548c-475a-965e-1c954df048c1',\n 'c0e0a787-02ff-47f4-a091-9feffba437ea',\n '06c004e5-81a5-429b-a7ff-329e65bf56ab',\n '6c21a0e1-6c1e-4c7a-92bf-589cf0f14286',\n '5ad2c988-9cad-4844-9d33-b5968b00258f',\n 'f64e311f-3fe6-4189-81a3-4daee9edd149',\n '139e9e63-de79-4c7b-9dcc-cadd5ddbe5bd',\n '2a330026-55eb-4263-8324-1b1e5228c8a8',\n '5e0bc46b-1500-44d2-9dad-d56ab4ef3ce7',\n 'ae8eac72-beaf-4ffa-91a3-163966be6cba',\n '44660120-9b7d-4559-a8d1-a8a94c7080c5',\n '47580ed5-a2db-4395-8bc7-522ec8fb0c45',\n 'd0b9641f-5131-44ca-a89c-bc2241659554',\n '3b00b1bb-3129-4d8c-8783-2b4d0c4138f6',\n '683b22ab-91d5-4209-afcd-a8ba500d33e2',\n '767d71a2-9663-4940-9b61-854c0f9cf43b',\n '9e39b3e0-95f9-48fd-a590-b9f296aec08a',\n '3a6cf835-5ea3-4fcd-a91f-ba12edc10d5a',\n '0aa7f540-5ede-4c72-a719-82ab78e47eb2',\n 'b1e43f21-4f5a-4c49-a521-0b9705ff3f10',\n '52ab1513-dd55-44c5-9148-f1bcb15dfd1d',\n 'd63070a3-6475-40fa-8de3-51abf0f5fb9c',\n '2ea78e7a-cb5f-43e7-8874-135d29aab09c',\n 'e9e8d71c-9aac-43c2-b455-12c8bea47473',\n '77dec4e0-3194-4f04-8792-1654574fea58',\n '8abe8e82-0303-4267-b1af-7f22c7524f7d',\n '85c3b60f-3a7c-4fdd-8eba-8ab34e514420',\n '3fd525ee-e63e-446d-8faa-00dd034f04ee',\n '67302360-6029-44cf-92c6-b18e500806e1',\n 'f92f5a3a-1eee-41d4-9feb-6ad420e5da8e',\n 'ebc4f1d2-9273-455d-8854-1379fb24fdd5',\n '507921ce-a1a2-48a0-9d6b-51f0a2cd635c',\n 'fb782e5f-62ef-4a08-9870-e9c475b118af',\n 'e3e31b4f-916f-409a-8b19-d6e0545195ea',\n '8903e64f-c2a7-4cd4-9d45-1f653805b16d',\n '10134230-4a6c-4caa-887f-33f5b64eae12',\n 'c2057612-4fea-4262-a454-94e69b2cfe8c',\n 'a8e79a63-928e-42cb-ba47-68741c9ca3e6',\n '397961a8-6e46-4190-9af4-3303b70cb86b',\n 'dee35b8d-3e6e-4051-8a7a-4a5ed84ee5ae',\n '3a9da6ac-c8d8-444b-a880-879b1c981e3c',\n 'd5efe9a4-acd0-4e50-b35a-dfa4d7d36457',\n 'f5289141-6164-4335-a136-b6f6666c41bd',\n '3884cded-8b13-4df7-9638-441a93f9565f',\n '849c26a0-944d-4fc6-b5f8-ab4d314c468e',\n '275a644d-5d0a-41fb-8ddb-0884d0419084',\n 'a7b7a887-fc02-47e5-9c8e-c5fe380aad71',\n '2aa6273a-e129-4b12-9d6c-16de6b7cae26',\n '99d56e71-c4f3-4721-b9f4-d3242c150c61',\n '839f6349-5a0e-42d9-bf69-5bf947300d59',\n 'cae0987a-ec9f-4aff-8489-41928845b3d4',\n 'ed3d189a-21ce-46d2-a58c-87e12fa76087',\n '4280e2eb-8630-449b-803f-74c4afec9ff7',\n 'dc4717d1-3649-4d78-a71f-75491e57e665',\n 'e623ccc1-25a9-4551-85c9-15ea51cebfe2',\n '5272be66-0102-4e4b-b32b-656fc681868b',\n '1ced0cbd-edd2-493b-b9fc-43408667ce3e',\n '8240bb78-6d1a-4270-a7f7-b32acbd71522',\n '3ba32b46-42bc-4e76-a7d5-a3d6c907c55f',\n 'e3ff2f7a-d06c-4d3c-a7ef-d99c12349b0a',\n '15ec904e-440a-4d44-a919-6269a2a516f2',\n '85f6d7ba-4c9b-4f58-8f91-46415f6c4858',\n '05cdf56e-ad1a-4320-8542-b2f6ed42c457',\n '5e5a354c-2f80-4390-afc6-678677d4d23a',\n 'bfa0d4d9-20d4-4244-90b3-626599ac2116',\n '413598f1-ee3f-491c-a633-24afd1b0c167',\n 'decf307d-2eca-4457-81a6-3f57243c8ca9',\n '539250c1-acf5-4726-a150-d747eb7e14e9',\n 'cdad65f6-af88-4b04-bb4a-b18306db39cc',\n 'a12d0c47-64f0-451c-95cd-103ed23811fc',\n '470dba2d-a6e4-431e-855e-3079befc3e7a',\n 'acc001c0-52f5-49f3-8ade-4300e1f18bbf',\n '55a3b031-9428-4e37-859d-768096bb3748',\n 'd95c4768-3267-422e-8814-024feb7b5327',\n '6abf54a9-e925-448a-b3fb-b779b4dd97ac',\n 'abd48cbc-befc-48e4-ad23-a3d010131cdf',\n '55e59cbf-b6f4-4a87-95fc-beb035da3f23',\n 'b8d3983c-b09d-47d2-9dfb-2c3df9b45995',\n 'bd75cdea-80b1-46cb-b731-b0ef8e58c8f9',\n '59e9f834-0c16-49cd-a466-d92367bd52f1',\n '9fbfd563-1200-409f-a618-b4e038634dae',\n '9cd44c0a-1f9b-4a79-b48d-d2a082a87111',\n '231358e3-7819-4e5a-830f-8f2cec44bf47',\n '92545fbf-7e0c-43ef-8cdd-6917dc9a7a11',\n '9b063a40-94ff-4053-89ce-43910da4a897',\n '45c17795-746f-4153-9d18-0f0e1aeea4d3',\n 'bbcb8601-00e9-4542-aede-8a19e204177a',\n '73d3aff7-bf06-4c12-be39-0af144873a29',\n '6a8e9dc7-c343-4d6d-a3ca-fd0ddd360b8a',\n 'a4574d9c-d3b7-482b-b52d-e98185652d06',\n 'cdd485c7-7bdf-4e88-bccd-ebb856667a19',\n 'cab22353-cc82-4034-bb0d-0d340237c3dd',\n 'c532b79b-4454-4e28-a552-a6d7dc2804a7',\n 'df24dcfa-17ec-4527-9fd4-c59441f2e9e7',\n 'ee0601fa-1e50-4d51-b87a-dd37c2eb1ace',\n 'b0899362-b3c0-45db-b78f-bb9ea57a73d9',\n 'eae1ff5d-97a7-4f85-a80b-43fc1034228a',\n '5fddf95c-0afe-47d3-b23d-6b59c82f9991',\n '540e9189-33e1-48b3-a260-38a76aa18696',\n 'd162f92c-de12-4804-83ef-dfa6bdaa3b32',\n 'b61dfa89-6593-43bc-9ecb-d603618857d8',\n '741681fe-a81d-440d-858f-7c560f0a6e72',\n 'dbf96f83-2f86-4544-a6a7-12b70ee6f599',\n '5dc2f8ad-eb6a-45c3-8226-466bb40302d9',\n '48b9a312-52c8-436b-80d2-abd198b68fa2',\n 'a8317bb3-e014-4aec-b6af-d63d149eada7',\n 'da6f828a-8ab3-4820-969b-04c96416da9c',\n '9b511fd4-c87d-4fb6-b21b-c8dbf56a2e29',\n '0c6db2be-0a68-4697-9c40-a13c6c71ddf8',\n '3c4cc899-9230-44fb-bc75-7a4a12126c53',\n 'b4868f33-3ce9-45df-a162-ca52e12fc2e5',\n '69228a9e-5391-4c5d-8b43-d3296d2fad34',\n '56766d56-e755-4a85-b558-717def3839a3',\n '272bff78-bdd8-4492-b460-e6b99d36e641',\n 'd22eb294-72eb-4f2d-8bc2-d44d6bc12f1b',\n 'a3d825fb-5c1d-43b6-be90-d16ae1ea40fa',\n '0a350ec2-b905-4ba6-806b-f12e50ec50d1',\n '3d7bbbfd-e144-4c19-9352-fdd86ea24953',\n 'e93b9772-7f88-4a7c-9510-8312605a5926',\n '910f3dee-bbed-4dd5-b0f5-bffa7d9a48b2',\n 'ef64e12e-11bd-4025-a3da-185457f5d049',\n 'a4449541-d9f9-45ea-b795-dcb8f7a139f7',\n '28395bf3-8f1f-48e9-a20a-e1d149d4df35',\n '4332a555-be5c-48d0-8517-5a350bc73520',\n '0d5f74f7-ba3f-4996-b1fe-9efbcce4bcf1',\n '06642801-179f-4386-976d-5ed532dd8672',\n '0531a7fd-1772-4ad6-b6d4-868efd7302e4',\n '647c0111-023c-4f3d-b888-a40d41c3dd5b',\n 'baed9adf-e339-4fd1-a454-88b6ea63ba63',\n '40840ee2-f491-4ece-a77a-e9f3b5ae98b0',\n '2110746a-97e8-4319-9e79-5400412ef3b7',\n '5698c935-5603-4c8e-91a0-bb8e533e80ea',\n 'c5373838-f6d5-41fd-a68a-2c764544b74c',\n 'ff8401cf-aedb-435e-aec1-421aa1af2b53',\n '9cef4457-399a-49b4-ab85-872fbf85e5e2',\n 'c7fab20e-f128-4ae5-ac91-c04d69492425',\n '03318155-c8cf-45cb-a465-8dcac7e95039',\n 'bddd65fb-c64e-42e7-b712-406edc6c89c8',\n 'f47af995-e9c2-44d0-8400-dbae440ac77c',\n '18f0948b-f944-4287-874e-1e2bd489b041',\n 'd7742bf1-46a1-46e0-ab45-e738cc3ddf99',\n '763e75a3-b34b-44fc-9dbf-2cf210c49b6a',\n '536a7abb-0ea7-4d2b-8730-119c976905ff',\n '82c74cba-eec5-49f8-b8fd-10b0277244d0',\n 'fee14724-75d2-4d3e-b9e1-c377b608621a',\n 'a892360c-75e1-4c36-8506-32fdc652ec95',\n '284c5e44-3331-420b-9484-23c2fb0272f3',\n '4b9476da-76da-4650-b86f-054d430529e4',\n 'e1ee8c94-5e3f-4221-b5c9-b8047b549cd4',\n '596bd3a9-3c09-486f-8ac6-c692afa071ec',\n 'a5763532-75d0-45a9-a196-e4e535e37532',\n 'f2fef7d3-0230-4e95-954c-ce168b59670c',\n '4e6ff345-ccd2-4ae0-bacf-e7555f86ed89',\n 'f89a959b-3ce9-4bfa-9d71-0278129c5474',\n '0d986fb4-a78b-450e-8d47-174728753fdb',\n '77d44244-6171-40f1-80f7-ef41a8841ec0',\n 'c078c93c-a2c4-4feb-8e9e-cdd5c78dd31d',\n '1e1ff725-92a5-439c-a934-2710f28e760a',\n 'abbc2e46-4379-4125-a7d8-eca2763ae71a',\n 'c8bf7ff4-4e45-4f1b-8759-cfa36cfeb6af',\n '7dab3a70-afdf-4ff1-aaea-2822de015491',\n '4661f4f3-c8e2-4add-b494-5c07120d3ca8',\n '2fb02c50-1df1-4a64-82ea-af625ea0f9e1',\n '876849f8-f7b8-43a2-9553-a4a7cdb97747',\n '4a8a33ba-0078-4989-a8f5-8cc8d3582c49',\n '8c3d1c19-9ebf-49a2-b769-b6bf1e1b452f',\n '23563dff-e90b-4fda-9ab2-6bf90ed25a6d',\n '0c6f1d25-c832-4191-aef3-6aa22713eea8',\n 'b7c83a55-9348-4d66-82dc-2af6a8bb8e43',\n '05734321-ecb6-4cb4-b291-af573e6bb0d3',\n 'e3f736c3-d87e-4cb1-af7e-571c8744756f',\n 'ac32f14f-7119-4a7c-8660-6932c29ec728',\n 'b362f43d-e1e2-44ed-b1b3-e190da376b98',\n '39e102aa-1aca-4c78-80d4-a2e578de317b',\n '463cb3d8-5dcb-47c5-a108-e4874ff420a2',\n '86b9b9e8-ee4d-4ce2-9bb6-3a89b2e7d89e',\n '5624cebc-9680-4dbe-9f89-03732c7796f9',\n 'cb35f146-ebcc-4417-9a51-8881bfdfb15d',\n 'd95f7a54-20e6-4e69-b2b5-a8976f945118',\n '565f19be-5f91-4a38-9a38-fe60b8003e47',\n 'f41bbde5-a376-4ea5-946d-c0331dc24d52',\n '6e96fd16-e0c1-4c6c-bfd9-6cdae63071ae',\n '187e5a68-5743-474a-8843-3efda17047f1',\n 'f2a43013-a447-488d-959c-d9f3215189ba',\n '3988ce83-7400-48b1-a47d-4a85f93b688f',\n '49f44f39-02f0-4803-92c0-737a7cf82a8a',\n '3bcf481e-0355-4582-a730-2bb17ff16b76',\n '0333bfdb-f9f0-42d0-ae24-c7707fc7bc29',\n '34ae19f0-2a40-4035-a886-9ab22369eaa8',\n '16854812-4c6d-4b67-9f25-b9980ce43d01',\n 'd3f6f409-4b1e-463c-a3b8-2b9ea7d82da6',\n '0e282ebe-059c-43b9-9dba-65131698b82a',\n 'dc8e899b-2c29-41a7-ab70-410fc7149484',\n 'bc32b77e-23aa-4148-9ecf-06d76e07eb23',\n 'bde165e9-13d7-4577-b9e9-b2537e99202d',\n 'd97a0690-84df-460c-b4e7-51be18acabb6',\n 'cefa6f7d-443b-41c4-9f4f-241b1c36419e',\n 'd8202a42-f587-4caa-b8bb-8f97dc17433c',\n '01d94976-37dd-49d3-8f9e-348daa2d9f19',\n 'd2db7314-b4f3-47db-8510-aa7607403d5c',\n '3a03f154-6fcb-4d9e-82bc-66daba625c74',\n '7f87c869-497f-417c-82b3-70ede0dbf7e9',\n 'd8ae0bc4-7b38-4fa3-9732-74f1f474f626',\n 'de9f6281-435b-4e78-9c75-f1fbf6149e9f',\n '65322435-98b2-4a12-8225-933beafbd575',\n '2c750246-e9a4-43b8-b140-9c411b162ded',\n 'e638059f-786b-4889-8fb6-280523f3c6af',\n '48ec87f2-0125-4b03-926c-90d40e596d93',\n '5fc2b6ad-48dc-4e4d-9e9f-8d260d0b51c8',\n '8e9dab29-0f52-4f2a-b323-93f078b9ef1b',\n '36cf1922-272b-4af1-a8de-5ef8b306363e',\n '3c5deea8-266f-400b-aa03-092a6005ceb3',\n '218b57b6-f514-4155-9b02-d41ed2807fb9',\n 'a2310620-743a-4579-a3e5-86214389a0a4',\n 'be527c03-f86e-45d1-baa0-236aa872e496',\n '8ce65d05-f5f9-4c2a-80e4-225c93040871',\n 'b8e1b2e5-9782-4ae1-9f39-e2274ddd0fe8',\n '4a42962d-22b6-46c8-99d1-87e1b65039d5',\n 'ede6f29d-59ad-426e-bdd7-dad64775e7ac',\n '16a77fa5-1ec5-48a3-8324-94830636cdda',\n 'ca703def-0774-4af0-92b4-3ead8f459726',\n '712f524b-c75b-4759-b688-e0c27c50174d',\n '35f6bb7a-df24-4c96-a936-26624e63732b',\n 'f2ffb734-a5fc-492f-971d-4da7ff6192a1',\n 'edc1c8c9-1eef-49d6-aaf1-c6b0aea9dc08',\n '8ec9dcdf-436a-466b-b679-1715c6c5cb87',\n 'f36613e5-44c2-4bf2-be52-17e62a406e17',\n 'cbdecf1d-b8fa-4995-893c-1be7ec0cfcd4',\n '10b79d04-7c14-44c6-81d2-546fd398ad4b',\n 'f2d441d4-2459-4b6d-91d4-422ec85ef7fe',\n 'ca3c7d23-b1c8-4997-ba32-e558dbdce392',\n 'b7717875-1e5b-40cb-9709-542a20fb836f',\n '88d22cc7-4fa9-4254-9aee-09fabb19f5fb',\n 'ccedf6a4-6d77-4b27-afea-ceb68b04405a',\n '41d0db67-27cd-4c93-b3d3-f470fd997d05',\n '321cb831-d732-4cbe-b09a-68e9ff27a445',\n 'e36f1499-50bf-4dcf-917a-b498d22b5f0f',\n 'a76b5a32-fbca-4f91-bac4-9764806edb85',\n 'b644fd68-e7a5-4268-ad52-bd606588be03',\n '0c4f4a29-0cfd-4a12-b01f-4d4d5fe98ff1',\n '648f8b1d-9842-46fc-bfb5-4fa1e03facf6',\n '386ceed2-cfa0-467e-8326-68b082933a6c',\n '1e13a5a7-716c-46cc-89e7-ef3177b0dea4',\n '61475f30-13cc-4614-bfaf-06cb5b67bf40',\n 'd441ed91-45ed-4936-b224-710ad4a3eb7d',\n 'c47c8dc3-6c43-4da5-85fb-6ac7e2687005',\n '9abcd131-8c0d-4e6c-9dcd-9e8e5e7ec55f',\n 'ab747c92-edcd-43ae-a332-bd40bd9f133d',\n 'da980cde-0360-4575-a26a-b493e4c94b2d',\n '330d7ec3-fd42-42c3-aa3f-86d0ceed6bb7',\n 'c991bf6b-2706-49ba-a2df-b7d8eac0880f',\n '49a8f287-730a-4883-8dd9-61defe47aeb5',\n '50e35a35-4f15-47d7-ac54-74840907df3b',\n '0ddbd7e9-da9c-4146-bebf-a235d318de91',\n 'c078329c-80cf-415b-b4eb-04179e5a3e7a',\n 'b8b93549-1dcd-4e67-8429-91501b52569a',\n 'df28dd02-2f94-46e4-bf17-a7cea5fea990',\n '57831ee7-f69f-478d-ba7d-d9ae3ffa35b6',\n 'a87ce27b-5371-4b8d-8e05-aa4b78a9bcf0',\n '68096d22-7546-4d92-9232-ba06a6fd69e2',\n '036a41f5-8b7b-4c59-b535-6ccddffa2385',\n '184bf741-de89-4177-a2ff-076d2284b688',\n '2f0999bc-5102-4567-ab42-6eb7b85ef514',\n 'fce0a3a4-b5f7-4723-9ded-68b7fda96000',\n 'ec36796e-6760-44e0-a683-d818b14ad0b2',\n '63af0ea2-95ac-41ca-a3a9-0ebcdc3974a3',\n 'cd2af051-ed39-4bdc-89d0-bf10e935b923',\n '9cd3e0c7-727f-4d87-9e12-9b026e855c8e',\n '811aa340-8dd0-44cd-9efd-98f904c748ec',\n '72c56bff-b143-4df5-ac09-3c3aff24d875',\n 'c882607a-9487-45de-9505-33cb10fe4967',\n 'e4940d96-ab2b-4acb-9b89-73d3486d4ce8',\n '46872403-5238-45dd-8180-9649717c7c79',\n '16b88ab3-14d7-43d9-9155-14f9fd981562',\n '6cf637a9-c9c0-40e5-8590-854a622687df',\n 'ba81e67f-73ed-4d15-8259-fefdcd3815ae',\n 'ed563d52-5e50-4cc8-a335-d58b1e74771d',\n 'e7622dd6-49d9-444c-9b54-3f7149d376ac',\n 'b02735d3-2b17-48a3-9391-2880cfdc1ec1',\n 'ce1e862b-c560-421d-a82f-8af406719353',\n '51f1e95f-dfa3-49d0-aa89-42562e0102e3',\n '8a32bbbb-4df2-4b51-bc23-1a9500abef2a',\n 'f8aa9c38-1a1f-45d6-82ac-114059276bbd',\n '9bc94942-7c5c-433b-bc0a-1e62b0f4ad87',\n '38fda5f7-20e8-414f-a52e-381362390b7d',\n 'b7f019d9-677f-4d01-9f89-5e12c713d5f4',\n '96a8fd9d-2c2c-436e-ac21-081fbb5a388d',\n '7b3df14d-c13c-4ce1-96e4-eb64623aab8b',\n '9d4e1987-57d0-4b8e-9f0c-cf937991133d',\n 'e4f0fdfe-630c-47f1-add0-df8b6cae1af8',\n '78277a38-e807-4c5f-9ee9-af30c35ee8e3',\n '1a1098a6-c91b-474d-8bbb-9d825aed493f',\n 'b81293ca-8b15-49a0-b876-bd939e6bec31',\n '325708c7-383f-421f-b210-6b0cec73e58c',\n 'bf7bffb7-f254-4746-8ef3-94943837a617',\n '1d121e4e-3c66-4590-8d7d-06a6da7c6516',\n 'ae9bf35b-a800-4078-811e-d47c95f3655f',\n '889430b0-98ab-43cd-9d0e-2f49a260e5ab',\n '2043320d-173d-45b9-8e73-db3aed948437',\n 'fd786673-3395-47c7-b49f-c5256396b7b6',\n '70f02215-953c-408c-8a52-64830bfa0fde',\n '0e512d54-a6c9-4784-a042-66270283f18d',\n 'c3dad8df-a5ff-469a-9455-58dafef99210',\n '9a8fd69a-7253-4ac6-a40c-6e65caf68a36',\n 'b5763a54-31eb-4fb3-aa25-f1486874da2c',\n '285ccd81-69a3-4796-8027-2b7e265eb776',\n 'edbf38d3-d5b8-484c-a8a6-e3fdf5d9c19f',\n 'a52439e3-7a98-42f8-b386-52b07c29bd74',\n 'd819c8e1-3f58-4a6d-8e50-44632c913b36',\n 'f1a6394b-fc65-416f-8600-2c753a493efb',\n 'ecadd26e-268f-4719-8437-066dbc742190',\n '35cbce69-ea76-4f21-8ec2-94b0b6832dbb',\n '88781599-420b-4fa3-91ce-a3c0f838e458',\n 'e5138c26-2ccc-49a9-8aa2-12913d3172b4',\n 'aff08bf6-e8d7-4d9f-9d94-367437f7dec2',\n '54d15591-1225-4e6f-af50-8b38e5863ad8',\n '7d4dede8-24ee-4090-8cb0-26d1fea78e3a',\n 'f7bf7cfe-0206-48aa-a437-6580d2c18e98',\n '96d60341-c575-4823-89f6-3356348898ec',\n '88bd75af-293e-462d-be66-7f3f3c9effb5',\n '517093d6-e2d9-428c-b339-4dcec2d20526',\n 'f53864b7-c41a-47a0-abcc-6e90bb75c469',\n '8fd5c90d-800a-47e7-b97a-05fe45013c47',\n 'f037642f-d6e6-4e0a-8e0b-f0e21cc925c3',\n 'aa29cfa1-d1dc-472f-9e58-a20e059ad316',\n '16749148-6ec3-4955-add7-8906d3e92b2f',\n 'a4040007-6754-4343-a07e-962c8b844b71',\n 'b5c5d1bd-e106-422a-adff-5170be547952',\n 'dc414de4-52d7-4cbe-a3ba-d425741c0abe',\n 'b7d6575b-570c-43f5-9f88-e42d83b01149',\n '7ec92107-b0d4-4674-92f4-54651d2fb7e2',\n 'bdd00191-b97f-4307-a383-5170015ec1bd',\n 'f4b1aa39-8c53-4cd7-9349-53c80768f948',\n 'e021e925-563c-4f50-986c-8ed61b6fda62',\n 'd69af1cc-eca3-485d-a91b-9758dc7c95ef',\n 'f7a69b0e-54ba-4e34-b8f9-83c9a7890791',\n '725fb9ca-285a-48f0-b9a2-2a658ea0b960',\n '2573feec-c776-42d2-b015-13c02557811a',\n 'f25776bd-c500-4feb-9f30-17cb07bdaf4e',\n '4c60d85b-275b-420f-b4b4-13c726daa1d3',\n '2bdcb7a1-1473-4a97-9208-2c43b2f81ca0',\n '3980d451-6bc1-4d4d-9628-7ba5d1701de0',\n 'daba83b0-9186-466a-a9d8-9b30ea396a97',\n 'eddb0e5b-0ebf-4e45-956e-8f02ca04d80c',\n '8766af6b-d98b-4187-9895-8f5c3ce2aa65',\n '4adc4fd6-1983-4908-a8e6-270f029ab595',\n 'ed1325f9-a00e-4a7b-856a-1691288806f4',\n '1cd1e198-769d-414f-b2f1-5d210b082330',\n 'a789a076-ca34-4eb9-8036-252fe2ad8c9a',\n 'dd5d884e-f036-4e47-a32d-24c5fd4710fe',\n '34ed38de-a364-4436-bc9d-4370900aaaf0',\n 'd79ac862-7f59-4c4d-848e-1db8f160ba56',\n '7751b0c4-ce2a-468f-bead-b5a405d03066',\n 'ac68f46d-7f45-4906-9d59-c992aac80b3c',\n 'c0648684-a1d9-478c-97dd-d1b03468d2ff',\n 'fc1e4383-633d-436d-83b8-ce46d6b2a774',\n '0ecf9c51-06ef-42fc-a88a-eed02b07d896',\n '7518102d-fa79-439c-b791-37447b6e11f1',\n 'aad4dca2-ee62-429b-b5e2-4b0d24afe32f',\n 'f9134c60-a510-4e5a-97d0-a99bda4c9457',\n 'a023a3a9-d8c5-4050-b393-04b0a301c2ac',\n 'c825d05b-2309-488c-8b7d-077ef78a04f0',\n '411e7fcd-8583-41f2-b1d5-af9ae2291fee',\n '7c76e1b1-8ea7-4286-87cd-0f34d3f0feb7',\n 'adaf244e-b832-43f4-bce8-7fbb9c6c74b2',\n '039d5d17-c0a5-4dc3-b1cc-7cf2da29afe1',\n '851313fe-9fb4-4552-b28f-87c0d23e8fa9',\n '6dbf7ca2-6ead-4745-b7b9-7f449b5d5641',\n 'f8c9e7a8-2a35-40fc-bd20-120941e2a9da',\n '4114061f-a43e-4732-afa2-c187e614924d',\n 'fe678370-f536-4d43-8d22-5e13914e0f33',\n 'c904373b-3d1d-47ec-a33f-cdbd42ecf240',\n '1facfe97-7ab0-4465-b6dc-dd978a570440',\n '00531fc3-159f-46ff-8fb4-63d02d4ea8d0',\n '3ed38b42-882d-4004-bec2-0cffea7506ee',\n 'f6b3dc7e-344a-4f5f-b7b2-78d484570b17',\n '8d0fd20f-5ac6-4f0f-b195-c9fce78c226c',\n '200082bc-d356-4687-b1a1-3253e05848d6',\n '8eac7f93-13dc-40ba-ad46-19cfc1ca69fa',\n '3ba37154-a340-4611-a8b3-78c918fddfae',\n '5ce27dcf-19fd-4259-a760-dfacfacc8284',\n 'eada26a3-da6c-451f-a789-3a57dd53d497',\n 'b18b2bff-0f57-4e48-87c1-14bfa72c137c',\n '5a6acb21-0d1e-4c86-a880-4d46d9fb53fb',\n 'bb860549-eaea-4731-80f5-77dcefb16918',\n '527b758a-0265-4269-ba4b-0e19f5240677',\n '0a078d53-5cdb-4b67-9d0b-be7ee6077849',\n '586e25df-6018-4094-9576-3319a30d5484',\n '251237b9-05a4-413e-8a9f-a3325f6e6ac0',\n '99949e09-fb8a-4f62-bd1a-2f26cf6ff4a8',\n 'cf5b9765-3139-42c7-ba48-0f9359d31f3a',\n '6b867761-9945-478e-99c4-5d28adba203c',\n '444a2c4a-929d-413e-9d22-cecdc4ce6bb3',\n 'e2d0f646-80b0-422b-97de-59fa2820aec5',\n '40e559d2-f4c1-48c4-8737-8ea5b3c84406',\n '51c70719-c623-4a5c-8bb3-094413b1c2f8',\n '12313588-9da0-435e-b31f-bc2ba946defa',\n '1ccfce6a-56a6-43f9-956b-e21d571d5212',\n '6c60f381-eed4-4757-823d-3517576de684',\n '1e1dcb2d-9ce1-497a-9e71-7d96c7759630',\n '3a894fb7-1e27-4888-a61d-bc1c3c50c26a',\n 'a5768c86-016d-467e-8d6b-c8d1351f7641',\n '3c98fcef-9de7-4c35-b236-b636f1056568',\n '2cbccb98-1f6d-45ae-bb96-909e9320d449',\n '452f5599-dd3e-441a-8cf0-21a36f6a359c',\n 'ede3ec6e-e462-473e-a1e4-a5989eeb53a5',\n '98d6e487-26f2-45ed-96c6-b70d7646cd98',\n '8151aedf-b9be-419a-98cb-c0ccc78480e8',\n 'dbbed235-c48b-4604-b721-882688b57b88',\n '06cfeac9-bfc8-4034-9ae9-ee2cfd22ae93',\n '52c6dc0d-fc19-4349-a9eb-0653af6d483a',\n '8af8d41d-add0-4c31-a507-f84f50cce581',\n 'ff7b942b-f9c8-4120-9cfd-20b887c76020',\n '2240cf61-055b-48c6-9e9a-551077040157',\n '6aae6a3a-2344-4403-8f5a-54be690593f4',\n 'aa5f4bb2-bac0-476b-8ff4-68f66b0faed9',\n 'bea658a0-d2f7-4ed7-bb89-86a917b3d130',\n '6082a2ca-ee01-44be-97fc-6b06ddacaad0',\n 'b7e311b8-0eef-41bd-a3ab-137b68207f10',\n '6b473b4a-7882-4b61-b453-55b83d8e4bae',\n 'e7b5da26-f6ef-4230-9ab0-50132be1d325',\n '52434f81-3529-415c-b4bc-ab5984d79f40',\n 'aecf6cd8-9807-4f22-8477-55c3b11caac2',\n 'e0e5c23d-e8a6-4dff-aafb-9dc7f9728b12',\n 'cd3dfe71-c115-4115-b220-1dff097ef6f6',\n '802890d2-466b-4f79-80b6-d23650dc25d4',\n '13e5c541-aef1-4451-977f-acc107570b2e',\n 'def5e9f8-887e-4cc0-9590-be6e68fa48e1',\n '645fb6de-9148-4555-89ad-db32dd5ac234',\n '73872a5f-c727-4b58-8242-36e9843a04e1',\n '97f3bdab-3d3d-4d65-97d0-749ddc9686c5',\n '865633ff-f9ae-480b-976b-82a7370ee730',\n 'a0ed7fc2-db16-4168-bf2f-c8c23ba16d5e',\n '2fc3b617-c0f5-432a-9acc-bde929842120',\n '939bd02c-47ed-42cd-971b-873989d9f781',\n '830b452a-6f03-4f23-8b1e-52ce7014f001',\n '375f8632-ae02-452c-b2d3-ee12fd05ab40',\n 'f4cfa3f0-5292-4e40-869f-abbeebe14d19',\n '07e0e41e-67a6-463c-b6f3-79eac891661e',\n '0fb03d4f-4532-4846-b105-91f7bb387185',\n 'aa5b81ae-145c-4c3f-a0f0-4d5c8d25aa26',\n 'c25e4ea6-7d07-4bd5-83b3-915154c93e70',\n 'b43a58d2-9f3c-4ad1-aa78-e845bbb28f2d',\n '7df67c87-1aab-477f-af8c-ab9204e79856',\n '34d9d0e0-732c-47f9-8d69-14c3d60f8a5c',\n 'a56886ef-3ae4-4266-b149-fadf965c28af',\n '944863ab-8318-417f-937d-4cc3ad5a6a0a',\n 'a0f2976f-53c5-4178-8ab3-f52dbaf5a69b',\n 'fe4001ae-7983-4709-9622-718d0a272f69',\n '7f599b66-7431-4b22-b91f-f6f98d3a2797',\n '7c1e0b7b-b67d-4023-8753-629fad7f0301',\n '17a105ff-f4ae-485d-b8d9-e8298130be32',\n 'b1ebce4a-1f71-4be3-8ea4-7b742710ab89',\n 'e5f16d16-2f29-41f5-8e76-5eeeb6a89c69',\n 'ba554d70-6385-44de-9f51-30a07eb63c82',\n '23a8c796-ed01-45ea-aee4-bca93fb0dc87',\n '0d5dff1e-cf1d-4a92-a522-1a283a776eb7',\n '482f25d3-3f5f-43b0-b825-e4e233d37824',\n '144538e9-fce3-41e8-a34e-9e882f11b82d',\n '29690087-22cf-43db-9773-ba33bf058dae',\n 'e4b05c4e-b25c-4766-983a-2cf0ac60a0b5',\n '09d729c0-27fd-491f-be26-3ea8e10d36f6',\n 'b1d24d3b-348b-42d2-b1c4-e5ecccaa7c68',\n 'b0e158ab-908a-410c-b534-d9456aa18e61',\n 'e4358570-342a-4a36-98ab-ee27b4dd6b20',\n '204416e0-b8d4-4d44-82fb-d79ccfd0bf63',\n '86351ce7-b42b-4103-8626-5612e91ab9a0',\n '770af122-ef7c-470c-a532-592c20bcbd70',\n 'd51de428-3150-4457-b7cc-d34d1907b187',\n '20ca9ee0-184f-4892-a74f-201bab50e7c6',\n '3db309d2-80e1-4bea-a839-18c2d8065c7c',\n 'f653554a-1690-40ca-ac22-a1591945fb94',\n 'ffad8ca7-b2c9-446f-a1d4-a6e02fd9b2d0',\n '2b4b10dc-4879-491b-893e-c096e6a9dd67',\n '7bf6cf45-4772-4e5f-a393-1cc8ab9dde8b',\n '4b7b6aa3-d7a9-4193-b36f-c035806814e4',\n '1cf4be3a-5f93-4bf5-902b-693dfdd7e702',\n 'ab3b3ed2-482e-43f6-b88e-fecdb4854520',\n 'bdbd9167-15d0-41ba-8a87-604ba749e710',\n '9f438934-28e8-4309-bac6-91577e61b8c0',\n '0bb4f826-c280-49a4-a7b8-19603fccb4f6',\n '3bbfbcfa-4920-4bd7-85c5-d4ada4b6fd00',\n '42aac798-2fa1-423a-8d96-e75716ad58d3',\n '197ac33a-8534-4bb9-b474-21b92debd5a9',\n '8463b70d-ec28-45b9-becd-d77a2b05fce0',\n '58de8b0e-6e7a-4b4c-8670-09404df9f425',\n '3b180133-48cd-47b2-9270-056eaae49ed7',\n '24245562-0bbc-47f3-8d16-56122707702b',\n 'af77c47e-08c5-46aa-957d-2f4ed7291604',\n '6c659018-64a9-433f-9e13-2dfba17c7c80',\n '11e9df40-33b9-48a5-a436-85d1a7c4e2f2',\n '753e0ccc-833b-4b2c-8c7d-bc5d9b613b49',\n 'e850bced-938f-4e3e-886d-d1c330c26909',\n '038c6a16-5581-4b0a-b6c2-e391b8d8dc87',\n '6122488c-f3c0-4720-bfd8-6827842bf68b',\n '28b7c099-6333-430e-aa3b-88e94e6f7e17',\n '118d1531-fb87-4001-b704-29c74e5bc56d',\n 'adc8ba8c-e03c-458f-8e7a-7fe11edda186',\n '24859a2f-6f17-49cf-8351-b0b78135e23f',\n 'e985012d-ea94-4e17-9da3-6f64a63c2f0a',\n 'c9486179-c274-4ea4-868f-2092dca39c2d',\n 'd128fbe8-ddcd-4c75-a1ce-1d6ea46c5667',\n 'af309e55-71e5-4a22-afeb-8f600c6099fd',\n 'd838ac80-1097-4a19-af52-9dfbdf9fd005',\n 'c885c951-a8ed-48f0-b048-816ae353c12c',\n 'bb20cdbe-6e2e-4e8e-b46e-ffbc42b54acc',\n 'cf928933-cff4-4f56-b9c4-c02f2372af1d',\n '8a60a9f7-82f7-459e-ad0c-2bafde7c4606',\n 'b13c057f-b8c7-4aa7-b206-7fe1a83405fb',\n '5f5bedff-e0d6-457e-bfbb-7f087213e636',\n 'ed0ca1e8-1f85-44a3-aca0-0bed0d5b80d3',\n '0bf233e9-35c3-4fe1-80f8-4d3ad0f5283d',\n 'beae0445-3438-40e8-bb7a-80848af2902d',\n '2a246b86-0427-47e0-9f52-daf5494f4a2a',\n '1f3ce083-863b-4053-be6b-a5634c5da75c',\n 'afa01df9-a630-4640-9600-4f7a96c0dc2f',\n '8c04d429-47ca-423d-98ce-70336324a423',\n '5dc7a343-fbb8-42e3-a9a9-22d34cf64901',\n '34da5972-c31f-4f4b-a46f-b629ae8172c4',\n '4e352122-b2bc-4cff-aac3-b3def92c88e6',\n '9f3918d7-7bde-494f-bcfc-717993b1af4d',\n 'b75041a2-3aa0-4dd7-b9b2-c45b070aa77b',\n 'da3d57f7-3c75-4aae-8443-db79f7b4e87d',\n '9e930fed-8802-4add-be58-a364a4c455ba',\n '703e2ac4-e103-47e9-b36e-b5ebbb3a23e1',\n 'e0949291-a556-40a6-98a2-4a57fed0f08e',\n '155e1431-09b6-43af-b6af-a5ea333fe37f',\n 'a9088461-dcd8-4643-b7d7-18c7c4415f9d',\n '48168795-c095-4ad9-8f82-f1c5a311b9a4',\n '071dbb79-d527-459f-8997-7b3a18d80291',\n 'e35e00cc-7ccb-4b93-8909-47b874743f81',\n '646cf5b6-c8d4-4cfa-a16c-0d52df8b16d5',\n '58de1f94-6337-48e0-b162-6bddc0da6216',\n '90c45c5b-6537-48b5-a97b-41a0a33791c8',\n '8edf3805-043d-4148-83c2-8ef14987b264',\n 'a6746ca9-d9d0-4518-b49c-c5709c87d9b5',\n 'ae553c14-b8c9-40af-a4a7-773b90296dac',\n '31c30cbb-4c1c-4afe-afa8-1d90755ff0d3',\n '125ef41a-20b0-4448-95f7-52f9584359bf',\n '6198bd91-0b29-4db0-874a-78d0c60be624',\n '35044f59-af67-45c6-947d-82531a707295',\n 'e3bdd4f8-e44b-44ba-a829-427d85e7821b',\n '43b6d86e-4adb-4342-b62b-c39cf3934ea6',\n '66cc0ea0-5d02-46da-9a19-15bce3125681',\n '8684ab3d-1dd8-4186-833a-eacbd2a9ad8c',\n '16fc70e0-a938-404e-88c8-57c0bfe93c9b',\n '4303fead-2d65-4467-9638-b6aa0e3a4641',\n '66158631-45b2-4283-9179-7c5f7b3ecdbc',\n '800ea3e7-14b2-4d22-aa7c-b9fef7a7e362',\n '05b57d79-8b87-416e-b4d7-8f346c05e883',\n 'e9e627e9-01bc-4165-ac26-41d212d561c4',\n '112bc8b7-309c-41d2-bca0-07136c13a866',\n 'b6b8d064-04ab-4316-901e-ac92f03e872a',\n '7fe06faa-68f3-4659-b3e7-3996d4a05070',\n '7ef2a5b7-278b-4253-a747-a4d02dd53c00',\n '3d5a95e2-8269-45c2-a715-dcbcc3911410',\n '0656879f-6f61-43e3-9539-df23817c074a',\n 'a1797ed9-00e5-4827-a0a4-78e68519ea29',\n '03b6aed6-55f5-47a7-b401-7bef32b89727',\n 'b5cc582c-9201-4fe2-91cd-5b1cb8c0f92b',\n '49613df9-9422-4a16-ba3e-2bae31a3beb4',\n '549f45d7-a578-4639-89e7-33b2890c04dd',\n '1490ee38-fd60-415d-8feb-57dc6f4bb8bc',\n '2ee293b7-1128-47f5-a652-a1d7c88d0679',\n '59d7776b-0b09-475c-87a8-ab9f93715bc8',\n 'dfde74eb-569c-4a22-91c0-1b08d87d9ce2',\n 'cede0be9-be1c-41b8-aedd-b1519b200371',\n '521399bc-7cc0-4be9-8ef3-7cc947946151',\n '810137f5-a740-4d8d-a275-ee1bbadf12ce',\n 'a2a75952-2b5b-4ef2-90d6-dc5e7d4a4a91',\n '16e4cfdb-2c5b-4ef5-9e8d-c8fcb46345a5',\n 'e444330f-4d11-4801-b3e9-71979fe01621',\n '7658b2d4-e1e8-480c-9eaa-f4ae7e5d3924',\n '30b09709-d43f-4fb1-b34f-c9183f00abb0',\n 'efcacf22-fdf8-4946-8afd-e06762352f38',\n 'de7268ac-c769-4263-8af0-167dc0154264',\n 'b114c765-6289-4a3f-82c6-f97fc2ec00f5',\n '70c21c0a-9b9c-484d-ad31-453c5d6cc017',\n '8c5fe26e-5bc7-4656-ace8-fc1f4f430c89',\n '66416d1b-b580-4685-b96b-9fc7b9d83cda',\n '0483dcaf-5cb0-4095-9d62-aae206b68923',\n 'f9621a32-0265-44ca-a949-fe98b5289446',\n '64489a2b-879c-428c-86c0-85accba931ff',\n '27b047fc-6104-4e20-a649-62dff5a79a32',\n 'a8945a56-4615-46b5-a206-36535448ef78',\n 'c48a0777-d6b1-456a-bb99-ccd2e0e6a8c0',\n '08a4370d-78a5-45d2-a5e7-176cf9a099c3',\n '938ac3c3-d18f-4419-9a5b-4891d0e88929',\n '8cf653e9-cdf7-4d57-aab8-cb6f78d23205',\n 'a9d2e837-6f9e-4a9b-a7de-c62fba239f21',\n '57c79fa7-896f-435d-916d-2f7bc0abe5df',\n '8fb11cb8-a829-4b2e-b633-19800b00b225',\n 'c3a74b22-9c6f-4f72-8140-e9ee1257df5b',\n '20753fe4-ed8d-47f5-a5ed-a39ebb1109d6',\n '46a468f2-9ee4-4d84-a868-09686f266ff3',\n 'b686050c-e4fe-43cb-8626-a6cca135e832',\n '208fba61-ee4d-46a8-a782-0e379f08d4f9',\n 'a983c561-8ca6-4d69-8d33-276bed02721f',\n '1f2a15dd-afdb-4253-8a97-04d6110d8679',\n 'b26f1490-5fc0-4be9-943b-2afa8c0b8ec3',\n '24147a17-2149-4ebc-b933-6ffce7598865',\n '66f2ddeb-8ae5-4f0c-9c97-0ec4f001b03c',\n '21757607-1209-401d-bca7-a069550176fb',\n '19be5a89-1930-4fca-aa4d-5e82ded30d55',\n 'efffe316-ef87-407a-92f9-64d1181a9c7e',\n '1947b6bf-a263-4657-8cdc-8344e9dc17de',\n 'a6310881-e822-48f6-8993-8b78080435c3',\n 'b8fbea32-7fbf-4952-8882-aa1fd60fb827',\n 'e49f8ff1-0b52-4e3c-a2c6-68eca0c507a4',\n 'd55ca9c7-c324-4df9-8d2f-3861cb243cdc',\n '6f009d40-d854-4444-a08f-f276be138e4c',\n '988d7e92-246a-4bec-ba2f-da3cd7c87d93',\n '4fb72698-62d4-4ba7-aae9-3a8616b8973d',\n '4af8603c-f345-42af-9dce-17bc687d88ce',\n '8f06d1c1-f03e-4be5-80c7-d9deee643e14',\n '361cba87-5286-487d-8022-5db08bb3a0ce',\n '8774a17c-0970-4d2f-9007-9823ab8ddd30',\n '44c61cf7-7d85-4334-8532-d2c04ce43a65',\n 'acd18fa2-d2cb-4490-b380-b1ce5b0b974c',\n '1e169f62-03c8-4902-bcae-74fccb69c9a7',\n 'c88c8179-5922-4476-9450-5e3485ecd30e',\n '5aca0d8d-12b8-45e0-a56f-3cece65c9264',\n 'b82a460f-86b1-44fe-abb8-9672f6e6e5bf',\n '4a5a80a9-857a-40c3-a7ac-71789ea69fb9',\n '5fce5399-a350-48e9-9ac3-bb871ac2ecb7',\n '5ff913c7-b76d-4ae9-a04a-f7ecaa15176d',\n '4e6c36d6-53b5-42fa-b4ca-d274dc8d4321',\n 'cd759fcd-4f69-47c1-9548-50b5d58a857a',\n 'af69667d-8bb7-4690-b7c1-e4814ea6553d',\n '7bcbc335-a1e8-43cb-9d6f-3230dea43848',\n '79a41a67-732b-4331-8ae2-a5170f4ebfb8',\n 'fa9b1b24-71b6-4d38-80d0-0353ef679af4',\n 'd4a7b77a-b1ff-4fa9-a999-9e88b0b0d18c',\n '06e60c27-78b7-4248-ac7d-5b0b4fffb8b7',\n '8d74a745-3a4a-4cb0-ab69-02bc400ced73',\n '901b1ec6-b5d7-4dc8-a0f1-26345dd211f8',\n '5fcdb420-f706-4d90-a34a-821b559f2e00',\n '44a8cb8a-16af-40e9-8555-f20bf3eab746',\n 'b94b0219-0a10-482d-a432-bb6084d68718',\n '399b2e9c-3a19-4ec7-b050-69de7b2f2d9e',\n 'f8e00914-4074-4dbc-b306-1220fb0a506e',\n '322ed8a1-12ec-41ac-8437-bca411dfce76',\n '32915404-5cfc-4313-bff9-51d93cda1667',\n '8bfe96b1-a7dc-4117-aae0-8b4f1114ed55',\n '47c2ad9b-e3c7-4d44-b1de-00a7ccb7e705',\n 'cb512d20-9d8b-4973-ad47-41cfc53417d5',\n '576a6b8c-c49e-4303-98be-7e01cfdc1839',\n '2ce95b0a-3361-41cd-92c1-7eeccab4bd95',\n 'b6171bb7-44f3-4132-a481-b6f980645ded',\n 'e2a89e63-5257-41e3-83d4-db294b319c2b',\n 'c5ed9e19-2479-4a0c-868f-bfd81e73f31f',\n '369fcb8d-4f76-4af5-8778-ca233c3c59bf',\n '939829a2-b725-4580-a110-fa04a6e1bf56',\n '840ec231-78b8-452e-a8bf-546052551033',\n '4af4b690-1ea8-4de1-8064-ccf029b8c086',\n 'fa0af70c-1503-48ee-81d2-1ff4a40dafa1',\n '455aff52-26b8-46d8-9a69-85ea0e536ec2',\n 'd208fbb8-2b5d-40f9-91bc-95401fb2b4df',\n 'e2e6c055-3fec-417a-adcd-5ffe2ac888ff',\n '12714477-c1bc-4c82-b9dd-e2c678fb5065',\n '4bd54d60-ce44-4538-8d0d-3dcc015f8bb5',\n 'c0f627d1-0166-4f4a-928d-54c8ef93cec1',\n 'e75fcd05-3be1-4ca6-aaf9-c3a1ffa0e668',\n '14d320d5-eda5-4a84-85b9-1f315b41d6cc',\n '6fb20841-b882-417b-9ac2-382157b50b27',\n '2921e6b1-766d-4fd1-8c89-eec31fe01f59',\n 'a3fc408b-37d4-478c-a47a-90c08ae839b7',\n 'c4d4f766-c476-4c34-a7f5-e45492afd4c7',\n '8a370dc8-013d-4ebc-9713-4e2038b2cd58',\n 'e0d70026-bb8e-4719-94cd-900588f67841',\n 'b319dd3b-3d45-40bf-a6fd-f553b6bcc37d',\n '0f907ecd-8aca-4550-b3a1-ec4c3057d9ea',\n 'e46c41e7-8161-4ba4-868c-700f240d3ff3',\n 'd41499da-9fb5-49aa-95fe-467937ba74f9',\n '616a143e-9005-496d-9696-253635c3485f',\n '59532ce1-2536-4c5e-9fd2-72b8d7b5f2a9',\n 'b6df9ec7-241e-47ec-a45e-acd7be67ea85',\n 'd32c701e-ffae-4e67-942e-d7e6dd038ade',\n '1266286e-4e84-4b8d-a5ea-c62922da39ea',\n '88899896-ab4d-4a35-86e7-cb77e1aa0896',\n 'dc525080-b433-4294-a463-f0a6360ff988',\n '23fd1e06-139e-4615-9891-309db6bc123c',\n '3eaa71d2-61af-4aaa-9266-27c90e8331b6',\n 'f62a5494-26bc-474c-877b-654f7e1d6a6d',\n '4b36fafd-7cea-47b9-a1fa-8afa28fdf2ad',\n 'e2e83c93-c4a6-43da-9348-a228c7a2f405',\n '95557fb9-cb5a-42eb-b24c-e01dadafd8f0',\n 'db0e4b5d-2280-4bd5-a990-aa2ccd94289f',\n '5d9a7964-42dd-4982-b765-61fff6af3455',\n 'daa268a6-cfc3-4bcf-bfb1-88644861bff1',\n '4ec8c08b-47f9-4417-97fc-5dec3da35f2b',\n 'd780ff48-5698-40c0-bc5b-5cc98c7dfeda',\n '66952fc9-185e-425e-a36f-802b29a7b2d5',\n 'a054416e-87f1-4499-af03-3bb1be454423',\n '2a08972b-117c-4c87-8659-4b9a44c51fbd',\n '4a181284-4ef7-42e8-959d-e0c61fc4e3bc',\n '7798ff5b-c704-4a5b-ac7c-7ea59c32840b',\n '07d69d19-d638-4009-a75d-803ff4e7c855',\n '0b84a8e6-f6a1-407b-a72a-bf40b8c8e9eb',\n '5cf8ed3f-e996-4f15-bfdd-4f684e35b972',\n '3f849791-51c8-47b0-ae0b-7ade81c5851b',\n '9567aac4-2e2d-4b5e-aac8-8e8317d0db44',\n 'd1403a47-db0a-40b8-b2c5-6b48f5dfab70',\n '6e570057-ae57-4fe6-8c45-05019d2538ac',\n '2588bb0c-d830-4d79-a99d-d3b848e88795',\n '0822aeea-80d5-4797-abbf-ceba6cb96482',\n 'caea6c1d-7a09-4ffc-a7e2-f67073c624fe',\n '013cea96-d15f-41e8-89f3-7444ab3a452d',\n 'aa82540f-ab43-4f7e-9969-a17173ccbfa9',\n '0b81d663-014e-4313-8f0e-53952c1f8f34',\n 'c96b25f8-97ec-450c-89a6-d828c7109c4b',\n '035d8ca4-ecb2-453d-b652-c8cb5ff9aa58',\n 'e0a3a4a2-8cad-419a-b9f7-9f6eaed65f8d',\n '3cedb680-db01-4d1f-bedd-cf499e5a58cd',\n '1391f98c-6357-4444-8a44-1d45707323db',\n '9cf265e2-2969-4cfb-8d99-78678e295350',\n 'aff21bdb-7b33-4361-9b5b-c48e2b087e84',\n '665c16a4-d9a8-47ba-be2d-559bbb935e74',\n '07b3b51f-216d-4627-b491-9e33a3fcc566',\n 'db2d67d4-c84e-4206-9d82-8a4eb03015f8',\n 'f1f6cce7-821b-4539-9264-89ed5cc7d7e6',\n 'ac55b6fa-71f8-4afd-9a5e-2771eb02d929',\n 'dc0746a4-fd04-4ac9-82fd-c4d3c223baa5',\n '48cad311-fe8c-401f-bcb7-be56e0391007',\n '5b45dd98-244e-4ff4-aff7-0db2f27d50d4',\n '7d8a0389-fdec-42bc-bae7-60a9876da225',\n '3df9c330-4304-41bd-b6d6-581febf2a99e',\n '5ad1784c-437f-45a5-a102-ba722d43ebb6',\n '3d492817-fcba-4add-86c8-4f66d1c092e5',\n 'cee7f73b-f5ca-4214-b41f-5cae1fcb8ab8',\n 'd87f5c7e-6709-48c1-898d-21f9b863ddf3',\n 'faa7bb36-8453-4f4c-a154-1d3daf02c40c',\n 'eee5f848-9587-446b-a94c-a8af42bd6cfb',\n 'cad048e0-a007-4c62-86a1-c2b5bdfc36ea',\n '41183322-c272-44ae-8dee-ca397722480c',\n '9be3d45c-b75f-4b83-bc75-2e2640d3c919',\n '5ae0d0ce-a6a5-424c-86d1-d56fa9d52b0a',\n '9f4e3676-39cd-4c7b-9efb-2d94ec31cf5e',\n '8110e8b2-fed8-4901-b9d8-17ef36574e2e',\n '24251e52-7813-46bb-853c-a74646e62658',\n '4d2de866-4da6-4c6b-9a11-d6a1c82843a2',\n 'ef135c74-7140-4181-8297-e809e61d3ed1',\n '25b9c5f4-1bcb-48be-b1d7-d4a880d424e7',\n '092caefe-e905-4f51-af05-d44042739b24',\n 'bc5bb3ed-4473-4534-b4d3-b81b5b43baef',\n '1c187bd2-fabb-4147-90f2-686c6ed0a93f',\n 'd3dffda0-8008-4932-a25b-e2b450387cbb',\n 'f3d6f561-e198-42b8-83d4-403fba72896a',\n 'cc6fde25-5ee3-41c0-85ff-df1c9c90f0bc',\n '0607d604-fb90-461c-b635-5ff1dd2722df',\n 'e8d951ec-7185-478d-a799-0affba69c787',\n '724d2ddf-883c-44ea-be91-352216a5ee76',\n '940e5956-56fa-4473-8da5-db4d2e121130',\n '189f6109-568d-4250-ba8c-9876540bdead',\n '99418123-a407-42d1-af19-042ea99e937e',\n 'e62d40c2-a77e-4cb9-a574-580b0e9ee015',\n '67e8bf9c-8bb0-403c-8f92-32f4799532d9',\n '87904df8-b974-45ec-b0df-fc968d5eb7fc',\n '7b818403-491b-4b1a-83a6-84457df39e02',\n '53199d04-90e0-41d3-a0bd-c913df9dd516',\n '73165837-759d-4a0d-b491-0ca2f2bd4beb',\n '669b0344-ea1d-4305-9f85-01ebb32623d4',\n 'c0fa4215-3815-45f7-8a7a-2d2282a5a012',\n '33cebdb9-882e-4115-98e2-b045a90ebe60',\n '10b0894c-fc18-4a22-a72b-1dd674c9e495',\n 'ace3f7c6-ec76-46ec-ad68-ef0058b387fa',\n '838db009-e79f-4e83-ab19-40c78ac41e27',\n '76287aac-8670-4dd7-aed9-4e18072d3a2f',\n '956aedf0-2a12-4502-b532-a4c970debb20',\n '5c9d7256-935d-4530-9aa3-e611d68f64d0',\n 'ae6997f6-9697-48bb-80f5-8b28a4434d84',\n 'f3613249-8b34-49ec-ad5b-b58eb0cde9fa',\n '9a59bd8d-7b7d-4d18-b93b-cefce7da6701',\n '0351e052-964d-4b76-ba6e-5eaf0e544525',\n '56f7b91e-dace-4ee7-a185-021f3907d978',\n 'f31e75be-3ec8-43b1-bc88-df05920d4bb5',\n '7f92aaff-1c54-46ff-b01f-3622c9e220b0',\n '97f35f0b-1537-460d-8a90-464d8ed2fcdd',\n '9db8ec3e-5ab8-4b3a-b2ff-73a5add2c8d4',\n '4e19c541-aa75-4f62-b84d-4797bb78a508',\n '3e64652c-6e32-4385-9f58-b0894c187260',\n 'ebc34079-1974-4be7-b3ac-534b896a17c9',\n 'b9f3b489-d608-42c0-9ac6-4760c203a25d',\n '04ef8f9c-abee-48e9-90ce-b8e1be523220',\n 'a595835c-e92a-4c61-9cb6-cb23352b432a',\n '145372eb-0d43-4015-af90-7fa9f4ae0837',\n '1b853d03-56c7-40f5-9abc-f8ba3e52ce39',\n 'bc2f0472-a178-4a25-8f61-5cbe72ce6a06',\n 'a09fddf5-7552-4c24-a9b8-0ec82f431f55',\n '765cda6f-ecea-4a0f-bbbf-c818f5f6ff33',\n '43e20874-6bab-44c6-afdf-1bcf498d8f77',\n '5285fdc9-a81b-4457-88b1-af3b664c048e',\n '3db8d64d-366d-4e08-a4b4-2f6615db6fc9',\n '5c431492-9783-43e6-922d-1b67436d27f4',\n 'dd8cc08a-e1e9-4e51-8d62-387236fca588',\n '89a73b55-9d6d-4af5-9c5f-a011657073ef',\n '2aeba92c-fae1-44db-91b3-ba54701dac5f',\n '07f9eddc-e566-40df-af8c-0802f9e7aaec',\n 'f162de14-1f07-4a9c-9586-c7312c630448',\n 'a31b7a49-c2ba-470d-b252-37c5ce39389e',\n '66938eff-d89d-4f1e-920a-61e47b3929bc',\n ...]"
     },
     "execution_count": 10,
     "metadata": {},
     "output_type": "execute_result"
    }
   ],
   "source": [
    "#嵌入向量化\n",
    "from langchain_huggingface import HuggingFaceEmbeddings\n",
    "from langchain_community.vectorstores import Chroma\n",
    "\n",
    "embeddings = HuggingFaceEmbeddings(\n",
    "    model_name=\"sentence-transformers/all-mpnet-base-v2\"\n",
    ")\n",
    "\n",
    "vector_store = Chroma(\n",
    "    collection_name=\"db_movie\",\n",
    "    embedding_function=embeddings,\n",
    "    # persist_directory=\"./chroma_data\", #保存目录可以将vector保存到指定目录\n",
    ")\n",
    "vector_store.add_documents(documents=documents_movie)\n",
    "\n",
    "# vector_store = Chroma.from_documents(\n",
    "#     collection_name=\"db_movie\",\n",
    "#     documents=documents_movie, \n",
    "#     embedding=embeddings, \n",
    "#     persist_directory=persist_directory\n",
    "# )\n"
   ],
   "metadata": {
    "collapsed": false,
    "ExecuteTime": {
     "end_time": "2025-02-27T08:59:37.851630Z",
     "start_time": "2025-02-27T08:59:16.427481Z"
    }
   },
   "id": "56b69c7bda4ef88",
   "execution_count": 10
  },
  {
   "cell_type": "code",
   "outputs": [
    {
     "name": "stdout",
     "output_type": "stream",
     "text": [
      "===\n",
      ": {'row': 12, 'source': '../data/test_csv.csv'}\n",
      "page_content: name: Avatar\n",
      "year: 2009\n",
      "movie_rated: PG-13\n",
      "run_length: 2h 42min\n",
      "genres: Action; Adventure; Fantasy;\n",
      "release_date: 18 December 2009 (USA)\n",
      "rating: 7.8\n",
      "num_raters: 1096125\n",
      "num_reviews: 3415\n"
     ]
    }
   ],
   "source": [
    "# 检索\n",
    "query = \"what is Avatar?？\"\n",
    "docs = vector_store.similarity_search(query, k=1)\n",
    "\n",
    "# 打印结果\n",
    "for doc in docs:\n",
    "    print(\"===\")\n",
    "    print(\":\", doc.metadata)\n",
    "    print(\"page_content:\", doc.page_content)"
   ],
   "metadata": {
    "collapsed": false,
    "ExecuteTime": {
     "end_time": "2025-02-27T08:34:10.419513Z",
     "start_time": "2025-02-27T08:34:09.911906Z"
    }
   },
   "id": "c701afb0597bcf4c",
   "execution_count": 7
  },
  {
   "cell_type": "code",
   "outputs": [],
   "source": [
    "# 检索\n",
    "query = \"what is Avatar?？\"\n",
    "docs = vector_store.similarity_search(query, k=1)\n",
    "\n",
    "# 打印结果\n",
    "for doc in docs:\n",
    "    print(\"===\")\n",
    "    print(\":\", doc.metadata)\n",
    "    print(\"page_content:\", doc.page_content)"
   ],
   "metadata": {
    "collapsed": false
   },
   "id": "76e918f44d76d764"
  }
 ],
 "metadata": {
  "kernelspec": {
   "display_name": "Python 3",
   "language": "python",
   "name": "python3"
  },
  "language_info": {
   "codemirror_mode": {
    "name": "ipython",
    "version": 2
   },
   "file_extension": ".py",
   "mimetype": "text/x-python",
   "name": "python",
   "nbconvert_exporter": "python",
   "pygments_lexer": "ipython2",
   "version": "2.7.6"
  }
 },
 "nbformat": 4,
 "nbformat_minor": 5
}
