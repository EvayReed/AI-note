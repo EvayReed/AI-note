{
 "cells": [
  {
   "cell_type": "raw",
   "source": [
    "今天的目标\n",
    "1.stream流式输出\n",
    "\n",
    "2.统计token消耗\n",
    "\n",
    "3.以下类型文件加载\n",
    ".dm \n",
    ".json \n",
    ".txt\n",
    ".csv \n",
    ".html \n",
    ".pdf\n",
    "\n",
    "4.文档切割"
   ],
   "metadata": {
    "collapsed": false
   },
   "id": "238a804aed623f4c"
  },
  {
   "cell_type": "markdown",
   "source": [
    "# 2.26"
   ],
   "metadata": {
    "collapsed": false
   },
   "id": "debaaf905d6529e3"
  },
  {
   "cell_type": "code",
   "outputs": [
    {
     "name": "stdout",
     "output_type": "stream",
     "text": [
      "<think>|\n",
      "\n",
      "|</think>|\n",
      "\n",
      "|The| color| of| the| sky| depends| on| several| factors|,| including| atmospheric| conditions| like| temperature| and| humidity|.| In| clear|,| sunny| weather|,| most| of| the| sky| appears| a| medium| to| bright| color|—|often| referred| to| as| \"|p|ale| blue|\"| in| places| with| consistent| sunny| patterns|,| such| as| the| Middle| East| or| parts| of| North| America|.| However|,| if| there| are| clouds|,| fog|,| or| mist| present|,| the| sky| may| appear| differently|.\n",
      "\n",
      "|Some| unique| examples| include|:\n",
      "\n",
      "|-| **|Deep| Red|**:| On| land|,| during| rainy| seasons| when| sunlight| is| scattered| more| effectively| (|like| in| dry| areas|),| the| sky| can| appear| deep| red|.\n",
      "|-| **|White| or| Grey|**:| In| regions| with| a| lot| of| cloud| cover| and| rain|,| such| as| in| South| America| or| the| Mediterranean|,| the| sky| often| appears| white| or| slightly| grey|.\n",
      "\n",
      "|For| example|:\n",
      "\n",
      "|-| In| the| Middle| East|,| sunny| skies| might| seem| pale| blue| during| clear| conditions| but| turn| red| if| there|'s| a| mix| of| rain| and| sun|.\n",
      "|-| In| South| America|,| during| rainy| seasons|,| the| sky| can| appear| deep| red| when| it|'s| not| cloudy|.\n",
      "|-| In| parts| of| North| America| during| dry| seasons| without| rain|,| it| might| look| more| like| a| bright| yellow| to| orange|.||"
     ]
    }
   ],
   "source": [
    "from langchain_core.output_parsers import JsonOutputParser\n",
    "import getpass\n",
    "import os\n",
    "from langchain.chat_models import init_chat_model\n",
    "\n",
    "model = init_chat_model(\"deepseek-r1:1.5b\", model_provider=\"ollama\")\n",
    "\n",
    "chunks = []\n",
    "for chunk in model.stream(\"what color is the sky?\"):\n",
    "    chunks.append(chunk)\n",
    "    print(chunk.content, end=\"|\", flush=True)"
   ],
   "metadata": {
    "collapsed": false,
    "ExecuteTime": {
     "end_time": "2025-02-26T03:23:25.718926Z",
     "start_time": "2025-02-26T03:23:18.613459Z"
    }
   },
   "id": "f3df37f8bd29d187",
   "execution_count": 4
  },
  {
   "cell_type": "code",
   "outputs": [
    {
     "name": "stdout",
     "output_type": "stream",
     "text": [
      "<think>|\n",
      "\n",
      "|</think>|\n",
      "\n",
      "|The| color| of| the| sky| can| vary| depending| on| several| factors|,| including| atmospheric| conditions|,| lighting|,| and| time| of| day|.| Here| are| some| common| colors| you| might| observe|:\n",
      "\n",
      "|1|.| **|Blue| or| Tur|quoise|**:| In| the| early| morning| or| late| evening| when| the| sun| is| low| on| the| horizon|,| the| sky| appears| blue|.| This| color| is| often| seen| over| water| bodies| like| lakes|,| rivers|,| and| oceans|.\n",
      "\n",
      "|2|.| **|Red| or| Brown|**:| During| sunrise| or| sunset|,| especially| in| dark| parts| of| the| day|,| the| sky| can| appear| red| or| orange|.| This| effect| is| called| a| \"|red| sky|\"| or| \"|s|unset| effect|.\"\n",
      "\n",
      "|3|.| **|Green|**:| In| mid|day| or| early| evening| when| the| sun| is| directly| overhead|,| clouds| and| land| reflect| more| of| the| sun|'s| light| in| the| green| spectrum|.| This| makes| the| sky| appear| green|.\n",
      "\n",
      "|4|.| **|Yellow|**:| During| autumn|,| especially| around| the| start| of| the| leaves|,| the| sky| can| become| a| golden| or| yellow| color| due| to| poll|in|ators| like| bees| and| butterflies| feeding| on| n|ectar|.\n",
      "\n",
      "|5|.| **|Gray| or| Dark|**:| In| regions| with| dense| forests| or| h|illy| areas|,| the| sky| might| appear| dark| gray| or| even| black| during| the| day| when| there|'s| little| light| pollution|.\n",
      "\n",
      "|6|.| **|White|**:| Under| certain| conditions|,| such| as| when| there| are| no| clouds| in| the| sky| (|e|.g|.,| at| sunrise|,| sunset|,| or| clear| morning| air|),| the| sky| can| appear| white|.\n",
      "\n",
      "|To| observe| the| color| of| the| sky|,| you|'ll| need| a| clear| horizon| and| some| time| to| see| if| it|'s| changing| with| the| sun|'s| position|.||"
     ]
    }
   ],
   "source": [
    "chunks = []\n",
    "async for chunk in model.astream(\"what color is the sky?\"):\n",
    "    chunks.append(chunk)\n",
    "    print(chunk.content, end=\"|\", flush=True)"
   ],
   "metadata": {
    "collapsed": false,
    "ExecuteTime": {
     "end_time": "2025-02-26T03:25:06.876538Z",
     "start_time": "2025-02-26T03:24:57.707170Z"
    }
   },
   "id": "a19717f0079b8024",
   "execution_count": 5
  },
  {
   "cell_type": "code",
   "outputs": [
    {
     "data": {
      "text/plain": "AIMessageChunk(content='<think>', additional_kwargs={}, response_metadata={}, id='run-6c0052a3-81ef-447a-85c4-f5a2f12a1e9e')"
     },
     "execution_count": 6,
     "metadata": {},
     "output_type": "execute_result"
    }
   ],
   "source": [
    "chunks[0]"
   ],
   "metadata": {
    "collapsed": false,
    "ExecuteTime": {
     "end_time": "2025-02-26T03:36:18.938133Z",
     "start_time": "2025-02-26T03:36:18.931417Z"
    }
   },
   "id": "8be88841e366758",
   "execution_count": 6
  },
  {
   "cell_type": "code",
   "outputs": [
    {
     "data": {
      "text/plain": "AIMessageChunk(content='<think>\\n\\n</think>\\n\\nThe', additional_kwargs={}, response_metadata={}, id='run-6c0052a3-81ef-447a-85c4-f5a2f12a1e9e')"
     },
     "execution_count": 7,
     "metadata": {},
     "output_type": "execute_result"
    }
   ],
   "source": [
    "chunks[0] + chunks[1] + chunks[2] + chunks[3] + chunks[4]"
   ],
   "metadata": {
    "collapsed": false,
    "ExecuteTime": {
     "end_time": "2025-02-26T03:36:52.537324Z",
     "start_time": "2025-02-26T03:36:52.532279Z"
    }
   },
   "id": "1d1be11500a25f56",
   "execution_count": 7
  },
  {
   "cell_type": "code",
   "outputs": [
    {
     "name": "stdout",
     "output_type": "stream",
     "text": [
      "<think>|\n",
      "|Okay|,| so| I| need| to| come| up| with| a| joke| about| a| par|rot|.| Hmm|,| par|rots| are| birds|,| right|?| They|'re| often| associated| with| the| word| \"|par|rot|,\"| but| that|'s| just| the| name|.| I|'m| not| sure| what| specific| joke| would| be| fun| about| them|.| Maybe| something| related| to| their| language| or| behavior|.\n",
      "\n",
      "|Let| me| think|...| Par|rots| can| talk|,| so| maybe| they| have| a| dialect| or| something|.| Or| perhaps| there| are| jokes| about| how| par|rots| are| smart| because| of| their| intelligence|.| But| I| don|'t| know| if| that|'s| accurate| or| funny| enough|.\n",
      "\n",
      "|Another| thought|:| par|rots| are| used| in| movies| and| TV| shows| often|.| Maybe| there| are| jokes| related| to| that|.| For| example|,| people| joke| about| them| being| \"|big| boys|\"| but| that| might| be| too| simplistic| and| not| really| a| joke|.\n",
      "\n",
      "|Wait|,| maybe| it|'s| more| about| their| appearance| or| behavior|.| Par|rots| have| different| types|,| like| blue| par|rots| vs|.| red| ones|.| Maybe| compare| their| colors|?| But| that| seems| generic|.\n",
      "\n",
      "|Alternatively|,| I| can| think| of| the| Japanese| street| robots|,| which| are| similar| to| par|rots| in| their| intelligence| and| adapt|ability|.| So| perhaps| a| joke| about| them| being| intelligent| but| not| really| smart|?\n",
      "\n",
      "|Or| maybe| something| from| animal| behavior|,| like| par|rots| using| language| for| dominance| or| communication| among| groups|.| That| could| be| fun| with| a| pun| on| that|.\n",
      "\n",
      "|I|'m| probably| over|comp|lic|ating| it|.| Maybe| the| simplest| version| is| just| to| recognize| that| \"|par|rot|\"| is| a| word| and| that|'s| the| joke| itself|:| what| is| a| par|rot|?| It|'s| a| bird|!| But| I| think| I| need| something| more| interesting|,| maybe| a| play| on| words| or| a| cultural| reference|.\n",
      "|</think>|\n",
      "\n",
      "|What| is| a| par|rot|?| It|'s| a| bird|!||"
     ]
    }
   ],
   "source": [
    "from langchain_core.output_parsers import StrOutputParser\n",
    "from langchain_core.prompts import ChatPromptTemplate\n",
    "\n",
    "prompt = ChatPromptTemplate.from_template(\"tell me a joke about {topic}\")\n",
    "parser = StrOutputParser()\n",
    "chain = prompt | model | parser\n",
    "\n",
    "async for chunk in chain.astream({\"topic\": \"parrot\"}):\n",
    "    print(chunk, end=\"|\", flush=True)"
   ],
   "metadata": {
    "collapsed": false,
    "ExecuteTime": {
     "end_time": "2025-02-26T03:41:33.645283Z",
     "start_time": "2025-02-26T03:41:22.352992Z"
    }
   },
   "id": "16b6bb544a918ccf",
   "execution_count": 8
  },
  {
   "cell_type": "code",
   "outputs": [
    {
     "name": "stdout",
     "output_type": "stream",
     "text": [
      "{}\n",
      "{'countries': []}\n",
      "{'countries': [{}]}\n",
      "{'countries': [{'name': ''}]}\n",
      "{'countries': [{'name': 'France'}]}\n",
      "{'countries': [{'name': 'France', 'population': 6}]}\n",
      "{'countries': [{'name': 'France', 'population': 67}]}\n",
      "{'countries': [{'name': 'France', 'population': 670}]}\n",
      "{'countries': [{'name': 'France', 'population': 6700}]}\n",
      "{'countries': [{'name': 'France', 'population': 67000}]}\n",
      "{'countries': [{'name': 'France', 'population': 670000}]}\n",
      "{'countries': [{'name': 'France', 'population': 6700000}]}\n",
      "{'countries': [{'name': 'France', 'population': 67000000}]}\n",
      "{'countries': [{'name': 'France', 'population': 67000000}, {}]}\n",
      "{'countries': [{'name': 'France', 'population': 67000000}, {'name': ''}]}\n",
      "{'countries': [{'name': 'France', 'population': 67000000}, {'name': 'Spain'}]}\n",
      "{'countries': [{'name': 'France', 'population': 67000000}, {'name': 'Spain', 'population': 4}]}\n",
      "{'countries': [{'name': 'France', 'population': 67000000}, {'name': 'Spain', 'population': 47}]}\n",
      "{'countries': [{'name': 'France', 'population': 67000000}, {'name': 'Spain', 'population': 470}]}\n",
      "{'countries': [{'name': 'France', 'population': 67000000}, {'name': 'Spain', 'population': 4700}]}\n",
      "{'countries': [{'name': 'France', 'population': 67000000}, {'name': 'Spain', 'population': 47000}]}\n",
      "{'countries': [{'name': 'France', 'population': 67000000}, {'name': 'Spain', 'population': 470000}]}\n",
      "{'countries': [{'name': 'France', 'population': 67000000}, {'name': 'Spain', 'population': 4700000}]}\n",
      "{'countries': [{'name': 'France', 'population': 67000000}, {'name': 'Spain', 'population': 4700000}, {}]}\n",
      "{'countries': [{'name': 'France', 'population': 67000000}, {'name': 'Spain', 'population': 4700000}, {'name': ''}]}\n",
      "{'countries': [{'name': 'France', 'population': 67000000}, {'name': 'Spain', 'population': 4700000}, {'name': 'Japan'}]}\n",
      "{'countries': [{'name': 'France', 'population': 67000000}, {'name': 'Spain', 'population': 4700000}, {'name': 'Japan', 'population': 1}]}\n",
      "{'countries': [{'name': 'France', 'population': 67000000}, {'name': 'Spain', 'population': 4700000}, {'name': 'Japan', 'population': 13}]}\n",
      "{'countries': [{'name': 'France', 'population': 67000000}, {'name': 'Spain', 'population': 4700000}, {'name': 'Japan', 'population': 137}]}\n",
      "{'countries': [{'name': 'France', 'population': 67000000}, {'name': 'Spain', 'population': 4700000}, {'name': 'Japan', 'population': 1370}]}\n",
      "{'countries': [{'name': 'France', 'population': 67000000}, {'name': 'Spain', 'population': 4700000}, {'name': 'Japan', 'population': 13700}]}\n",
      "{'countries': [{'name': 'France', 'population': 67000000}, {'name': 'Spain', 'population': 4700000}, {'name': 'Japan', 'population': 137000}]}\n",
      "{'countries': [{'name': 'France', 'population': 67000000}, {'name': 'Spain', 'population': 4700000}, {'name': 'Japan', 'population': 1370000}]}\n",
      "{'countries': [{'name': 'France', 'population': 67000000}, {'name': 'Spain', 'population': 4700000}, {'name': 'Japan', 'population': 13700000}]}\n",
      "{'countries': [{'name': 'France', 'population': 67000000}, {'name': 'Spain', 'population': 4700000}, {'name': 'Japan', 'population': 137000000}]}\n"
     ]
    }
   ],
   "source": [
    "from langchain_core.output_parsers import JsonOutputParser\n",
    "\n",
    "chain = (\n",
    "    model|JsonOutputParser()\n",
    ")\n",
    "async for text in chain.astream(\n",
    "    \"output a list of the countries france, spain and japan and their populations in JSON format. \"\n",
    "    'Use a dict with an outer key of \"countries\" which contains a list of countries. '\n",
    "    \"Each country should have the key `name` and `population`\"\n",
    "):    \n",
    "    print(text,flush=True)"
   ],
   "metadata": {
    "collapsed": false,
    "ExecuteTime": {
     "end_time": "2025-02-26T03:48:58.395987Z",
     "start_time": "2025-02-26T03:48:45.557404Z"
    }
   },
   "id": "d00dcf226309889d",
   "execution_count": 10
  },
  {
   "cell_type": "code",
   "outputs": [
    {
     "name": "stdout",
     "output_type": "stream",
     "text": [
      "响应内容: <think>\n",
      "\n",
      "</think>\n",
      "\n",
      "你好！很高兴见到你，有什么我可以帮忙的吗？无论是学习、工作还是生活中的问题，都可以告诉我哦！😊\n",
      "输入Token: 4\n",
      "输出Token: 31\n",
      "总消耗Token: 35\n"
     ]
    }
   ],
   "source": [
    "from langchain_ollama import ChatOllama\n",
    "from langchain_core.messages import HumanMessage\n",
    "\n",
    "llm = ChatOllama(\n",
    "    model=\"deepseek-r1:1.5b\",\n",
    "    temperature=0.7,\n",
    "    base_url=\"http://localhost:11434\",\n",
    "    stream_usage=True  # 流模式需开启统计\n",
    ")\n",
    "\n",
    "response = llm.invoke([\n",
    "    HumanMessage(content=\"你好\")\n",
    "])\n",
    "\n",
    "# 输出内容和token统计\n",
    "print(f\"响应内容: {response.content}\")\n",
    "print(f\"输入Token: {response.usage_metadata['input_tokens']}\")\n",
    "print(f\"输出Token: {response.usage_metadata['output_tokens']}\")\n",
    "print(f\"总消耗Token: {response.usage_metadata['total_tokens']}\")"
   ],
   "metadata": {
    "collapsed": false,
    "ExecuteTime": {
     "end_time": "2025-02-26T06:06:46.736052Z",
     "start_time": "2025-02-26T06:06:43.525319Z"
    }
   },
   "id": "287f2764d680370d",
   "execution_count": 11
  },
  {
   "cell_type": "code",
   "outputs": [
    {
     "name": "stdout",
     "output_type": "stream",
     "text": [
      "这是一个txt测试文件\n"
     ]
    }
   ],
   "source": [
    "#.txt\n",
    "from langchain.document_loaders import TextLoader\n",
    "\n",
    "# 指定文件路径\n",
    "loader = TextLoader(\"data/test_txt.txt\")\n",
    "\n",
    "# 加载文件内容\n",
    "documents = loader.load()\n",
    "\n",
    "for doc in documents:\n",
    "    print(doc.page_content)"
   ],
   "metadata": {
    "collapsed": false,
    "ExecuteTime": {
     "end_time": "2025-02-26T06:19:46.124067Z",
     "start_time": "2025-02-26T06:19:46.106487Z"
    }
   },
   "id": "15a5bdae2df7deee",
   "execution_count": 12
  },
  {
   "cell_type": "code",
   "outputs": [
    {
     "name": "stdout",
     "output_type": "stream",
     "text": [
      "\n",
      "<?xml version=\"1.0\" encoding=\"utf-8\"?>\n",
      "<!DOCTYPE html PUBLIC \"-//W3C//DTD XHTML 1.0 Strict//EN\"\n",
      " \"http://www.w3.org/TR/xhtml1/DTD/xhtml1-strict.dtd\">\n",
      "<html>\n",
      "  <head>\n",
      "    <title>503 Backend is unhealthy</title>\n",
      "  </head>\n",
      "  <body>\n",
      "    <h1>Error 503 Backend is unhealthy</h1>\n",
      "    <p>Backend is unhealthy</p>\n",
      "    <h3>Error 54113</h3>\n",
      "    <p>Details: cache-sin-wsss1830054-SIN 1740556648 2417078481</p>\n",
      "    <hr>\n",
      "    <p>Varnish cache server</p>\n",
      "  </body>\n",
      "</html>\n"
     ]
    }
   ],
   "source": [
    "# .md\n",
    "from langchain.document_loaders import TextLoader\n",
    "\n",
    "# 指定文件路径\n",
    "loader = TextLoader(\"data/test_md.md\")\n",
    "\n",
    "# 加载文件内容\n",
    "documents = loader.load()\n",
    "\n",
    "for doc in documents:\n",
    "    print(doc.page_content)"
   ],
   "metadata": {
    "collapsed": false,
    "ExecuteTime": {
     "end_time": "2025-02-26T07:59:16.720594Z",
     "start_time": "2025-02-26T07:59:16.709852Z"
    }
   },
   "id": "e9896d5873be14fa",
   "execution_count": 41
  },
  {
   "cell_type": "code",
   "outputs": [
    {
     "name": "stdout",
     "output_type": "stream",
     "text": [
      "{'source': 'data/test_csv.csv', 'row': 0}\n",
      "name: Inception\n",
      "year: 2010\n",
      "movie_rated: PG-13\n",
      "run_length: 2h 28min\n",
      "genres: Action; Adventure; Sci-Fi;\n",
      "release_date: 16 July 2010 (USA)\n",
      "rating: 8.8\n",
      "num_raters: 1981675\n",
      "num_reviews: 3820\n",
      "name: The Lord of the Rings: The Fellowship of the Ring\n",
      "year: 2001\n",
      "movie_rated: PG-13\n",
      "run_length: 2h 58min\n",
      "genres: Action; Adventure; Drama;\n",
      "release_date: 19 December 2001 (USA)\n",
      "rating: 8.8\n",
      "num_raters: 1609165\n",
      "num_reviews: 5365\n",
      "name: The Lord of the Rings: The Return of the King\n",
      "year: 2003\n",
      "movie_rated: PG-13\n",
      "run_length: 3h 21min\n",
      "genres: Adventure; Drama; Fantasy;\n",
      "release_date: 17 December 2003 (USA)\n",
      "rating: 8.9\n",
      "num_raters: 1593859\n",
      "num_reviews: 3681\n",
      "name: The Dark Knight Rises\n",
      "year: 2012\n",
      "movie_rated: PG-13\n",
      "run_length: 2h 44min\n",
      "genres: Action; Adventure;\n",
      "release_date: 20 July 2012 (USA)\n",
      "rating: 8.4\n",
      "num_raters: 1470329\n",
      "num_reviews: 2979\n",
      "name: The Lord of the Rings: The Two Towers\n",
      "year: 2002\n",
      "movie_rated: PG-13\n",
      "run_length: 2h 59min\n",
      "genres: Adventure; Drama; Fantasy;\n",
      "release_date: 18 December 2002 (USA)\n",
      "rating: 8.7\n",
      "num_raters: 1440188\n",
      "num_reviews: 2559\n",
      "name: Interstellar\n",
      "year: 2014\n",
      "movie_rated: PG-13\n",
      "run_length: 2h 49min\n",
      "genres: Adventure; Drama; Sci-Fi;\n",
      "release_date: 7 November 2014 (USA)\n",
      "rating: 8.6\n",
      "num_raters: 1430797\n",
      "num_reviews: 3977\n",
      "name: Gladiator\n",
      "year: 2000\n",
      "movie_rated: R\n",
      "run_length: 2h 35min\n",
      "genres: Action; Adventure; Drama;\n",
      "release_date: 5 May 2000 (USA)\n",
      "rating: 8.5\n",
      "num_raters: 1297718\n",
      "num_reviews: 2636\n",
      "name: Batman Begins\n",
      "year: 2005\n",
      "movie_rated: PG-13\n",
      "run_length: 2h 20min\n",
      "genres: Action; Adventure;\n",
      "release_date: 15 June 2005 (USA)\n",
      "rating: 8.2\n",
      "num_raters: 1269027\n",
      "num_reviews: 2885\n",
      "name: The Avengers\n",
      "year: 2012\n",
      "movie_rated: PG-13\n",
      "run_length: 2h 23min\n",
      "genres: Action; Adventure; Sci-Fi;\n",
      "release_date: 4 May 2012 (USA)\n",
      "rating: 8.0\n",
      "num_raters: 1236048\n",
      "num_reviews: 1929\n",
      "name: Inglourious Basterds\n",
      "year: 2009\n",
      "movie_rated: R\n",
      "run_length: 2h 33min\n",
      "genres: Adventure; Drama; War;\n",
      "release_date: 21 August 2009 (USA)\n",
      "rating: 8.3\n",
      "num_raters: 1219372\n",
      "num_reviews: 1856\n"
     ]
    }
   ],
   "source": [
    "#.csv\n",
    "from langchain.document_loaders import CSVLoader\n",
    "\n",
    "loader = CSVLoader(\"data/test_csv.csv\")\n",
    "\n",
    "documents = loader.load()\n",
    "print(documents[0].metadata)\n",
    "# 输出前 10 行\n",
    "for doc in documents[:10]:\n",
    "    print(doc.page_content)"
   ],
   "metadata": {
    "collapsed": false,
    "ExecuteTime": {
     "end_time": "2025-02-26T06:34:49.713253Z",
     "start_time": "2025-02-26T06:34:49.692973Z"
    }
   },
   "id": "382acc658e5f418b",
   "execution_count": 14
  },
  {
   "cell_type": "code",
   "outputs": [
    {
     "name": "stdout",
     "output_type": "stream",
     "text": [
      "[Document(metadata={'source': 'data/test_html.html'}, page_content='Welcome to the Test HTML File!\\n\\nThis is a simple HTML file created for testing purposes.\\n\\nFeel free to modify it!')]\n"
     ]
    }
   ],
   "source": [
    "# .html \n",
    "from langchain_community.document_loaders import UnstructuredHTMLLoader\n",
    "loader = UnstructuredHTMLLoader(\"data/test_html.html\")\n",
    "docs = loader.load()\n",
    "\n",
    "print(docs)"
   ],
   "metadata": {
    "collapsed": false,
    "ExecuteTime": {
     "end_time": "2025-02-26T07:19:00.069953Z",
     "start_time": "2025-02-26T07:18:46.044848Z"
    }
   },
   "id": "14ffe9a8e49080f",
   "execution_count": 37
  },
  {
   "cell_type": "code",
   "outputs": [
    {
     "name": "stdout",
     "output_type": "stream",
     "text": [
      "{'source': '/Users/dorisen/PycharmProjects/rag_test/AI-note/Dorisen/2.26/data/test_json.json', 'seq_num': 1}\n"
     ]
    }
   ],
   "source": [
    "# .json \n",
    "from langchain_community.document_loaders import JSONLoader\n",
    "\n",
    "loader = JSONLoader(\n",
    "    file_path=\"data/test_json.json\",\n",
    "    jq_schema=\".\",\n",
    "    text_content=False,\n",
    ")\n",
    "\n",
    "docs = loader.load()\n",
    "\n",
    "print(docs[0].metadata)"
   ],
   "metadata": {
    "collapsed": false,
    "ExecuteTime": {
     "end_time": "2025-02-26T07:02:32.141349Z",
     "start_time": "2025-02-26T07:02:32.133723Z"
    }
   },
   "id": "16897ee88907e916",
   "execution_count": 32
  },
  {
   "cell_type": "code",
   "outputs": [
    {
     "data": {
      "text/plain": "Document(metadata={'source': '/Users/dorisen/PycharmProjects/rag_test/AI-note/Dorisen/2.26/data/test_json.json', 'seq_num': 1}, page_content='{\"_type\": \"prompt\", \"input_variables\": [\"name\", \"what\"], \"template\": \"\\\\u7ed9\\\\u6211\\\\u8bb2\\\\u4e00\\\\u4e2a\\\\u5173\\\\u4e8e{name}\\\\u7684{what}\\\\u7684\\\\u6545\\\\u4e8b\"}')"
     },
     "execution_count": 33,
     "metadata": {},
     "output_type": "execute_result"
    }
   ],
   "source": [
    "docs[0]"
   ],
   "metadata": {
    "collapsed": false,
    "ExecuteTime": {
     "end_time": "2025-02-26T07:03:05.750381Z",
     "start_time": "2025-02-26T07:03:05.745388Z"
    }
   },
   "id": "c0ca44b7ccaf7078",
   "execution_count": 33
  },
  {
   "cell_type": "code",
   "outputs": [
    {
     "data": {
      "text/plain": "Document(metadata={'producer': 'GNU Ghostscript 6.51', 'creator': 'PyPDF', 'creationdate': '', 'source': 'data/test_pdf.pdf', 'total_pages': 4, 'page': 0, 'page_label': '1'}, page_content='APPROVED!!!\\nIntroduction \\nThe V irtual R eality M odeling L anguage (V R M L) is a language for describing m ulti-\\nparticipant interactive sim ulations -- virtual w orlds netw orked via the global Internet and \\nhyperlinked w ith the W orld W ide W eb. A ll aspects of virtual w orld display, interaction \\nand internetw orking can be specified using V R M L. It is the intention of its designers that \\nV R M L becom e the standard language for interactive sim ulation w ithin the W orld W ide \\nW eb.  \\nThe first version of V R M L allow s for the creation of virtual w orlds w ith lim ited \\ninteractive behavior. These w orlds can contain objects w hich have hyperlinks to other \\nw orlds, H TM L docum ents or other valid M IM E types. W hen the user selects an object \\nw ith a hyperlink, the appropriate M IM E view er is launched. W hen the user selects a link \\nto a V R M L docum ent from  w ithin a correctly configured W W W  brow ser, a V R M L \\nview er is launched. Thus V R M L view ers are the perfect com panion applications to \\nstandard W W W  brow sers for navigating and visualizing the W eb. Future versions of \\nV R M L w ill allow  for richer behaviors, including anim ations, m otion physics and real-\\ntim e m ulti-user interaction.  \\nThis docum ent specifies the features and syntax of V ersion 1.0 of V R M L.  \\nV R M L  M ission Statem ent \\nThe history of the developm ent of the Internet has had three distinct phases; first, the \\ndevelopm ent of the TC P/IP infrastructure w hich allow ed docum ents and data to be stored \\nin a proxim ally independent w ay; that is, Internet provided a layer of abstraction betw een \\ndata sets and the hosts w hich m anipulated them . W hile this abstraction w as useful, it w as \\nalso confusing; w ithout any clear sense of \"w hat w ent w here\", access to Internet w as \\nrestricted to the class of sysops/net surfers w ho could m aintain internal cognitive m aps of \\nthe data space.  \\nN ext, Tim  B erners-Lee\\'s w ork at C ER N , w here he developed the hyperm edia system  \\nknow n as W orld W ide W eb, added another layer of abstraction to the existing structure. \\nThis abstraction provided an \"addressing\" schem e, a unique identifier (the U niversal \\nR esource Locator), w hich could tell anyone \"w here to go and how  to get there\" for any \\npiece of data w ithin the W eb. W hile useful, it lacked dim ensionality; there\\'s no there \\nthere w ithin the w eb, and the only type of navigation perm issible (other than surfing) is \\nby direct reference. In other w ords, I can only tell you how  to get to the V R M L Forum  \\nhom e page by saying, \"http://w w w .w ired.com /\", w hich is not hum an-centered data. In')"
     },
     "execution_count": 34,
     "metadata": {},
     "output_type": "execute_result"
    }
   ],
   "source": [
    "# .pdf\n",
    "from langchain_community.document_loaders import PyPDFLoader\n",
    "\n",
    "file_path = \"data/test_pdf.pdf\"\n",
    "loader = PyPDFLoader(file_path)\n",
    "docs = loader.load()\n",
    "docs[0]"
   ],
   "metadata": {
    "collapsed": false,
    "ExecuteTime": {
     "end_time": "2025-02-26T07:11:54.196138Z",
     "start_time": "2025-02-26T07:11:53.379127Z"
    }
   },
   "id": "f48897fadfc639a8",
   "execution_count": 34
  },
  {
   "cell_type": "code",
   "outputs": [
    {
     "name": "stdout",
     "output_type": "stream",
     "text": [
      "{'producer': 'GNU Ghostscript 6.51',\n",
      " 'creator': 'PyPDF',\n",
      " 'creationdate': '',\n",
      " 'source': 'data/test_pdf.pdf',\n",
      " 'total_pages': 4,\n",
      " 'page': 0,\n",
      " 'page_label': '1'}\n"
     ]
    }
   ],
   "source": [
    "import pprint\n",
    "\n",
    "pprint.pp(docs[0].metadata)"
   ],
   "metadata": {
    "collapsed": false,
    "ExecuteTime": {
     "end_time": "2025-02-26T07:12:17.745693Z",
     "start_time": "2025-02-26T07:12:17.742514Z"
    }
   },
   "id": "27b9e3f4afe07c62",
   "execution_count": 35
  },
  {
   "cell_type": "code",
   "outputs": [
    {
     "name": "stdout",
     "output_type": "stream",
     "text": [
      "documents nums: 1500\n"
     ]
    }
   ],
   "source": [
    "from langchain.text_splitter import CharacterTextSplitter\n",
    "from langchain.document_loaders import CSVLoader\n",
    "\n",
    "loader = CSVLoader(\"data/test_csv.csv\")\n",
    "\n",
    "documents = loader.load()\n",
    "\n",
    "# 分割文档\n",
    "text_splitter = CharacterTextSplitter(chunk_size=300, chunk_overlap=0)\n",
    "documents_movie = text_splitter.split_documents(documents)\n",
    "print(\"documents nums:\", documents_movie.__len__())\n"
   ],
   "metadata": {
    "collapsed": false,
    "ExecuteTime": {
     "end_time": "2025-02-26T07:27:17.466240Z",
     "start_time": "2025-02-26T07:27:17.424944Z"
    }
   },
   "id": "30c6b8177eeb977c",
   "execution_count": 38
  },
  {
   "cell_type": "code",
   "outputs": [
    {
     "data": {
      "text/plain": "Document(metadata={'source': 'data/test_csv.csv', 'row': 0}, page_content='name: Inception\\nyear: 2010\\nmovie_rated: PG-13\\nrun_length: 2h 28min\\ngenres: Action; Adventure; Sci-Fi;\\nrelease_date: 16 July 2010 (USA)\\nrating: 8.8\\nnum_raters: 1981675\\nnum_reviews: 3820')"
     },
     "execution_count": 40,
     "metadata": {},
     "output_type": "execute_result"
    }
   ],
   "source": [
    "documents_movie[0]"
   ],
   "metadata": {
    "collapsed": false,
    "ExecuteTime": {
     "end_time": "2025-02-26T07:27:56.933041Z",
     "start_time": "2025-02-26T07:27:56.926646Z"
    }
   },
   "id": "6f15458fc9db1512",
   "execution_count": 40
  },
  {
   "cell_type": "code",
   "outputs": [
    {
     "data": {
      "text/plain": "Document(metadata={'source': 'data/test_xlsx.xlsx', 'file_directory': 'data', 'filename': 'test_xlsx.xlsx', 'last_modified': '2025-02-26T17:12:03', 'page_name': 'Sheet1', 'page_number': 1, 'text_as_html': '<table><tr><td>Name</td><td>Age</td><td>City</td></tr><tr><td>Alice</td><td>25</td><td>New York</td></tr><tr><td>Bob</td><td>30</td><td>Los Angeles</td></tr><tr><td>Charlie</td><td>35</td><td>Chicago</td></tr></table>', 'languages': ['eng'], 'filetype': 'application/vnd.openxmlformats-officedocument.spreadsheetml.sheet', 'category': 'Table', 'element_id': '81557391ef6412ecf7675dfd0af42364'}, page_content='Name Age City Alice 25 New York Bob 30 Los Angeles Charlie 35 Chicago')"
     },
     "execution_count": 43,
     "metadata": {},
     "output_type": "execute_result"
    }
   ],
   "source": [
    "from langchain.document_loaders import UnstructuredExcelLoader\n",
    "\n",
    "loader = UnstructuredExcelLoader(\"data/test_xlsx.xlsx\", mode=\"elements\")\n",
    "docs = loader.load()\n",
    "docs[0]"
   ],
   "metadata": {
    "collapsed": false,
    "ExecuteTime": {
     "end_time": "2025-02-26T09:15:00.391485Z",
     "start_time": "2025-02-26T09:15:00.301196Z"
    }
   },
   "id": "7d47c9fe6a0a1e1d",
   "execution_count": 43
  },
  {
   "cell_type": "code",
   "outputs": [
    {
     "data": {
      "text/plain": "Document(metadata={'source': 'data/test_csv.csv', 'row': 0}, page_content='name: Inception\\nyear: 2010\\nmovie_rated: PG-13\\nrun_length: 2h 28min\\ngenres: Action; Adventure; Sci-Fi;\\nrelease_date: 16 July 2010 (USA)\\nrating: 8.8\\nnum_raters: 1981675\\nnum_reviews: 3820')"
     },
     "execution_count": 45,
     "metadata": {},
     "output_type": "execute_result"
    }
   ],
   "source": [
    "import os\n",
    "\n",
    "# file_name = \"data/test_xlsx.xlsx\"\n",
    "file_name = \"data/test_csv.csv\"\n",
    "# file_name = \"data/test_json.json\"\n",
    "# file_name = \"data/test_xlsx.xlsx\"\n",
    "file_extension = os.path.splitext(file_name)[1].lower()\n",
    "#.md .json .txt .csv .pdf .xlsx\n",
    "if file_extension == '.md' or file_extension == 'txt':\n",
    "    loader = TextLoader(file_name)\n",
    "elif file_extension == '.json':\n",
    "    loader = JSONLoader(\n",
    "    file_path=file_name,\n",
    "    jq_schema=\".\",\n",
    "    text_content=False,\n",
    ")\n",
    "elif file_extension == '.csv':\n",
    "    loader = CSVLoader(file_name)\n",
    "elif file_extension == '.xlsx':\n",
    "    loader = UnstructuredExcelLoader(\n",
    "        file_name,\n",
    "        mode=\"elements\")\n",
    "elif file_extension == '.pdf':\n",
    "    loader = PyPDFLoader(file_path)\n",
    "else:\n",
    "    print(\"未知文件类型\")\n",
    "    \n",
    "docs = loader.load()\n",
    "docs[0]"
   ],
   "metadata": {
    "collapsed": false,
    "ExecuteTime": {
     "end_time": "2025-02-26T10:51:16.430061Z",
     "start_time": "2025-02-26T10:51:16.393376Z"
    }
   },
   "id": "40a57e2c479142f8",
   "execution_count": 45
  },
  {
   "cell_type": "code",
   "outputs": [],
   "source": [],
   "metadata": {
    "collapsed": false
   },
   "id": "8766658bbcd264c0"
  }
 ],
 "metadata": {
  "kernelspec": {
   "display_name": "Python 3",
   "language": "python",
   "name": "python3"
  },
  "language_info": {
   "codemirror_mode": {
    "name": "ipython",
    "version": 2
   },
   "file_extension": ".py",
   "mimetype": "text/x-python",
   "name": "python",
   "nbconvert_exporter": "python",
   "pygments_lexer": "ipython2",
   "version": "2.7.6"
  }
 },
 "nbformat": 4,
 "nbformat_minor": 5
}
