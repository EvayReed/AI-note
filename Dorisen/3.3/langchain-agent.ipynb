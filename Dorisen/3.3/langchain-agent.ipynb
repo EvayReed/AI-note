{
 "cells": [
  {
   "cell_type": "code",
   "outputs": [],
   "source": [
    "import getpass\n",
    "import os\n",
    "\n",
    "os.environ[\"TAVILY_API_KEY\"] = getpass.getpass()"
   ],
   "metadata": {
    "collapsed": false,
    "ExecuteTime": {
     "end_time": "2025-03-03T08:26:02.777750Z",
     "start_time": "2025-03-03T08:25:59.431371Z"
    }
   },
   "id": "44bee14e0923d08c",
   "execution_count": 19
  },
  {
   "cell_type": "code",
   "outputs": [
    {
     "name": "stdout",
     "output_type": "stream",
     "text": [
      "[{'url': 'https://www.weatherapi.com/', 'content': \"{'location': {'name': 'San Francisco', 'region': 'California', 'country': 'United States of America', 'lat': 37.775, 'lon': -122.4183, 'tz_id': 'America/Los_Angeles', 'localtime_epoch': 1740989816, 'localtime': '2025-03-03 00:16'}, 'current': {'last_updated_epoch': 1740989700, 'last_updated': '2025-03-03 00:15', 'temp_c': 10.3, 'temp_f': 50.5, 'is_day': 0, 'condition': {'text': 'Partly cloudy', 'icon': '//cdn.weatherapi.com/weather/64x64/night/116.png', 'code': 1003}, 'wind_mph': 15.2, 'wind_kph': 24.5, 'wind_degree': 294, 'wind_dir': 'WNW', 'pressure_mb': 1019.0, 'pressure_in': 30.1, 'precip_mm': 0.0, 'precip_in': 0.0, 'humidity': 71, 'cloud': 25, 'feelslike_c': 7.4, 'feelslike_f': 45.3, 'windchill_c': 6.3, 'windchill_f': 43.3, 'heatindex_c': 9.4, 'heatindex_f': 48.9, 'dewpoint_c': 6.5, 'dewpoint_f': 43.7, 'vis_km': 16.0, 'vis_miles': 9.0, 'uv': 0.0, 'gust_mph': 22.3, 'gust_kph': 36.0}}\"}, {'url': 'https://weather.com/weather/today/l/USCA0987:1:US', 'content': \"Weather Forecast and Conditions for San Francisco, CA - The Weather Channel | Weather.com Weather Forecasts Today's Forecast for San Francisco, CA Weather Today in San Francisco, CA Northeast Snow Totals Likely To Surpass Past 2 Winters Combined ### Now 49° Chance of Rain2% ### 10 pm 48° Chance of Rain2% ### 11 pm 47° Chance of Rain2% ### 12 am 46° Chance of Rain2% Breathe Easier This Winter By Improving Indoor Air Quality Thank You Blithedale Canyon / Middle Ridge Neighbor 0d ago 9reactions6commentsMoreCoast cafe OPEN after our Winter Break!We are now back from our vacations and OPEN for our Winter Hours. Weather Data APIs We may use or share your data with our data vendors.\"}]\n"
     ]
    }
   ],
   "source": [
    "from langchain_community.tools.tavily_search import TavilySearchResults\n",
    "\n",
    "search = TavilySearchResults(max_results=2)\n",
    "search_results = search.invoke(\"what is the weather in SF\")\n",
    "print(search_results)\n",
    "# If we want, we can create other tools.\n",
    "# Once we have all the tools we want, we can put them in a list that we will reference later.\n",
    "tools = [search]"
   ],
   "metadata": {
    "collapsed": false,
    "ExecuteTime": {
     "end_time": "2025-03-03T08:26:07.506189Z",
     "start_time": "2025-03-03T08:26:04.643154Z"
    }
   },
   "id": "45933d17a8b0d2f0",
   "execution_count": 20
  },
  {
   "cell_type": "code",
   "outputs": [
    {
     "data": {
      "text/plain": "'How can I assist you today?'"
     },
     "execution_count": 25,
     "metadata": {},
     "output_type": "execute_result"
    }
   ],
   "source": [
    "from langchain_ollama import ChatOllama\n",
    "\n",
    "model = ChatOllama(\n",
    "    model=\"llama3.2\",\n",
    "    temperature=0,\n",
    "    # other params...\n",
    ")\n",
    "\n",
    "# model = ChatOllama(\n",
    "#     model=\"deepseek-r1:32b\",\n",
    "#     temperature=0.3,\n",
    "#     base_url = \"http://10.1.4.136:11434/\"\n",
    "# )\n",
    "from langchain_core.messages import HumanMessage\n",
    "\n",
    "response = model.invoke([HumanMessage(content=\"hi!\")])\n",
    "response.content\n"
   ],
   "metadata": {
    "collapsed": false,
    "ExecuteTime": {
     "end_time": "2025-03-03T08:54:17.105072Z",
     "start_time": "2025-03-03T08:54:16.300932Z"
    }
   },
   "id": "178b0c6f370a7a06",
   "execution_count": 25
  },
  {
   "cell_type": "code",
   "outputs": [
    {
     "name": "stdout",
     "output_type": "stream",
     "text": [
      "ContentString: \n",
      "ToolCalls: [{'name': 'tavily_search_results_json', 'args': {'query': 'current events'}, 'id': '7f148f43-8a57-4e6d-8ace-9cf87cd73424', 'type': 'tool_call'}]\n"
     ]
    }
   ],
   "source": [
    "#现在我们可以调用模型了。我们先用普通消息调用它，看看它如何响应。\n",
    "# 我们可以同时查看字段content和tool_calls字段。\n",
    "# ps:这个model需要支持tool的模型才可以\n",
    "model_with_tools = model.bind_tools(tools)\n",
    "\n",
    "response = model_with_tools.invoke([HumanMessage(content=\"Hi!\")])\n",
    "\n",
    "print(f\"ContentString: {response.content}\")\n",
    "print(f\"ToolCalls: {response.tool_calls}\")"
   ],
   "metadata": {
    "collapsed": false,
    "ExecuteTime": {
     "end_time": "2025-03-03T08:54:21.230154Z",
     "start_time": "2025-03-03T08:54:19.406862Z"
    }
   },
   "id": "99ced3c102f3a12a",
   "execution_count": 26
  },
  {
   "cell_type": "code",
   "outputs": [],
   "source": [
    "from langgraph.prebuilt import create_react_agent\n",
    "\n",
    "agent_executor = create_react_agent(model, tools)"
   ],
   "metadata": {
    "collapsed": false,
    "ExecuteTime": {
     "end_time": "2025-03-03T08:55:32.314156Z",
     "start_time": "2025-03-03T08:55:32.147288Z"
    }
   },
   "id": "9a095ef096267cf0",
   "execution_count": 27
  },
  {
   "cell_type": "code",
   "outputs": [
    {
     "data": {
      "text/plain": "[HumanMessage(content='hi!', additional_kwargs={}, response_metadata={}, id='258c5073-e665-401f-a4c9-1cf9446b5731'),\n AIMessage(content='', additional_kwargs={}, response_metadata={'model': 'llama3.2', 'created_at': '2025-03-03T08:55:47.270813Z', 'done': True, 'done_reason': 'stop', 'total_duration': 1274652334, 'load_duration': 30726292, 'prompt_eval_count': 188, 'prompt_eval_duration': 251000000, 'eval_count': 22, 'eval_duration': 991000000, 'message': Message(role='assistant', content='', images=None, tool_calls=None)}, id='run-160ce533-2c33-41f6-b787-26d5c5261838-0', tool_calls=[{'name': 'tavily_search_results_json', 'args': {'query': 'current events'}, 'id': '3f5ab38c-b381-469f-825f-dc8ab538f8da', 'type': 'tool_call'}], usage_metadata={'input_tokens': 188, 'output_tokens': 22, 'total_tokens': 210}),\n ToolMessage(content='[{\"url\": \"https://www.nytimes.com/spotlight/learning-current-events\", \"content\": \"Current Events - The New York Times Resources for teaching about current events using New York Times content Resources for teaching about current events using New York Times content ### Weekly Student New Quiz: Plane Crash, A.I. Breakthrough, N.B.A.Have you been paying attention to current events recently? ### Teenagers on Their Hopes and Fears for a Second Trump AdministrationWe asked students, “What are you thinking and feeling as President Trump returns to power?” ### Weekly Student News Quiz: President Trump, TikTok, College Football ChampionHave you been paying attention to current events recently? A weekly collection of lesson plans, writing prompts and activities from The Learning Network, a site that helps educators and students teach and learn with The New York Times.\"}, {\"url\": \"https://www.izzit.org/events/\", \"content\": \"Keep your students up-to-date on what\\'s happening in the world, and sneak in some reading comprehension practice and awesome vocabulary words.\"}]', name='tavily_search_results_json', id='679d3282-9353-4ca3-beda-01abd66befc9', tool_call_id='3f5ab38c-b381-469f-825f-dc8ab538f8da', artifact={'query': 'current events', 'follow_up_questions': None, 'answer': None, 'images': [], 'results': [{'url': 'https://www.nytimes.com/spotlight/learning-current-events', 'title': 'Current Events - The New York Times', 'content': 'Current Events - The New York Times Resources for teaching about current events using New York Times content Resources for teaching about current events using New York Times content ### Weekly Student New Quiz: Plane Crash, A.I. Breakthrough, N.B.A.Have you been paying attention to current events recently? ### Teenagers on Their Hopes and Fears for a Second Trump AdministrationWe asked students, “What are you thinking and feeling as President Trump returns to power?” ### Weekly Student News Quiz: President Trump, TikTok, College Football ChampionHave you been paying attention to current events recently? A weekly collection of lesson plans, writing prompts and activities from The Learning Network, a site that helps educators and students teach and learn with The New York Times.', 'score': 0.58237284, 'raw_content': None}, {'url': 'https://www.izzit.org/events/', 'title': 'Current Events | izzit.org', 'content': \"Keep your students up-to-date on what's happening in the world, and sneak in some reading comprehension practice and awesome vocabulary words.\", 'score': 0.39627898, 'raw_content': None}], 'response_time': 1.75}),\n AIMessage(content='Here are some current events resources to help you teach about current events using New York Times content:\\n\\n* The Learning Network offers weekly lesson plans, writing prompts, and activities that incorporate current events from The New York Times.\\n* Izzit.org provides a list of upcoming events that can be used as teaching tools for reading comprehension and vocabulary practice.\\n\\nYou can find more resources and ideas on these websites to help you stay up-to-date with current events and engage your students in learning.', additional_kwargs={}, response_metadata={'model': 'llama3.2', 'created_at': '2025-03-03T08:55:55.924044Z', 'done': True, 'done_reason': 'stop', 'total_duration': 5730286666, 'load_duration': 38397791, 'prompt_eval_count': 306, 'prompt_eval_duration': 1026000000, 'eval_count': 96, 'eval_duration': 4333000000, 'message': Message(role='assistant', content='Here are some current events resources to help you teach about current events using New York Times content:\\n\\n* The Learning Network offers weekly lesson plans, writing prompts, and activities that incorporate current events from The New York Times.\\n* Izzit.org provides a list of upcoming events that can be used as teaching tools for reading comprehension and vocabulary practice.\\n\\nYou can find more resources and ideas on these websites to help you stay up-to-date with current events and engage your students in learning.', images=None, tool_calls=None)}, id='run-59e8f569-5eda-4fc1-b38d-159f2ba79a0f-0', usage_metadata={'input_tokens': 306, 'output_tokens': 96, 'total_tokens': 402})]"
     },
     "execution_count": 28,
     "metadata": {},
     "output_type": "execute_result"
    }
   ],
   "source": [
    "response = agent_executor.invoke({\"messages\": [HumanMessage(content=\"hi!\")]})\n",
    "\n",
    "response[\"messages\"]"
   ],
   "metadata": {
    "collapsed": false,
    "ExecuteTime": {
     "end_time": "2025-03-03T08:55:55.932226Z",
     "start_time": "2025-03-03T08:55:45.982656Z"
    }
   },
   "id": "3dafc00a97a5f8a0",
   "execution_count": 28
  },
  {
   "cell_type": "markdown",
   "source": [
    "为了确切了解幕后发生了什么（并确保它没有调用工具），我们可以查看LangSmith 跟踪\n",
    "\n",
    "现在让我们在一个应该调用该工具的示例上尝试一下"
   ],
   "metadata": {
    "collapsed": false
   },
   "id": "e8a305c5f3fdbb78"
  },
  {
   "cell_type": "code",
   "outputs": [
    {
     "data": {
      "text/plain": "[HumanMessage(content='whats the weather in sf?', additional_kwargs={}, response_metadata={}, id='80919522-883e-4fa6-b5c8-4982bbb60ede'),\n AIMessage(content='', additional_kwargs={}, response_metadata={'model': 'llama3.2', 'created_at': '2025-03-03T08:58:45.510073Z', 'done': True, 'done_reason': 'stop', 'total_duration': 1763595500, 'load_duration': 31795125, 'prompt_eval_count': 193, 'prompt_eval_duration': 769000000, 'eval_count': 22, 'eval_duration': 961000000, 'message': Message(role='assistant', content='', images=None, tool_calls=None)}, id='run-f543c5ad-5be1-4d90-ae11-2efaf9d9637e-0', tool_calls=[{'name': 'tavily_search_results_json', 'args': {'query': 'sf weather'}, 'id': '0b963291-d8b4-4919-812d-7dd6fd245c19', 'type': 'tool_call'}], usage_metadata={'input_tokens': 193, 'output_tokens': 22, 'total_tokens': 215}),\n ToolMessage(content='[{\"url\": \"https://www.weatherapi.com/\", \"content\": \"{\\'location\\': {\\'name\\': \\'San Francisco\\', \\'region\\': \\'California\\', \\'country\\': \\'United States of America\\', \\'lat\\': 37.775, \\'lon\\': -122.4183, \\'tz_id\\': \\'America/Los_Angeles\\', \\'localtime_epoch\\': 1740992856, \\'localtime\\': \\'2025-03-03 01:07\\'}, \\'current\\': {\\'last_updated_epoch\\': 1740992400, \\'last_updated\\': \\'2025-03-03 01:00\\', \\'temp_c\\': 10.2, \\'temp_f\\': 50.4, \\'is_day\\': 0, \\'condition\\': {\\'text\\': \\'Partly cloudy\\', \\'icon\\': \\'//cdn.weatherapi.com/weather/64x64/night/116.png\\', \\'code\\': 1003}, \\'wind_mph\\': 15.2, \\'wind_kph\\': 24.5, \\'wind_degree\\': 294, \\'wind_dir\\': \\'WNW\\', \\'pressure_mb\\': 1019.0, \\'pressure_in\\': 30.1, \\'precip_mm\\': 0.0, \\'precip_in\\': 0.0, \\'humidity\\': 71, \\'cloud\\': 25, \\'feelslike_c\\': 7.2, \\'feelslike_f\\': 45.0, \\'windchill_c\\': 6.3, \\'windchill_f\\': 43.3, \\'heatindex_c\\': 9.4, \\'heatindex_f\\': 48.9, \\'dewpoint_c\\': 6.5, \\'dewpoint_f\\': 43.7, \\'vis_km\\': 16.0, \\'vis_miles\\': 9.0, \\'uv\\': 0.0, \\'gust_mph\\': 22.3, \\'gust_kph\\': 36.0}}\"}, {\"url\": \"https://world-weather.info/forecast/usa/san_francisco/march-2025/\", \"content\": \"Weather in San Francisco in March 2025 (California) - Detailed Weather Forecast for a Month Weather in San Francisco Weather in San Francisco in March 2025 San Francisco Weather Forecast for March 2025 is based on long term prognosis and previous years\\' statistical data. 1 +54°+52° 2 +54°+50° 3 +54°+50° 4 +54°+48° 5 +61°+46° +59°+50° +59°+50° +61°+50° +61°+52° +61°+52° +63°+52° +63°+52° +61°+52° +61°+52° +63°+54° +61°+52° +63°+50° +61°+52° +61°+52° +59°+52° +61°+52° +59°+50° +57°+50° +57°+50° +59°+50° +59°+50° +61°+52° +63°+52° +63°+54° +63°+52° +63°+54° Extended weather forecast in San Francisco HourlyWeek10-Day14-Day30-DayYear Weather in Washington, D.C.+32° Sacramento+55° Pleasanton+52° Redwood City+55° San Leandro+55° San Mateo+54° San Rafael+55° San Ramon+52° South San Francisco+54° Vallejo+54° Palo Alto+55° Pacifica+55° Berkeley+57° Castro Valley+54° Concord+54° Daly City+54° Lagunitas+55° world\\'s temperature today day day Temperature units\"}]', name='tavily_search_results_json', id='fc89f5c8-db8a-4dda-9e1f-76a6324ff720', tool_call_id='0b963291-d8b4-4919-812d-7dd6fd245c19', artifact={'query': 'sf weather', 'follow_up_questions': None, 'answer': None, 'images': [], 'results': [{'title': 'Weather in san francisco', 'url': 'https://www.weatherapi.com/', 'content': \"{'location': {'name': 'San Francisco', 'region': 'California', 'country': 'United States of America', 'lat': 37.775, 'lon': -122.4183, 'tz_id': 'America/Los_Angeles', 'localtime_epoch': 1740992856, 'localtime': '2025-03-03 01:07'}, 'current': {'last_updated_epoch': 1740992400, 'last_updated': '2025-03-03 01:00', 'temp_c': 10.2, 'temp_f': 50.4, 'is_day': 0, 'condition': {'text': 'Partly cloudy', 'icon': '//cdn.weatherapi.com/weather/64x64/night/116.png', 'code': 1003}, 'wind_mph': 15.2, 'wind_kph': 24.5, 'wind_degree': 294, 'wind_dir': 'WNW', 'pressure_mb': 1019.0, 'pressure_in': 30.1, 'precip_mm': 0.0, 'precip_in': 0.0, 'humidity': 71, 'cloud': 25, 'feelslike_c': 7.2, 'feelslike_f': 45.0, 'windchill_c': 6.3, 'windchill_f': 43.3, 'heatindex_c': 9.4, 'heatindex_f': 48.9, 'dewpoint_c': 6.5, 'dewpoint_f': 43.7, 'vis_km': 16.0, 'vis_miles': 9.0, 'uv': 0.0, 'gust_mph': 22.3, 'gust_kph': 36.0}}\", 'score': 0.9493354, 'raw_content': None}, {'url': 'https://world-weather.info/forecast/usa/san_francisco/march-2025/', 'title': 'Weather in San Francisco in March 2025 (California)', 'content': \"Weather in San Francisco in March 2025 (California) - Detailed Weather Forecast for a Month Weather in San Francisco Weather in San Francisco in March 2025 San Francisco Weather Forecast for March 2025 is based on long term prognosis and previous years' statistical data. 1 +54°+52° 2 +54°+50° 3 +54°+50° 4 +54°+48° 5 +61°+46° +59°+50° +59°+50° +61°+50° +61°+52° +61°+52° +63°+52° +63°+52° +61°+52° +61°+52° +63°+54° +61°+52° +63°+50° +61°+52° +61°+52° +59°+52° +61°+52° +59°+50° +57°+50° +57°+50° +59°+50° +59°+50° +61°+52° +63°+52° +63°+54° +63°+52° +63°+54° Extended weather forecast in San Francisco HourlyWeek10-Day14-Day30-DayYear Weather in Washington, D.C.+32° Sacramento+55° Pleasanton+52° Redwood City+55° San Leandro+55° San Mateo+54° San Rafael+55° San Ramon+52° South San Francisco+54° Vallejo+54° Palo Alto+55° Pacifica+55° Berkeley+57° Castro Valley+54° Concord+54° Daly City+54° Lagunitas+55° world's temperature today day day Temperature units\", 'score': 0.9466806, 'raw_content': None}], 'response_time': 2.03}),\n AIMessage(content='The current weather in San Francisco is partly cloudy with a temperature of 10.2°C (50.4°F). The wind speed is 15.2 mph (24.5 km/h) from the WNW direction, and the pressure is 1019.0 mbar. There is no precipitation expected, and the humidity is at 71%.', additional_kwargs={}, response_metadata={'model': 'llama3.2', 'created_at': '2025-03-03T08:58:55.820492Z', 'done': True, 'done_reason': 'stop', 'total_duration': 7042707500, 'load_duration': 40558916, 'prompt_eval_count': 903, 'prompt_eval_duration': 3432000000, 'eval_count': 73, 'eval_duration': 3561000000, 'message': Message(role='assistant', content='The current weather in San Francisco is partly cloudy with a temperature of 10.2°C (50.4°F). The wind speed is 15.2 mph (24.5 km/h) from the WNW direction, and the pressure is 1019.0 mbar. There is no precipitation expected, and the humidity is at 71%.', images=None, tool_calls=None)}, id='run-a9e99f8b-5826-414d-8b4b-2246d152596f-0', usage_metadata={'input_tokens': 903, 'output_tokens': 73, 'total_tokens': 976})]"
     },
     "execution_count": 29,
     "metadata": {},
     "output_type": "execute_result"
    }
   ],
   "source": [
    "response = agent_executor.invoke(\n",
    "    {\"messages\": [HumanMessage(content=\"whats the weather in sf?\")]}\n",
    ")\n",
    "response[\"messages\"]"
   ],
   "metadata": {
    "collapsed": false,
    "ExecuteTime": {
     "end_time": "2025-03-03T08:58:55.831166Z",
     "start_time": "2025-03-03T08:58:43.740706Z"
    }
   },
   "id": "faaba3b83cd14e88",
   "execution_count": 29
  },
  {
   "cell_type": "markdown",
   "source": [
    "# Streaming Messages\n",
    "我们已经了解了如何调用代理.invoke来获得最终响应。如果代理执行多个步骤，这可能需要一段时间。为了显示中间进度，我们可以在消息发生时回传消息。"
   ],
   "metadata": {
    "collapsed": false
   },
   "id": "5d05f329cb9b5385"
  },
  {
   "cell_type": "code",
   "outputs": [
    {
     "name": "stdout",
     "output_type": "stream",
     "text": [
      "================================\u001B[1m Human Message \u001B[0m=================================\n",
      "\n",
      "whats the weather in sf?\n",
      "==================================\u001B[1m Ai Message \u001B[0m==================================\n",
      "Tool Calls:\n",
      "  tavily_search_results_json (6497cee7-c644-4c6e-8cc5-08ae0774c1ed)\n",
      " Call ID: 6497cee7-c644-4c6e-8cc5-08ae0774c1ed\n",
      "  Args:\n",
      "    query: sf weather\n",
      "=================================\u001B[1m Tool Message \u001B[0m=================================\n",
      "Name: tavily_search_results_json\n",
      "\n",
      "[{\"url\": \"https://www.weatherapi.com/\", \"content\": \"{'location': {'name': 'San Francisco', 'region': 'California', 'country': 'United States of America', 'lat': 37.775, 'lon': -122.4183, 'tz_id': 'America/Los_Angeles', 'localtime_epoch': 1740992856, 'localtime': '2025-03-03 01:07'}, 'current': {'last_updated_epoch': 1740992400, 'last_updated': '2025-03-03 01:00', 'temp_c': 10.2, 'temp_f': 50.4, 'is_day': 0, 'condition': {'text': 'Partly cloudy', 'icon': '//cdn.weatherapi.com/weather/64x64/night/116.png', 'code': 1003}, 'wind_mph': 15.2, 'wind_kph': 24.5, 'wind_degree': 294, 'wind_dir': 'WNW', 'pressure_mb': 1019.0, 'pressure_in': 30.1, 'precip_mm': 0.0, 'precip_in': 0.0, 'humidity': 71, 'cloud': 25, 'feelslike_c': 7.2, 'feelslike_f': 45.0, 'windchill_c': 6.3, 'windchill_f': 43.3, 'heatindex_c': 9.4, 'heatindex_f': 48.9, 'dewpoint_c': 6.5, 'dewpoint_f': 43.7, 'vis_km': 16.0, 'vis_miles': 9.0, 'uv': 0.0, 'gust_mph': 22.3, 'gust_kph': 36.0}}\"}, {\"url\": \"https://world-weather.info/forecast/usa/san_francisco/march-2025/\", \"content\": \"Weather in San Francisco in March 2025 (California) - Detailed Weather Forecast for a Month Weather in San Francisco Weather in San Francisco in March 2025 San Francisco Weather Forecast for March 2025 is based on long term prognosis and previous years' statistical data. 1 +54°+52° 2 +54°+50° 3 +54°+50° 4 +54°+48° 5 +61°+46° +59°+50° +59°+50° +61°+50° +61°+52° +61°+52° +63°+52° +63°+52° +61°+52° +61°+52° +63°+54° +61°+52° +63°+50° +61°+52° +61°+52° +59°+52° +61°+52° +59°+50° +57°+50° +57°+50° +59°+50° +59°+50° +61°+52° +63°+52° +63°+54° +63°+52° +63°+54° Extended weather forecast in San Francisco HourlyWeek10-Day14-Day30-DayYear Weather in Washington, D.C.+32° Sacramento+55° Pleasanton+52° Redwood City+55° San Leandro+55° San Mateo+54° San Rafael+55° San Ramon+52° South San Francisco+54° Vallejo+54° Palo Alto+55° Pacifica+55° Berkeley+57° Castro Valley+54° Concord+54° Daly City+54° Lagunitas+55° world's temperature today day day Temperature units\"}]\n",
      "==================================\u001B[1m Ai Message \u001B[0m==================================\n",
      "\n",
      "The current weather in San Francisco is partly cloudy with a temperature of 10.2°C (50.4°F). The wind speed is 15.2 mph (24.5 km/h) from the WNW direction, and the pressure is 1019.0 mbar. There is no precipitation expected, and the humidity is at 71%.\n"
     ]
    }
   ],
   "source": [
    "for step in agent_executor.stream(\n",
    "    {\"messages\": [HumanMessage(content=\"whats the weather in sf?\")]},\n",
    "    stream_mode=\"values\",\n",
    "):\n",
    "    step[\"messages\"][-1].pretty_print()"
   ],
   "metadata": {
    "collapsed": false,
    "ExecuteTime": {
     "end_time": "2025-03-03T09:05:16.939731Z",
     "start_time": "2025-03-03T09:05:04.584159Z"
    }
   },
   "id": "84141f332b9ec87d",
   "execution_count": 30
  },
  {
   "cell_type": "code",
   "outputs": [],
   "source": [],
   "metadata": {
    "collapsed": false
   },
   "id": "56e5c3e1efcd3e32"
  }
 ],
 "metadata": {
  "kernelspec": {
   "display_name": "Python 3",
   "language": "python",
   "name": "python3"
  },
  "language_info": {
   "codemirror_mode": {
    "name": "ipython",
    "version": 2
   },
   "file_extension": ".py",
   "mimetype": "text/x-python",
   "name": "python",
   "nbconvert_exporter": "python",
   "pygments_lexer": "ipython2",
   "version": "2.7.6"
  }
 },
 "nbformat": 4,
 "nbformat_minor": 5
}
