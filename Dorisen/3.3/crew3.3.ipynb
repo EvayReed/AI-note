{
 "cells": [
  {
   "cell_type": "code",
   "execution_count": 7,
   "id": "initial_id",
   "metadata": {
    "collapsed": true,
    "ExecuteTime": {
     "end_time": "2025-03-03T07:43:49.043998Z",
     "start_time": "2025-03-03T07:43:46.899268Z"
    }
   },
   "outputs": [
    {
     "data": {
      "text/plain": "\"snippet: Michelle Obama has made her first public video appearance since swirling speculation about her marriage to Barack Obama, setting the record straight with her signature poise and grace. The former ..., title: Michelle Obama makes emotional announcement amid speculation over ..., link: https://www.hellomagazine.com/celebrities/812295/michele-obama-makes-emotional-announcement-amid-divorce-speculation/, snippet: Obama's father, Barack Obama, Sr., was a teenage goatherd in rural Kenya, won a scholarship to study in the United States, and eventually became a senior economist in the Kenyan government.Obama's mother, S. Ann Dunham, grew up in Kansas, Texas, and Washington state before her family settled in Honolulu.In 1960 she and Barack Sr. met in a Russian language class at the University of Hawaii ..., title: Barack Obama | Biography, Parents, Education, Presidency, Books ..., link: https://www.britannica.com/biography/Barack-Obama, snippet: The claim: Proposed constitutional amendment would allow Obama to run for third term. A Jan. 23 Threads post (direct link, archive link) claims President Donald Trump's allies proposed legislation ..., title: Obama barred from proposal to allow presidents third term | Fact check, link: https://www.usatoday.com/story/news/factcheck/2025/01/29/obama-trump-president-third-term-fact-check/77998416007/, snippet: Footage of Obama and Bush sharing a laugh during Trump's swearing-in ceremony took off online Monday, with many internet sleuths wondering what the 43rd and 44th presidents were joking about. 4., title: Lip reader reveals what Obama said to Bush at Trump's inauguration, link: https://nypost.com/2025/01/21/us-news/lip-reader-reveals-what-obama-said-to-bush-at-trumps-inauguration/\""
     },
     "execution_count": 7,
     "metadata": {},
     "output_type": "execute_result"
    }
   ],
   "source": [
    "from crewai import Agent, Task, Crew, Process\n",
    "import os\n",
    "from langchain.llms import Ollama\n",
    "from langchain_community.tools import DuckDuckGoSearchResults\n",
    "from dotenv import load_dotenv\n",
    "\n",
    "# 加载 .env 文件\n",
    "load_dotenv()\n",
    "\n",
    "search_tool = DuckDuckGoSearchResults()\n",
    "search_tool.invoke(\"Obama\")\n"
   ]
  },
  {
   "cell_type": "code",
   "outputs": [
    {
     "ename": "ValidationError",
     "evalue": "1 validation error for Agent\ntools\n  Value error, Invalid tool type: <class 'langchain_community.tools.ddg_search.tool.DuckDuckGoSearchResults'>. Tool must be an instance of BaseTool or an object with 'name', 'func', and 'description' attributes. [type=value_error, input_value=[DuckDuckGoSearchResults(...'auto', source='text'))], input_type=list]\n    For further information visit https://errors.pydantic.dev/2.10/v/value_error",
     "output_type": "error",
     "traceback": [
      "\u001B[0;31m---------------------------------------------------------------------------\u001B[0m",
      "\u001B[0;31mValidationError\u001B[0m                           Traceback (most recent call last)",
      "Cell \u001B[0;32mIn[6], line 3\u001B[0m\n\u001B[1;32m      1\u001B[0m ollama_openhermes \u001B[38;5;241m=\u001B[39m Ollama(model\u001B[38;5;241m=\u001B[39m\u001B[38;5;124m\"\u001B[39m\u001B[38;5;124mdeepseek-r1:1.5b\u001B[39m\u001B[38;5;124m\"\u001B[39m)\n\u001B[0;32m----> 3\u001B[0m researcher \u001B[38;5;241m=\u001B[39m Agent(\n\u001B[1;32m      4\u001B[0m     role\u001B[38;5;241m=\u001B[39m\u001B[38;5;124m'\u001B[39m\u001B[38;5;124mResearcher\u001B[39m\u001B[38;5;124m'\u001B[39m,\n\u001B[1;32m      5\u001B[0m     goal\u001B[38;5;241m=\u001B[39m\u001B[38;5;124m'\u001B[39m\u001B[38;5;124mResearch methods to grow this channel Gao Dalie (高達烈) on youtube and get more subscribers\u001B[39m\u001B[38;5;124m'\u001B[39m,\n\u001B[1;32m      6\u001B[0m     backstory\u001B[38;5;241m=\u001B[39m\u001B[38;5;124m'\u001B[39m\u001B[38;5;124mYou are an AI research assistant\u001B[39m\u001B[38;5;124m'\u001B[39m,\n\u001B[1;32m      7\u001B[0m     tools\u001B[38;5;241m=\u001B[39m[search_tool],\n\u001B[1;32m      8\u001B[0m     verbose\u001B[38;5;241m=\u001B[39m\u001B[38;5;28;01mTrue\u001B[39;00m,\n\u001B[1;32m      9\u001B[0m     llm\u001B[38;5;241m=\u001B[39mollama_openhermes, \u001B[38;5;66;03m# Ollama model passed here\u001B[39;00m\n\u001B[1;32m     10\u001B[0m     allow_delegation\u001B[38;5;241m=\u001B[39m\u001B[38;5;28;01mFalse\u001B[39;00m\n\u001B[1;32m     11\u001B[0m )\n\u001B[1;32m     13\u001B[0m writer \u001B[38;5;241m=\u001B[39m Agent(\n\u001B[1;32m     14\u001B[0m     role\u001B[38;5;241m=\u001B[39m\u001B[38;5;124m'\u001B[39m\u001B[38;5;124mWriter\u001B[39m\u001B[38;5;124m'\u001B[39m,\n\u001B[1;32m     15\u001B[0m     goal\u001B[38;5;241m=\u001B[39m\u001B[38;5;124m'\u001B[39m\u001B[38;5;124mWrite compelling and engaging reasons as to why someone should join Gao Dalie (高達烈) youtube channel\u001B[39m\u001B[38;5;124m'\u001B[39m,\n\u001B[0;32m   (...)\u001B[0m\n\u001B[1;32m     19\u001B[0m     allow_delegation\u001B[38;5;241m=\u001B[39m\u001B[38;5;28;01mFalse\u001B[39;00m\n\u001B[1;32m     20\u001B[0m )\n\u001B[1;32m     22\u001B[0m task1 \u001B[38;5;241m=\u001B[39m Task(description\u001B[38;5;241m=\u001B[39m\u001B[38;5;124m'\u001B[39m\u001B[38;5;124mInvestigate Gao Dalie (高達烈) Youtube channel\u001B[39m\u001B[38;5;124m'\u001B[39m, agent\u001B[38;5;241m=\u001B[39mresearcher)\n",
      "File \u001B[0;32m/opt/anaconda3/envs/rag_test/lib/python3.12/site-packages/pydantic/main.py:214\u001B[0m, in \u001B[0;36mBaseModel.__init__\u001B[0;34m(self, **data)\u001B[0m\n\u001B[1;32m    212\u001B[0m \u001B[38;5;66;03m# `__tracebackhide__` tells pytest and some other tools to omit this function from tracebacks\u001B[39;00m\n\u001B[1;32m    213\u001B[0m __tracebackhide__ \u001B[38;5;241m=\u001B[39m \u001B[38;5;28;01mTrue\u001B[39;00m\n\u001B[0;32m--> 214\u001B[0m validated_self \u001B[38;5;241m=\u001B[39m \u001B[38;5;28mself\u001B[39m\u001B[38;5;241m.\u001B[39m__pydantic_validator__\u001B[38;5;241m.\u001B[39mvalidate_python(data, self_instance\u001B[38;5;241m=\u001B[39m\u001B[38;5;28mself\u001B[39m)\n\u001B[1;32m    215\u001B[0m \u001B[38;5;28;01mif\u001B[39;00m \u001B[38;5;28mself\u001B[39m \u001B[38;5;129;01mis\u001B[39;00m \u001B[38;5;129;01mnot\u001B[39;00m validated_self:\n\u001B[1;32m    216\u001B[0m     warnings\u001B[38;5;241m.\u001B[39mwarn(\n\u001B[1;32m    217\u001B[0m         \u001B[38;5;124m'\u001B[39m\u001B[38;5;124mA custom validator is returning a value other than `self`.\u001B[39m\u001B[38;5;130;01m\\n\u001B[39;00m\u001B[38;5;124m'\u001B[39m\n\u001B[1;32m    218\u001B[0m         \u001B[38;5;124m\"\u001B[39m\u001B[38;5;124mReturning anything other than `self` from a top level model validator isn\u001B[39m\u001B[38;5;124m'\u001B[39m\u001B[38;5;124mt supported when validating via `__init__`.\u001B[39m\u001B[38;5;130;01m\\n\u001B[39;00m\u001B[38;5;124m\"\u001B[39m\n\u001B[1;32m    219\u001B[0m         \u001B[38;5;124m'\u001B[39m\u001B[38;5;124mSee the `model_validator` docs (https://docs.pydantic.dev/latest/concepts/validators/#model-validators) for more details.\u001B[39m\u001B[38;5;124m'\u001B[39m,\n\u001B[1;32m    220\u001B[0m         stacklevel\u001B[38;5;241m=\u001B[39m\u001B[38;5;241m2\u001B[39m,\n\u001B[1;32m    221\u001B[0m     )\n",
      "\u001B[0;31mValidationError\u001B[0m: 1 validation error for Agent\ntools\n  Value error, Invalid tool type: <class 'langchain_community.tools.ddg_search.tool.DuckDuckGoSearchResults'>. Tool must be an instance of BaseTool or an object with 'name', 'func', and 'description' attributes. [type=value_error, input_value=[DuckDuckGoSearchResults(...'auto', source='text'))], input_type=list]\n    For further information visit https://errors.pydantic.dev/2.10/v/value_error"
     ]
    }
   ],
   "source": [
    "ollama_openhermes = Ollama(model=\"deepseek-r1:1.5b\")\n",
    "\n",
    "researcher = Agent(\n",
    "    role='Researcher',\n",
    "    goal='Research methods to grow this channel Gao Dalie (高達烈) on youtube and get more subscribers',\n",
    "    backstory='You are an AI research assistant',\n",
    "    tools=[search_tool],\n",
    "    verbose=True,\n",
    "    llm=ollama_openhermes, # Ollama model passed here\n",
    "    allow_delegation=False\n",
    ")\n",
    "\n",
    "writer = Agent(\n",
    "    role='Writer',\n",
    "    goal='Write compelling and engaging reasons as to why someone should join Gao Dalie (高達烈) youtube channel',\n",
    "    backstory='You are an AI master mind capable of growing any youtube channel',\n",
    "    verbose=True,\n",
    "    llm=ollama_openhermes, # Ollama model passed here\n",
    "    allow_delegation=False\n",
    ")\n",
    "\n",
    "task1 = Task(description='Investigate Gao Dalie (高達烈) Youtube channel', agent=researcher)\n",
    "task2 = Task(description='Investigate sure fire ways to grow a channel', agent=researcher)\n",
    "task3 = Task(description='Write a list of tasks Gao Dalie (高達烈) must do to grow his channel', agent=writer)\n",
    "\n",
    "crew = Crew(\n",
    "    agents=[researcher, writer],\n",
    "    tasks = [task1,task2,task3],\n",
    "    verbose=2,\n",
    "    process=Process.sequential\n",
    ")\n",
    "\n",
    "result = crew.kickoff()\n"
   ],
   "metadata": {
    "collapsed": false,
    "ExecuteTime": {
     "end_time": "2025-03-03T07:00:46.485715Z",
     "start_time": "2025-03-03T07:00:46.462166Z"
    }
   },
   "id": "25ac3141ca978c6d",
   "execution_count": 6
  },
  {
   "cell_type": "code",
   "outputs": [],
   "source": [],
   "metadata": {
    "collapsed": false
   },
   "id": "715e870f2cf2fcd0"
  }
 ],
 "metadata": {
  "kernelspec": {
   "display_name": "Python 3",
   "language": "python",
   "name": "python3"
  },
  "language_info": {
   "codemirror_mode": {
    "name": "ipython",
    "version": 2
   },
   "file_extension": ".py",
   "mimetype": "text/x-python",
   "name": "python",
   "nbconvert_exporter": "python",
   "pygments_lexer": "ipython2",
   "version": "2.7.6"
  }
 },
 "nbformat": 4,
 "nbformat_minor": 5
}
