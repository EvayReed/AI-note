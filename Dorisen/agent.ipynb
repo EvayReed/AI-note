{
 "cells": [
  {
   "cell_type": "markdown",
   "source": [
    "语言模型本身无法采取行动 - 它们只是输出文本。LangChain 的一个重要用例是创建代理。 代理是使用LLM作为推理引擎来确定要采取哪些操作以及执行操作所需的输入的系统。执行操作后，结果可以反馈到 LLM 中，以确定是否需要更多操作，或者是否可以完成。这通常是通过工具调用来实现的。\n",
    "\n",
    "在本教程中，我们将构建一个可以与搜索引擎交互的代理。您将能够向该代理提问、观察它调用搜索工具以及与其进行对话。\n",
    "\n",
    "我们首先需要创建我们想要使用的工具。我们选择的主要工具是Tavily - 一个搜索引擎。我们在 LangChain 中有一个内置工具，可以轻松使用 Tavily 搜索引擎作为工具。"
   ],
   "metadata": {
    "collapsed": false
   },
   "id": "76d1736a49c06439"
  },
  {
   "cell_type": "code",
   "outputs": [],
   "source": [
    "# Import relevant functionality\n",
    "from langchain_anthropic import ChatAnthropic\n",
    "from langchain_community.tools.tavily_search import TavilySearchResults\n",
    "from langchain_core.messages import HumanMessage\n",
    "from langgraph.checkpoint.memory import MemorySaver\n",
    "from langgraph.prebuilt import create_react_agent\n",
    "from langchain_ollama import ChatOllama\n",
    "from dotenv import load_dotenv\n",
    "\n",
    "# 加载 .env 文件\n",
    "load_dotenv()\n",
    "\n",
    "# 初始化Ollama LLM，注意需要后台开启ollama服务\n",
    "model_name = \"llama3.2\"\n",
    "model  = ChatOllama(model=model_name)\n",
    "\n",
    "# Create the agent\n",
    "memory = MemorySaver()\n",
    "search = TavilySearchResults(max_results=2)\n",
    "tools = [search]\n",
    "agent_executor = create_react_agent(model, tools, checkpointer=memory)"
   ],
   "metadata": {
    "collapsed": false,
    "ExecuteTime": {
     "end_time": "2025-03-05T06:38:41.481940Z",
     "start_time": "2025-03-05T06:38:41.434406Z"
    }
   },
   "id": "1e96ee2762943da6",
   "execution_count": 6
  },
  {
   "cell_type": "code",
   "outputs": [
    {
     "name": "stdout",
     "output_type": "stream",
     "text": [
      "================================\u001B[1m Human Message \u001B[0m=================================\n",
      "\n",
      "hi im bob! and i live in sf\n",
      "==================================\u001B[1m Ai Message \u001B[0m==================================\n",
      "Tool Calls:\n",
      "  tavily_search_results_json (e05e54d8-4e0e-4f17-b374-e1ffe5138049)\n",
      " Call ID: e05e54d8-4e0e-4f17-b374-e1ffe5138049\n",
      "  Args:\n",
      "    query: San Francisco news\n",
      "=================================\u001B[1m Tool Message \u001B[0m=================================\n",
      "Name: tavily_search_results_json\n",
      "\n",
      "[{\"url\": \"https://www.sfchronicle.com/\", \"content\": \"Exclusive Bay Area and San Francisco breaking news, sports, tech, and food and wine coverage, plus enhanced coverage of Giants, 49ers and Warriors.\"}, {\"url\": \"https://www.sfgate.com/\", \"content\": \"Your San Francisco Bay Area local news source plus the latest in sports, culture, weather, food and drink, politics, real estate, Lake Tahoe and California\"}]\n",
      "==================================\u001B[1m Ai Message \u001B[0m==================================\n",
      "\n",
      "Hi Bob! It sounds like you live in San Francisco. For any news or information related to SF, I can suggest checking out some of these reputable sources:\n",
      "\n",
      "* The San Francisco Chronicle (https://www.sfchronicle.com/) for exclusive Bay Area and San Francisco breaking news, sports, tech, and food and wine coverage.\n",
      "* The San Francisco Gate (https://www.sfgate.com/) for your San Francisco Bay Area local news source with latest in sports, culture, weather, food and drink, politics, real estate, Lake Tahoe and California.\n",
      "\n",
      "Let me know if I can help you find anything specific or answer any questions you may have!\n"
     ]
    }
   ],
   "source": [
    "# Use the agent\n",
    "config = {\"configurable\": {\"thread_id\": \"abc123\"}}\n",
    "for step in agent_executor.stream(\n",
    "    {\"messages\": [HumanMessage(content=\"hi im bob! and i live in sf\")]},\n",
    "    config,\n",
    "    stream_mode=\"values\",\n",
    "):\n",
    "    step[\"messages\"][-1].pretty_print()"
   ],
   "metadata": {
    "collapsed": false,
    "ExecuteTime": {
     "end_time": "2025-03-05T06:38:58.222320Z",
     "start_time": "2025-03-05T06:38:43.238448Z"
    }
   },
   "id": "5808b4de2e04d9e3",
   "execution_count": 7
  },
  {
   "cell_type": "code",
   "outputs": [
    {
     "name": "stdout",
     "output_type": "stream",
     "text": [
      "================================\u001B[1m Human Message \u001B[0m=================================\n",
      "\n",
      "whats the weather where I live?\n",
      "==================================\u001B[1m Ai Message \u001B[0m==================================\n",
      "Tool Calls:\n",
      "  tavily_search_results_json (3472f5b6-a648-4afe-b56a-b16ab7c40e6a)\n",
      " Call ID: 3472f5b6-a648-4afe-b56a-b16ab7c40e6a\n",
      "  Args:\n",
      "    query: San Francisco weather\n",
      "=================================\u001B[1m Tool Message \u001B[0m=================================\n",
      "Name: tavily_search_results_json\n",
      "\n",
      "[{\"url\": \"https://www.weatherapi.com/\", \"content\": \"{'location': {'name': 'San Francisco', 'region': 'California', 'country': 'United States of America', 'lat': 37.775, 'lon': -122.4183, 'tz_id': 'America/Los_Angeles', 'localtime_epoch': 1741156867, 'localtime': '2025-03-04 22:41'}, 'current': {'last_updated_epoch': 1741156200, 'last_updated': '2025-03-04 22:30', 'temp_c': 12.8, 'temp_f': 55.0, 'is_day': 0, 'condition': {'text': 'Partly cloudy', 'icon': '//cdn.weatherapi.com/weather/64x64/night/116.png', 'code': 1003}, 'wind_mph': 6.0, 'wind_kph': 9.7, 'wind_degree': 28, 'wind_dir': 'NNE', 'pressure_mb': 1021.0, 'pressure_in': 30.14, 'precip_mm': 0.0, 'precip_in': 0.0, 'humidity': 74, 'cloud': 75, 'feelslike_c': 12.0, 'feelslike_f': 53.6, 'windchill_c': 10.5, 'windchill_f': 50.8, 'heatindex_c': 11.0, 'heatindex_f': 51.7, 'dewpoint_c': 9.3, 'dewpoint_f': 48.7, 'vis_km': 16.0, 'vis_miles': 9.0, 'uv': 0.0, 'gust_mph': 9.6, 'gust_kph': 15.5}}\"}, {\"url\": \"https://weathershogun.com/weather/usa/ca/san-francisco/480/march/2025-03-05\", \"content\": \"San Francisco, California Weather: Wednesday, March 5, 2025. Cloudy weather, overcast skies with clouds. Day 59°. Night 48°.\"}]\n",
      "==================================\u001B[1m Ai Message \u001B[0m==================================\n",
      "\n",
      "Hi Bob! According to the latest weather updates, it's currently a partly cloudy day in San Francisco with a temperature of around 12.8°C (55°F). The wind is blowing at a speed of about 6 mph from the northeast, and there's no precipitation expected. It's going to be a bit cool tonight, with temperatures dipping down to around 48°F.\n",
      "\n",
      "If you're looking for more detailed or up-to-date weather forecasts, I recommend checking out reputable sources like:\n",
      "\n",
      "* Weather API (https://www.weatherapi.com/)\n",
      "* Weathershogun (https://weathershogun.com/weather/usa/ca/san-francisco/480/march/2025-03-05)\n",
      "\n",
      "Let me know if you have any other questions or need further assistance!\n"
     ]
    }
   ],
   "source": [
    "for step in agent_executor.stream(\n",
    "    {\"messages\": [HumanMessage(content=\"whats the weather where I live?\")]},\n",
    "    config,\n",
    "    stream_mode=\"values\",\n",
    "):\n",
    "    step[\"messages\"][-1].pretty_print()"
   ],
   "metadata": {
    "collapsed": false,
    "ExecuteTime": {
     "end_time": "2025-03-05T06:41:18.271071Z",
     "start_time": "2025-03-05T06:41:03.511296Z"
    }
   },
   "id": "d1037e746e24c7fc",
   "execution_count": 8
  },
  {
   "cell_type": "markdown",
   "source": [
    "简单定义一个calculatot工具"
   ],
   "metadata": {
    "collapsed": false
   },
   "id": "f9a5c9e5230caef0"
  },
  {
   "cell_type": "code",
   "outputs": [],
   "source": [
    "def simple_calculator(opertion: str, x:float, y:float)-> float:\n",
    "    if opertion == \"add\":\n",
    "        return x + y\n",
    "    elif opertion == \"subtract\":\n",
    "        return x - y\n",
    "    elif opertion == \"multiply\":\n",
    "        return x * y\n",
    "    elif opertion == \"divide\":\n",
    "        return x / y\n",
    "    else:\n",
    "        raise ValueError(\"Invalid operation\")\n"
   ],
   "metadata": {
    "collapsed": false,
    "ExecuteTime": {
     "end_time": "2025-03-05T06:45:42.541230Z",
     "start_time": "2025-03-05T06:45:42.537598Z"
    }
   },
   "id": "d991e4f1ad83e646",
   "execution_count": 10
  },
  {
   "cell_type": "code",
   "outputs": [],
   "source": [
    "# Create the agent\n",
    "memory_calculator = MemorySaver()\n",
    "\n",
    "tools_calculator= [simple_calculator]\n",
    "\n",
    "agent_calculator = create_react_agent(model, \n",
    "                                      tools)"
   ],
   "metadata": {
    "collapsed": false,
    "ExecuteTime": {
     "end_time": "2025-03-05T06:46:44.300119Z",
     "start_time": "2025-03-05T06:46:44.288381Z"
    }
   },
   "id": "4383b896e929ef9c",
   "execution_count": 13
  },
  {
   "cell_type": "code",
   "outputs": [
    {
     "ename": "InvalidUpdateError",
     "evalue": "Must write to at least one of ['messages', 'structured_response']",
     "output_type": "error",
     "traceback": [
      "\u001B[0;31m---------------------------------------------------------------------------\u001B[0m",
      "\u001B[0;31mInvalidUpdateError\u001B[0m                        Traceback (most recent call last)",
      "Cell \u001B[0;32mIn[15], line 1\u001B[0m\n\u001B[0;32m----> 1\u001B[0m response \u001B[38;5;241m=\u001B[39m agent_calculator\u001B[38;5;241m.\u001B[39minvoke({\u001B[38;5;124m\"\u001B[39m\u001B[38;5;124moperation\u001B[39m\u001B[38;5;124m\"\u001B[39m: \u001B[38;5;124m\"\u001B[39m\u001B[38;5;124madd\u001B[39m\u001B[38;5;124m\"\u001B[39m, \u001B[38;5;124m\"\u001B[39m\u001B[38;5;124mx\u001B[39m\u001B[38;5;124m\"\u001B[39m: \u001B[38;5;241m5\u001B[39m, \u001B[38;5;124m\"\u001B[39m\u001B[38;5;124my\u001B[39m\u001B[38;5;124m\"\u001B[39m: \u001B[38;5;241m3\u001B[39m})\n\u001B[1;32m      3\u001B[0m response[\u001B[38;5;124m\"\u001B[39m\u001B[38;5;124mmessages\u001B[39m\u001B[38;5;124m\"\u001B[39m]\n",
      "File \u001B[0;32m/opt/anaconda3/envs/rag_test/lib/python3.12/site-packages/langgraph/pregel/__init__.py:2124\u001B[0m, in \u001B[0;36mPregel.invoke\u001B[0;34m(self, input, config, stream_mode, output_keys, interrupt_before, interrupt_after, debug, **kwargs)\u001B[0m\n\u001B[1;32m   2122\u001B[0m \u001B[38;5;28;01melse\u001B[39;00m:\n\u001B[1;32m   2123\u001B[0m     chunks \u001B[38;5;241m=\u001B[39m []\n\u001B[0;32m-> 2124\u001B[0m \u001B[38;5;28;01mfor\u001B[39;00m chunk \u001B[38;5;129;01min\u001B[39;00m \u001B[38;5;28mself\u001B[39m\u001B[38;5;241m.\u001B[39mstream(\n\u001B[1;32m   2125\u001B[0m     \u001B[38;5;28minput\u001B[39m,\n\u001B[1;32m   2126\u001B[0m     config,\n\u001B[1;32m   2127\u001B[0m     stream_mode\u001B[38;5;241m=\u001B[39mstream_mode,\n\u001B[1;32m   2128\u001B[0m     output_keys\u001B[38;5;241m=\u001B[39moutput_keys,\n\u001B[1;32m   2129\u001B[0m     interrupt_before\u001B[38;5;241m=\u001B[39minterrupt_before,\n\u001B[1;32m   2130\u001B[0m     interrupt_after\u001B[38;5;241m=\u001B[39minterrupt_after,\n\u001B[1;32m   2131\u001B[0m     debug\u001B[38;5;241m=\u001B[39mdebug,\n\u001B[1;32m   2132\u001B[0m     \u001B[38;5;241m*\u001B[39m\u001B[38;5;241m*\u001B[39mkwargs,\n\u001B[1;32m   2133\u001B[0m ):\n\u001B[1;32m   2134\u001B[0m     \u001B[38;5;28;01mif\u001B[39;00m stream_mode \u001B[38;5;241m==\u001B[39m \u001B[38;5;124m\"\u001B[39m\u001B[38;5;124mvalues\u001B[39m\u001B[38;5;124m\"\u001B[39m:\n\u001B[1;32m   2135\u001B[0m         latest \u001B[38;5;241m=\u001B[39m chunk\n",
      "File \u001B[0;32m/opt/anaconda3/envs/rag_test/lib/python3.12/site-packages/langgraph/pregel/__init__.py:1779\u001B[0m, in \u001B[0;36mPregel.stream\u001B[0;34m(self, input, config, stream_mode, output_keys, interrupt_before, interrupt_after, debug, subgraphs)\u001B[0m\n\u001B[1;32m   1773\u001B[0m     \u001B[38;5;66;03m# Similarly to Bulk Synchronous Parallel / Pregel model\u001B[39;00m\n\u001B[1;32m   1774\u001B[0m     \u001B[38;5;66;03m# computation proceeds in steps, while there are channel updates.\u001B[39;00m\n\u001B[1;32m   1775\u001B[0m     \u001B[38;5;66;03m# Channel updates from step N are only visible in step N+1\u001B[39;00m\n\u001B[1;32m   1776\u001B[0m     \u001B[38;5;66;03m# channels are guaranteed to be immutable for the duration of the step,\u001B[39;00m\n\u001B[1;32m   1777\u001B[0m     \u001B[38;5;66;03m# with channel updates applied only at the transition between steps.\u001B[39;00m\n\u001B[1;32m   1778\u001B[0m     \u001B[38;5;28;01mwhile\u001B[39;00m loop\u001B[38;5;241m.\u001B[39mtick(input_keys\u001B[38;5;241m=\u001B[39m\u001B[38;5;28mself\u001B[39m\u001B[38;5;241m.\u001B[39minput_channels):\n\u001B[0;32m-> 1779\u001B[0m         \u001B[38;5;28;01mfor\u001B[39;00m _ \u001B[38;5;129;01min\u001B[39;00m runner\u001B[38;5;241m.\u001B[39mtick(\n\u001B[1;32m   1780\u001B[0m             loop\u001B[38;5;241m.\u001B[39mtasks\u001B[38;5;241m.\u001B[39mvalues(),\n\u001B[1;32m   1781\u001B[0m             timeout\u001B[38;5;241m=\u001B[39m\u001B[38;5;28mself\u001B[39m\u001B[38;5;241m.\u001B[39mstep_timeout,\n\u001B[1;32m   1782\u001B[0m             retry_policy\u001B[38;5;241m=\u001B[39m\u001B[38;5;28mself\u001B[39m\u001B[38;5;241m.\u001B[39mretry_policy,\n\u001B[1;32m   1783\u001B[0m             get_waiter\u001B[38;5;241m=\u001B[39mget_waiter,\n\u001B[1;32m   1784\u001B[0m         ):\n\u001B[1;32m   1785\u001B[0m             \u001B[38;5;66;03m# emit output\u001B[39;00m\n\u001B[1;32m   1786\u001B[0m             \u001B[38;5;28;01myield from\u001B[39;00m output()\n\u001B[1;32m   1787\u001B[0m \u001B[38;5;66;03m# emit output\u001B[39;00m\n",
      "File \u001B[0;32m/opt/anaconda3/envs/rag_test/lib/python3.12/site-packages/langgraph/pregel/runner.py:230\u001B[0m, in \u001B[0;36mPregelRunner.tick\u001B[0;34m(self, tasks, reraise, timeout, retry_policy, get_waiter)\u001B[0m\n\u001B[1;32m    228\u001B[0m t \u001B[38;5;241m=\u001B[39m tasks[\u001B[38;5;241m0\u001B[39m]\n\u001B[1;32m    229\u001B[0m \u001B[38;5;28;01mtry\u001B[39;00m:\n\u001B[0;32m--> 230\u001B[0m     run_with_retry(\n\u001B[1;32m    231\u001B[0m         t,\n\u001B[1;32m    232\u001B[0m         retry_policy,\n\u001B[1;32m    233\u001B[0m         configurable\u001B[38;5;241m=\u001B[39m{\n\u001B[1;32m    234\u001B[0m             CONFIG_KEY_SEND: partial(writer, t),\n\u001B[1;32m    235\u001B[0m             CONFIG_KEY_CALL: partial(call, t),\n\u001B[1;32m    236\u001B[0m         },\n\u001B[1;32m    237\u001B[0m     )\n\u001B[1;32m    238\u001B[0m     \u001B[38;5;28mself\u001B[39m\u001B[38;5;241m.\u001B[39mcommit(t, \u001B[38;5;28;01mNone\u001B[39;00m)\n\u001B[1;32m    239\u001B[0m \u001B[38;5;28;01mexcept\u001B[39;00m \u001B[38;5;167;01mException\u001B[39;00m \u001B[38;5;28;01mas\u001B[39;00m exc:\n",
      "File \u001B[0;32m/opt/anaconda3/envs/rag_test/lib/python3.12/site-packages/langgraph/pregel/retry.py:40\u001B[0m, in \u001B[0;36mrun_with_retry\u001B[0;34m(task, retry_policy, configurable)\u001B[0m\n\u001B[1;32m     38\u001B[0m     task\u001B[38;5;241m.\u001B[39mwrites\u001B[38;5;241m.\u001B[39mclear()\n\u001B[1;32m     39\u001B[0m     \u001B[38;5;66;03m# run the task\u001B[39;00m\n\u001B[0;32m---> 40\u001B[0m     \u001B[38;5;28;01mreturn\u001B[39;00m task\u001B[38;5;241m.\u001B[39mproc\u001B[38;5;241m.\u001B[39minvoke(task\u001B[38;5;241m.\u001B[39minput, config)\n\u001B[1;32m     41\u001B[0m \u001B[38;5;28;01mexcept\u001B[39;00m ParentCommand \u001B[38;5;28;01mas\u001B[39;00m exc:\n\u001B[1;32m     42\u001B[0m     ns: \u001B[38;5;28mstr\u001B[39m \u001B[38;5;241m=\u001B[39m config[CONF][CONFIG_KEY_CHECKPOINT_NS]\n",
      "File \u001B[0;32m/opt/anaconda3/envs/rag_test/lib/python3.12/site-packages/langgraph/utils/runnable.py:546\u001B[0m, in \u001B[0;36mRunnableSeq.invoke\u001B[0;34m(self, input, config, **kwargs)\u001B[0m\n\u001B[1;32m    542\u001B[0m config \u001B[38;5;241m=\u001B[39m patch_config(\n\u001B[1;32m    543\u001B[0m     config, callbacks\u001B[38;5;241m=\u001B[39mrun_manager\u001B[38;5;241m.\u001B[39mget_child(\u001B[38;5;124mf\u001B[39m\u001B[38;5;124m\"\u001B[39m\u001B[38;5;124mseq:step:\u001B[39m\u001B[38;5;132;01m{\u001B[39;00mi\u001B[38;5;250m \u001B[39m\u001B[38;5;241m+\u001B[39m\u001B[38;5;250m \u001B[39m\u001B[38;5;241m1\u001B[39m\u001B[38;5;132;01m}\u001B[39;00m\u001B[38;5;124m\"\u001B[39m)\n\u001B[1;32m    544\u001B[0m )\n\u001B[1;32m    545\u001B[0m \u001B[38;5;28;01mif\u001B[39;00m i \u001B[38;5;241m==\u001B[39m \u001B[38;5;241m0\u001B[39m:\n\u001B[0;32m--> 546\u001B[0m     \u001B[38;5;28minput\u001B[39m \u001B[38;5;241m=\u001B[39m step\u001B[38;5;241m.\u001B[39minvoke(\u001B[38;5;28minput\u001B[39m, config, \u001B[38;5;241m*\u001B[39m\u001B[38;5;241m*\u001B[39mkwargs)\n\u001B[1;32m    547\u001B[0m \u001B[38;5;28;01melse\u001B[39;00m:\n\u001B[1;32m    548\u001B[0m     \u001B[38;5;28minput\u001B[39m \u001B[38;5;241m=\u001B[39m step\u001B[38;5;241m.\u001B[39minvoke(\u001B[38;5;28minput\u001B[39m, config)\n",
      "File \u001B[0;32m/opt/anaconda3/envs/rag_test/lib/python3.12/site-packages/langgraph/utils/runnable.py:302\u001B[0m, in \u001B[0;36mRunnableCallable.invoke\u001B[0;34m(self, input, config, **kwargs)\u001B[0m\n\u001B[1;32m    300\u001B[0m     context \u001B[38;5;241m=\u001B[39m copy_context()\n\u001B[1;32m    301\u001B[0m     context\u001B[38;5;241m.\u001B[39mrun(_set_config_context, child_config)\n\u001B[0;32m--> 302\u001B[0m     ret \u001B[38;5;241m=\u001B[39m context\u001B[38;5;241m.\u001B[39mrun(\u001B[38;5;28mself\u001B[39m\u001B[38;5;241m.\u001B[39mfunc, \u001B[38;5;241m*\u001B[39margs, \u001B[38;5;241m*\u001B[39m\u001B[38;5;241m*\u001B[39mkwargs)\n\u001B[1;32m    303\u001B[0m \u001B[38;5;28;01mexcept\u001B[39;00m \u001B[38;5;167;01mBaseException\u001B[39;00m \u001B[38;5;28;01mas\u001B[39;00m e:\n\u001B[1;32m    304\u001B[0m     run_manager\u001B[38;5;241m.\u001B[39mon_chain_error(e)\n",
      "File \u001B[0;32m/opt/anaconda3/envs/rag_test/lib/python3.12/site-packages/langgraph/pregel/write.py:96\u001B[0m, in \u001B[0;36mChannelWrite._write\u001B[0;34m(self, input, config)\u001B[0m\n\u001B[1;32m     87\u001B[0m \u001B[38;5;28;01mdef\u001B[39;00m \u001B[38;5;21m_write\u001B[39m(\u001B[38;5;28mself\u001B[39m, \u001B[38;5;28minput\u001B[39m: Any, config: RunnableConfig) \u001B[38;5;241m-\u001B[39m\u001B[38;5;241m>\u001B[39m \u001B[38;5;28;01mNone\u001B[39;00m:\n\u001B[1;32m     88\u001B[0m     writes \u001B[38;5;241m=\u001B[39m [\n\u001B[1;32m     89\u001B[0m         ChannelWriteEntry(write\u001B[38;5;241m.\u001B[39mchannel, \u001B[38;5;28minput\u001B[39m, write\u001B[38;5;241m.\u001B[39mskip_none, write\u001B[38;5;241m.\u001B[39mmapper)\n\u001B[1;32m     90\u001B[0m         \u001B[38;5;28;01mif\u001B[39;00m \u001B[38;5;28misinstance\u001B[39m(write, ChannelWriteEntry) \u001B[38;5;129;01mand\u001B[39;00m write\u001B[38;5;241m.\u001B[39mvalue \u001B[38;5;129;01mis\u001B[39;00m PASSTHROUGH\n\u001B[0;32m   (...)\u001B[0m\n\u001B[1;32m     94\u001B[0m         \u001B[38;5;28;01mfor\u001B[39;00m write \u001B[38;5;129;01min\u001B[39;00m \u001B[38;5;28mself\u001B[39m\u001B[38;5;241m.\u001B[39mwrites\n\u001B[1;32m     95\u001B[0m     ]\n\u001B[0;32m---> 96\u001B[0m     \u001B[38;5;28mself\u001B[39m\u001B[38;5;241m.\u001B[39mdo_write(\n\u001B[1;32m     97\u001B[0m         config,\n\u001B[1;32m     98\u001B[0m         writes,\n\u001B[1;32m     99\u001B[0m         \u001B[38;5;28mself\u001B[39m\u001B[38;5;241m.\u001B[39mrequire_at_least_one_of \u001B[38;5;28;01mif\u001B[39;00m \u001B[38;5;28minput\u001B[39m \u001B[38;5;129;01mis\u001B[39;00m \u001B[38;5;129;01mnot\u001B[39;00m \u001B[38;5;28;01mNone\u001B[39;00m \u001B[38;5;28;01melse\u001B[39;00m \u001B[38;5;28;01mNone\u001B[39;00m,\n\u001B[1;32m    100\u001B[0m     )\n\u001B[1;32m    101\u001B[0m     \u001B[38;5;28;01mreturn\u001B[39;00m \u001B[38;5;28minput\u001B[39m\n",
      "File \u001B[0;32m/opt/anaconda3/envs/rag_test/lib/python3.12/site-packages/langgraph/pregel/write.py:157\u001B[0m, in \u001B[0;36mChannelWrite.do_write\u001B[0;34m(config, writes, require_at_least_one_of)\u001B[0m\n\u001B[1;32m    155\u001B[0m \u001B[38;5;28;01mif\u001B[39;00m require_at_least_one_of \u001B[38;5;129;01mis\u001B[39;00m \u001B[38;5;129;01mnot\u001B[39;00m \u001B[38;5;28;01mNone\u001B[39;00m:\n\u001B[1;32m    156\u001B[0m     \u001B[38;5;28;01mif\u001B[39;00m \u001B[38;5;129;01mnot\u001B[39;00m {chan \u001B[38;5;28;01mfor\u001B[39;00m chan, _ \u001B[38;5;129;01min\u001B[39;00m tuples} \u001B[38;5;241m&\u001B[39m \u001B[38;5;28mset\u001B[39m(require_at_least_one_of):\n\u001B[0;32m--> 157\u001B[0m         \u001B[38;5;28;01mraise\u001B[39;00m InvalidUpdateError(\n\u001B[1;32m    158\u001B[0m             \u001B[38;5;124mf\u001B[39m\u001B[38;5;124m\"\u001B[39m\u001B[38;5;124mMust write to at least one of \u001B[39m\u001B[38;5;132;01m{\u001B[39;00mrequire_at_least_one_of\u001B[38;5;132;01m}\u001B[39;00m\u001B[38;5;124m\"\u001B[39m\n\u001B[1;32m    159\u001B[0m         )\n\u001B[1;32m    160\u001B[0m write: TYPE_SEND \u001B[38;5;241m=\u001B[39m config[CONF][CONFIG_KEY_SEND]\n\u001B[1;32m    161\u001B[0m write(tuples)\n",
      "\u001B[0;31mInvalidUpdateError\u001B[0m: Must write to at least one of ['messages', 'structured_response']",
      "\u001B[0mDuring task with name '__start__' and id '4fa0f7ae-9526-3365-74ad-089c3a9a7b0e'"
     ]
    }
   ],
   "source": [
    "response = agent_calculator.invoke({\"operation\": \"add\", \"x\": 5, \"y\": 3})\n",
    "\n",
    "response[\"messages\"]"
   ],
   "metadata": {
    "collapsed": false,
    "ExecuteTime": {
     "end_time": "2025-03-05T06:53:05.940617Z",
     "start_time": "2025-03-05T06:53:05.864223Z"
    }
   },
   "id": "1d6deb84c5fca61f",
   "execution_count": 15
  },
  {
   "cell_type": "code",
   "outputs": [],
   "source": [],
   "metadata": {
    "collapsed": false
   },
   "id": "7311dad2bae95431"
  }
 ],
 "metadata": {
  "kernelspec": {
   "display_name": "Python 3",
   "language": "python",
   "name": "python3"
  },
  "language_info": {
   "codemirror_mode": {
    "name": "ipython",
    "version": 2
   },
   "file_extension": ".py",
   "mimetype": "text/x-python",
   "name": "python",
   "nbconvert_exporter": "python",
   "pygments_lexer": "ipython2",
   "version": "2.7.6"
  }
 },
 "nbformat": 4,
 "nbformat_minor": 5
}
