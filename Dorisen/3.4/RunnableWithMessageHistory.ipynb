{
 "cells": [
  {
   "cell_type": "code",
   "execution_count": null,
   "id": "initial_id",
   "metadata": {
    "collapsed": true
   },
   "outputs": [],
   "source": [
    "from langchain_ollama import ChatOllama\n",
    "\n",
    "llm = ChatOllama(\n",
    "    model=\"deepseek-r1:1.5b\",\n",
    "    temperature=0.5,\n",
    "    base_url=\"http://localhost:11434\",\n",
    "    stream_usage=True  # 流模式需开启统计\n",
    ")"
   ]
  },
  {
   "cell_type": "markdown",
   "source": [
    "在构建聊天机器人时，将对话状态传入和传出链至关重要。该类RunnableWithMessageHistory允许我们将消息历史记录添加到某些类型的链中。它包装另一个 Runnable 并为其管理聊天消息历史记录。具体来说，它在将对话传递给 Runnable 之前加载对话中的先前消息，并在调用 Runnable 之后将生成的响应保存为消息。该类还通过使用 a 保存每个对话来启用多个对话session_id- 然后它期望session_id在调用 Runnable 时在配置中传递 a，并使用它来查找相关的对话历史记录。"
   ],
   "metadata": {
    "collapsed": false
   },
   "id": "199502c2c6cce5e0"
  },
  {
   "cell_type": "markdown",
   "source": [
    "from langchain_core.runnables.history import RunnableWithMessageHistory\n",
    "\n",
    "\n",
    "with_message_history = RunnableWithMessageHistory(\n",
    "    # The underlying runnable\n",
    "    runnable,  \n",
    "    # A function that takes in a session id and returns a memory object\n",
    "    get_session_history,  \n",
    "    # Other parameters that may be needed to align the inputs/outputs\n",
    "    # of the Runnable with the memory object\n",
    "    ...  \n",
    ")\n",
    "\n",
    "with_message_history.invoke(\n",
    "    # The same input as before\n",
    "    {\"ability\": \"math\", \"input\": \"What does cosine mean?\"},\n",
    "    # Configuration specifying the `session_id`,\n",
    "    # which controls which conversation to load\n",
    "    config={\"configurable\": {\"session_id\": \"abc123\"}},\n",
    ")"
   ],
   "metadata": {
    "collapsed": false
   },
   "id": "a2669819c9d1c7cd"
  },
  {
   "cell_type": "code",
   "outputs": [],
   "source": [
    "from langchain_community.chat_message_histories import SQLChatMessageHistory\n",
    "\n",
    "\n",
    "def get_session_history(session_id):\n",
    "    return SQLChatMessageHistory(session_id, \"sqlite:///memory.db\")"
   ],
   "metadata": {
    "collapsed": false
   },
   "id": "df96b94ab01ae5eb"
  },
  {
   "cell_type": "code",
   "outputs": [],
   "source": [
    "\n",
    "from langchain_core.messages import HumanMessage\n",
    "from langchain_core.runnables.history import RunnableWithMessageHistory\n",
    "\n",
    "runnable_with_history = RunnableWithMessageHistory(\n",
    "    llm,\n",
    "    get_session_history,\n",
    ")\n"
   ],
   "metadata": {
    "collapsed": false
   },
   "id": "bdf0ba6232b57d79"
  },
  {
   "cell_type": "code",
   "outputs": [],
   "source": [
    "runnable_with_history.invoke(\n",
    "    [HumanMessage(content=\"hi - im bob!\")],\n",
    "    config={\"configurable\": {\"session_id\": \"1\"}},\n",
    ")"
   ],
   "metadata": {
    "collapsed": false
   },
   "id": "fb6c38a13c529a06"
  },
  {
   "cell_type": "code",
   "outputs": [],
   "source": [
    "runnable_with_history.invoke(\n",
    "    [HumanMessage(content=\"whats my name?\")],\n",
    "    config={\"configurable\": {\"session_id\": \"1\"}},\n",
    ")"
   ],
   "metadata": {
    "collapsed": false
   },
   "id": "f468c8aca1a3ca55"
  },
  {
   "cell_type": "code",
   "outputs": [],
   "source": [
    "runnable_with_history.invoke(\n",
    "    [HumanMessage(content=\"whats my name?\")],\n",
    "    config={\"configurable\": {\"session_id\": \"1a\"}},\n",
    ")"
   ],
   "metadata": {
    "collapsed": false
   },
   "id": "c8cb1596f1642495"
  },
  {
   "cell_type": "code",
   "outputs": [],
   "source": [
    "from langchain_core.prompts import ChatPromptTemplate, MessagesPlaceholder\n",
    "\n",
    "prompt = ChatPromptTemplate.from_messages(\n",
    "    [\n",
    "        (\n",
    "            \"system\",\n",
    "            \"You're an assistant who speaks in {language}. Respond in 20 words or fewer\",\n",
    "        ),\n",
    "        MessagesPlaceholder(variable_name=\"history\"),\n",
    "        (\"human\", \"{input}\"),\n",
    "    ]\n",
    ")\n",
    "# You're an assistant who speaks in English. Respond in 20 words or fewer.\n",
    "# 历史记录：Hi, how are you?\n",
    "# 输入：What's the weather like today?\n",
    "\n",
    "runnable = prompt | llm\n",
    "\n",
    "runnable_with_history = RunnableWithMessageHistory(\n",
    "    runnable,\n",
    "    get_session_history,\n",
    "    input_messages_key=\"input\",\n",
    "    history_messages_key=\"history\",\n",
    ")"
   ],
   "metadata": {
    "collapsed": false
   },
   "id": "28d3e578537f7468"
  }
 ],
 "metadata": {
  "kernelspec": {
   "display_name": "Python 3",
   "language": "python",
   "name": "python3"
  },
  "language_info": {
   "codemirror_mode": {
    "name": "ipython",
    "version": 2
   },
   "file_extension": ".py",
   "mimetype": "text/x-python",
   "name": "python",
   "nbconvert_exporter": "python",
   "pygments_lexer": "ipython2",
   "version": "2.7.6"
  }
 },
 "nbformat": 4,
 "nbformat_minor": 5
}
