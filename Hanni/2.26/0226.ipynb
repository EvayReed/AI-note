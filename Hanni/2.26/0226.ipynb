{
 "cells": [
  {
   "cell_type": "code",
   "execution_count": 1,
   "id": "initial_id",
   "metadata": {
    "ExecuteTime": {
     "end_time": "2025-02-26T06:19:10.918563Z",
     "start_time": "2025-02-26T06:19:09.810274Z"
    }
   },
   "outputs": [
    {
     "name": "stdout",
     "output_type": "stream",
     "text": [
      "💻📚🔍\n"
     ]
    }
   ],
   "source": [
    "from langchain_core.prompts import ChatPromptTemplate\n",
    "from langchain_openai import ChatOpenAI\n",
    "import os\n",
    "from dotenv import load_dotenv\n",
    "load_dotenv()\n",
    "api_key = os.getenv(\"OPENAI_API_KEY\")\n",
    "prompt = ChatPromptTemplate.from_template(\n",
    "    \"用三个emoji描述：{item}\"\n",
    ")\n",
    "model = ChatOpenAI(openai_api_key=api_key)\n",
    "chain = prompt | model\n",
    "\n",
    "response = chain.invoke({\"item\": \"程序员的工作日常\"})\n",
    "print(response.content)\n"
   ]
  },
  {
   "cell_type": "markdown",
   "id": "56a7a6a59aff2026",
   "metadata": {
    "collapsed": false,
    "jupyter": {
     "outputs_hidden": false
    }
   },
   "source": [
    "### from langchain_core.prompts import PipelinePromptTemplate\n",
    "\n",
    "官方文档显示将会逐步弃用PipelinePromptTemplate\n",
    "https://python.langchain.com/api_reference/core/prompts/langchain_core.prompts.pipeline.PipelinePromptTemplate.html\n",
    "\n",
    "取而代之的是将代码中的单个提示链接在一起。例如，使用for循环执行操作"
   ]
  },
  {
   "cell_type": "code",
   "execution_count": 2,
   "id": "72fc7fd8d020a10f",
   "metadata": {
    "ExecuteTime": {
     "end_time": "2025-02-26T06:37:48.377005Z",
     "start_time": "2025-02-26T06:37:48.369593Z"
    },
    "collapsed": false,
    "jupyter": {
     "outputs_hidden": false
    }
   },
   "outputs": [
    {
     "name": "stdout",
     "output_type": "stream",
     "text": [
      "你是科学家, 你有着严谨\n",
      "你会遵从以下行为：\n",
      "1. 确保实验结果准确\n",
      "2. 记录实验过程\n",
      "3. 分析实验数据\n",
      "你不能遵从以下行为：\n",
      "1. 不做实验\n",
      "2. 不记录实验过程\n",
      "3. 不分析实验数据\n",
      "\n"
     ]
    }
   ],
   "source": [
    "from langchain.prompts import PromptTemplate\n",
    "\n",
    "Character_template = \"你是{person}, 你有着{attribute}\\n\"\n",
    "Character_prompt = PromptTemplate.from_template(Character_template)\n",
    "behavior_template = \"你会遵从以下行为：\\n{behavior_list}\\n\"\n",
    "behavior_prompt = PromptTemplate.from_template(behavior_template)\n",
    "prohibit_template = \"你不能遵从以下行为：\\n{prohibit_list}\\n\"\n",
    "prohibit_prompt = PromptTemplate.from_template(prohibit_template)\n",
    "pipeline_prompts = [(\"Character\", Character_prompt),(\"Behavior\", behavior_prompt),(\"Prohibit\", prohibit_prompt),]\n",
    "\n",
    "final_template = \"\"\"{Character}{Behavior}{Prohibit}\"\"\"\n",
    "final_prompt = PromptTemplate.from_template(final_template)\n",
    "\n",
    "my_input = {\"person\": \"科学家\", \"attribute\": \"严谨\", \"behavior_list\": \"1. 确保实验结果准确\\n2. 记录实验过程\\n3. 分析实验数据\", \"prohibit_list\": \"1. 不做实验\\n2. 不记录实验过程\\n3. 不分析实验数据\"}\n",
    "for name, prompt in pipeline_prompts:\n",
    "    my_input[name] = prompt.invoke(my_input).to_string()\n",
    "my_output = final_prompt.invoke(my_input).to_string()\n",
    "print(my_output)\n"
   ]
  },
  {
   "cell_type": "code",
   "execution_count": 3,
   "id": "61bb2663-a03a-47c0-9a31-9e0cccc22d1a",
   "metadata": {},
   "outputs": [
    {
     "name": "stdout",
     "output_type": "stream",
     "text": [
      "给我讲一个关于科学家的热爱搞发明的故事\n",
      "给我讲一个关于科学家的热爱搞发明的故事\n"
     ]
    }
   ],
   "source": [
    "# 序列化模板使用\n",
    "from langchain_core.prompts import load_prompt\n",
    "\n",
    "# yaml文件\n",
    "prompt = load_prompt(\"./test_load/prompt.yaml\", encoding=\"utf-8\")\n",
    "print(prompt.format(name=\"科学家\", what=\"热爱搞发明\"))\n",
    "\n",
    "# json文件\n",
    "prompt = load_prompt(\"./test_load/prompt.json\", encoding=\"utf-8\")\n",
    "print(prompt.format(name=\"科学家\", what=\"热爱搞发明\"))"
   ]
  },
  {
   "cell_type": "markdown",
   "id": "4b369300-8911-4409-a5b5-eb6d4c343570",
   "metadata": {},
   "source": [
    "### 样例选择器：自定义、长度选样、MMR样例选择器、n-gram重叠度样例、相似度样例选择器"
   ]
  },
  {
   "cell_type": "code",
   "execution_count": 4,
   "id": "59ccebfede11e6a6",
   "metadata": {
    "ExecuteTime": {
     "end_time": "2025-02-26T07:06:46.866722Z",
     "start_time": "2025-02-26T07:06:45.466799Z"
    },
    "collapsed": false,
    "jupyter": {
     "outputs_hidden": false
    }
   },
   "outputs": [],
   "source": [
    "# 相似度样例选择器 使用OpenAIEmbeddings\n",
    "\n",
    "from langchain.prompts.example_selector import SemanticSimilarityExampleSelector\n",
    "from langchain.vectorstores import Chroma\n",
    "from langchain_openai import OpenAIEmbeddings\n",
    "from langchain.prompts import FewShotPromptTemplate, PromptTemplate\n",
    "\n",
    "example_prompt = PromptTemplate(\n",
    "    input_variables=[\"input\", \"output\"],\n",
    "    template=\"Input: {input}\\nOutput: {output}\",\n",
    ")\n",
    "\n",
    "examples = [\n",
    "    {\"input\": \"happy\", \"output\": \"sad\"},\n",
    "    {\"input\": \"tall\", \"output\": \"short\"},\n",
    "    {\"input\": \"energetic\", \"output\": \"lethargic\"},\n",
    "    {\"input\": \"sunny\", \"output\": \"gloomy\"},\n",
    "    {\"input\": \"windy\", \"output\": \"calm\"},\n",
    "]\n"
   ]
  },
  {
   "cell_type": "code",
   "execution_count": 5,
   "id": "3a6075cf-b10f-462d-96b7-0f8af334ad0d",
   "metadata": {},
   "outputs": [
    {
     "name": "stdout",
     "output_type": "stream",
     "text": [
      "Give the antonym of every input\n",
      "\n",
      "Input: happy\n",
      "Output: sad\n",
      "\n",
      "Input: worried\n",
      "Output:\n"
     ]
    }
   ],
   "source": [
    "example_selector = SemanticSimilarityExampleSelector.from_examples(\n",
    "    examples, \n",
    "    # OpenAIEmbeddings: embedding class 用于生成用于测量语义相似性的embedding嵌入向量\n",
    "    OpenAIEmbeddings(), \n",
    "    # Chroma: a VectorStore class 用于存储嵌入信息并进行相似性搜索\n",
    "    Chroma, \n",
    "    # k: 需要的相似性样本量\n",
    "    k=1\n",
    ")\n",
    "similar_prompt = FewShotPromptTemplate(\n",
    "    example_selector=example_selector,\n",
    "    example_prompt=example_prompt,\n",
    "    prefix=\"Give the antonym of every input\",  # 先输出句首  再输出选择到的相似性的例子\n",
    "    suffix=\"Input: {adjective}\\nOutput:\",      # 最后输出句尾\n",
    "    input_variables=[\"adjective\"],\n",
    ")\n",
    "print(similar_prompt.format(adjective=\"worried\"))"
   ]
  },
  {
   "cell_type": "markdown",
   "id": "7d9f66c182a9f4b7",
   "metadata": {
    "collapsed": false,
    "jupyter": {
     "outputs_hidden": false
    }
   },
   "source": [
    "### stream流式输出"
   ]
  },
  {
   "cell_type": "code",
   "execution_count": 6,
   "id": "cbc34a07-5a96-45a0-84ac-f6b4c45b8137",
   "metadata": {},
   "outputs": [
    {
     "name": "stdout",
     "output_type": "stream",
     "text": [
      "<think>\n",
      "嗯，我现在想了解“胸有成竹”到底是什么意思。首先，“胸”指的是心脏，而“成竹”就是得到了成果。所以这句话的意思应该是说，胸中有自己，才会有好的结果。\n",
      "\n",
      "可是，我不太确定这个说法是不是正确或者常见。我记得以前学过一些成语和谚语，可能和这个有关。比如说，“胸有成竹”这个词在中文里确实是一个常用的表达，意思是说一个人有了自己的心，才能取得成果。\n",
      "\n",
      "那这句话的结构是怎样的呢？“胸”是主词，“有成竹”是宾语。这句话的意思应该是，拥有自己的心脏（即独立、自立），就能成就事业或目标。\n",
      "\n",
      "我还记得有没有其他类似的成语或者俗语用在类似的位置上。比如“有志于行者无难”，这个意思是对人的态度很有要求，但可能不是直接对应的。另一个例子是“胸有成竹”和“穷则变，达则恒”这样的表达，前者强调独立，后者讲适应环境后才能稳定发展。\n",
      "\n",
      "所以，“胸有成竹”主要是形容一个人有了自己的心，能够自己去努力，最终取得成功。这可能包括个人的独立、自我觉察以及积极面对挑战的能力。\n",
      "\n",
      "有没有例外的情况呢？比如说，在某些情况下，虽然没有完全自立，但也能取得成果。比如，家庭成员共同支持，或者社区里的帮助，虽然没有完全独立，但也有可能取得成就。所以，“胸有成竹”更多是强调独立和自信的重要性。\n",
      "\n",
      "我是不是漏掉了什么例子？比如在教育或事业中，很多成功人士都是通过自己的努力和坚持获得的成果，而不是依赖他人或急于求成。所以，“胸有成竹”确实反映了这种独立自主、自立自强的精神。\n",
      "\n",
      "总结一下，“胸有成竹”意思是拥有自己的心，能够通过自己的努力取得结果，强调了独立自主的重要性。\n",
      "</think>\n",
      "\n",
      "“胸有成竹”是一个汉语成语，表达个人独立、自信并能自我实现的意思。其核心含义是指拥有自己的独立性和自立意识，能够在自己有能力的情况下取得成果或成就。这不仅体现在个人的事业和个人生活上，还可能延伸到社会和社区层面，强调通过努力和坚持能够实现目标。"
     ]
    }
   ],
   "source": [
    "from langchain_ollama import OllamaLLM\n",
    "llm = OllamaLLM(\n",
    "    model=\"deepseek-r1:1.5b\",\n",
    "    temperature=0.7,\n",
    "    base_url=\"http://localhost:11434\"\n",
    ")\n",
    "for chunk in llm.stream(\"胸有成竹是什么意思？一个简短的解释\"):\n",
    "    print(chunk, end=\"\", flush=True)"
   ]
  },
  {
   "cell_type": "code",
   "execution_count": 7,
   "id": "935195be-47a2-4f29-b57a-78ef19c49b5c",
   "metadata": {},
   "outputs": [],
   "source": [
    "# flush=True 确保每个片段立即显示，而不是等待缓冲区填满。\n",
    "# flush=False 有时候可能会有部分字符被吞，比如:"
   ]
  },
  {
   "cell_type": "code",
   "execution_count": 8,
   "id": "c0f1ed84-9f5a-469a-b7e6-33d8802e4c72",
   "metadata": {},
   "outputs": [
    {
     "name": "stdout",
     "output_type": "stream",
     "text": [
      "<think>\n",
      "需要理解“胸有成竹”这个词的意思。首先，“胸”在这里指的是人的躯干，是身体的一部分。“成竹”则是指完成了某件成就或目标。\n",
      "\n",
      "胸有成竹”应该是指一个人在 physically 和 mentally 上都有足够的准备和能力去做到某件事或者达成某个目标。换句话说，一个人如果能有“胸中有成竹”，那他的心理和身体条件都很成熟，能够应对各种挑战和任务。\n",
      "\n",
      "让我想到，不仅仅是个人努力，还有外部环境的支持也起作用。比如，学习一门新技能可能需要时间和努力，但如果有足够的心灵准备，加上环境的鼓励，就可以完成目标。\n",
      "\n",
      "记得以前看过一些名言或者故事，看到那些成功人士如何通过调整心态、培养内在能力来克服困难。他们可能并没有完全准备好，但他们通过自己的努力和选择，最终达到了他们的目标。\n",
      "\n",
      "，“胸有成竹”不仅指身体上的准备，还包括心理上的平衡和支持。这意味着在面对任何挑战时，一个人都能调整心态，找到适合自己的方法，从而成功解决问题或达成目标。\n",
      "</think>\n",
      "\n",
      "成竹”是指一个人在 physically 和 mentally 上都有足够的准备和能力去做到某件事或者达成某个目标。具体来说，这个词语强调了一个人在内在和外在条件上的成熟程度，能够应对各种挑战和任务。\n",
      "\n",
      "，“胸有成竹”意味着一个人不仅身体上准备好承担责任，心理上也足够平衡和支持，能够在面对困难时保持积极的心态，并通过自己的努力实现目标。"
     ]
    }
   ],
   "source": [
    "for chunk in llm.stream(\"胸有成竹是什么意思？一个简短的解释\"):\n",
    "    print(chunk, end=\"\", flush=False)"
   ]
  },
  {
   "cell_type": "code",
   "execution_count": 9,
   "id": "f69c0d04-0124-4bdf-b45e-e2a921955ea7",
   "metadata": {},
   "outputs": [
    {
     "name": "stdout",
     "output_type": "stream",
     "text": [
      "<think>\n",
      "好的，我现在要理解“胸有成竹”这个词的意思。首先，“胸”指的是胸口，也就是人的肩膀和头部的部分，通常象征着坚强、勇敢和力量。而“成竹”是指得到了成功或成就。\n",
      "\n",
      "所以，把这两个词结合起来，“胸有成竹”应该意思是拥有坚实的基础，能够支撑住事情的发展，最终达成目标。这可能与一个人的成长和发展有关，表现为从失败到成功的转变，或者在面对挑战时保持积极的心态。\n",
      "\n",
      "再想想，这个表达常用于鼓励人去接受自己的困难和挑战，相信自己有能力克服。它强调了内在的力量和外在的努力的结合，而不是单纯依靠外部环境的帮助。\n",
      "\n",
      "比如，一个人如果长期处于低谷或失败中，可能会感到迷茫和无助，这时候“胸有成竹”就能帮助他们找到新的方向，重新振作起来，最终实现自己的目标。\n",
      "\n",
      "总结一下，“胸有成竹”意思是拥有坚实的基础和坚定的信念，能够克服困难并达成目标。这可能与内在的成长、外在的努力以及积极的心态紧密相关。\n",
      "</think>\n",
      "\n",
      "“胸有成竹”是指一个人在面对困难和挑战时，拥有坚实的心理基础和支持力，能够在成功的过程中不断成长和发展。这句话强调了内在力量和外在努力的结合，鼓励人们以积极的心态去面对问题，并相信自己能够克服困难并实现目标。\n",
      "\n",
      "**解释：**\n",
      "\n",
      "1. **胸有成竹的意义：**\n",
      "   - 胸意味着人的肩膀和头部，象征着坚强、勇敢和力量。\n",
      "   - 成竹指成功或成就。\n",
      "   - “胸有成竹”意为拥有坚实的基础和支撑能力，能够应对挑战并达成目标。\n",
      "\n",
      "2. **核心含义：**\n",
      "   - 代表内在的力量与外在的努力结合，鼓励积极面对困难。\n",
      "   - 强调自信和决心，不被外界压力所左右，而是相信自己可以成功。\n",
      "\n",
      "3. **适用场景：**\n",
      "   - 在个人成长或职业生涯中，用来激励人调整心态，避免退缩，保持持续努力。\n",
      "   - 指使人们在困境中保持积极的心态，相信自己的潜力和能力。\n",
      "\n",
      "4. **情感意义：**\n",
      "   - 培养自信，增强自我信心，避免因外部因素影响而感到沮丧或自责。\n",
      "   - 养成持续行动的习惯，推动个人或组织不断进步和发展。\n",
      "\n",
      "总之，“胸有成竹”不仅是对成功的一种承诺，更是对自己力量和信念的肯定，鼓励人们在困难面前保持坚定，朝着目标前进。"
     ]
    }
   ],
   "source": [
    "# 也可以用聊天模型，主要是使用 model.stream()\n",
    "\n",
    "from langchain_ollama import ChatOllama\n",
    "model = ChatOllama(\n",
    "    model=\"deepseek-r1:1.5b\",\n",
    "    temperature=0.7,\n",
    "    base_url=\"http://localhost:11434\"\n",
    ")\n",
    "messages = [\n",
    "    (\"human\", \"胸有成竹是什么意思？一个简短的解释\"),\n",
    "]\n",
    "for chunk in model.stream(messages):\n",
    "    print(chunk.content, end='', flush=True)"
   ]
  },
  {
   "cell_type": "markdown",
   "id": "653cb74c-2f5a-41d7-af82-678ed3c0a482",
   "metadata": {},
   "source": [
    "### 统计token消耗"
   ]
  },
  {
   "cell_type": "code",
   "execution_count": 10,
   "id": "3ce5a7cd-d3e5-42c2-9dac-1bc6880b9a5f",
   "metadata": {},
   "outputs": [
    {
     "name": "stdout",
     "output_type": "stream",
     "text": [
      "响应内容: <think>\n",
      "好的，我现在要弄清楚“望梅止渴”是什么意思。首先，“望”这个词在中文里有几种解释，比如仰望、观看、观察，或者象征性的，比如欣赏。而“梅”是梅花的意思，通常用来形容美丽的梅花。“渴”则是表示渴求、渴望的意思。\n",
      "\n",
      "那么，“望梅止渴”就是说把希望寄托于梅花上，希望能够停止渴求，也就是达到期待的境界。梅花在寒冷的季节盛开，能够象征着坚韧不拔的精神和强大的意志力。所以，望梅止渴可能是在表达一种积极向上的心态，相信通过努力，自己能够克服困难，达到自己的目标。\n",
      "\n",
      "我还记得以前学过一个成语或者俗语，是“望梅止渴”，可能是指在遇到困难或挫折时，选择暂时放慢脚步，不急于解决问题，而是耐心等待，直到时机来临时，再采取行动。这和“望梅止渴”有相似的意思，都是通过等待或等待机会来实现目标。\n",
      "\n",
      "另外，“望梅止渴”也常常用来形容某人对某些事情保持乐观的态度，即使面对困难，也能坚持不懈地去克服，最终取得成功。所以它不仅是一种心理上的状态，也是一种行为上的选择，让人保持积极的心态，相信自己能行。\n",
      "\n",
      "我还想知道“望梅止渴”在文学作品中有没有出现过，或者是成语的一种变体。可能是在某些诗文中，作者通过描绘梅花的美丽来表达对未来的希望或坚持的精神。比如，写到梅花独自绽放，象征着坚韧不拔的人格特征，而通过望其止渴的态度，表达了对自己未来的坚定信念。\n",
      "\n",
      "另外，“望梅止渴”这个词的用法是不是很广泛呢？可能在各种演讲、写作或者口语中都能听到，是一种简洁有力的表达方式，能够传达出积极向上的 message。它不仅仅是字面上的梅花，更像是一种心理上的引导，让人从内心深处去面对挑战和困难。\n",
      "\n",
      "我还想确认一下，“望梅止渴”是不是一种成语或者俗语，还是一个比较常见的词语。查了一下字典和用法书，“望梅止渴”确实是一个成语，常用来比喻在追求某个目标时，由于环境或条件的原因，选择暂时放慢脚步，等待时机来临时，再行动。它表达了一种积极向上的态度。\n",
      "\n",
      "此外，“望梅止渴”也常常被用来形容一个人对某些事情保持乐观的态度，即使面对困难和挑战，也能坚持不懈地去克服，最终取得成功。这种心态不仅体现在个人生活中，也可以在团队合作中体现出来，让人团结一心，共同面对问题。\n",
      "\n",
      "我还想知道“望梅止渴”是否有其特定的语境或文化背景，它是否只适用于某些地区或者特定的历史时期。可能在古代汉语中，“望梅止渴”并不是特别常用，更多是在文学作品中出现过，作为一种象征性的表达方式。而现代汉语中，这个词语已经非常普及，大家都知道它是什么意思。\n",
      "\n",
      "另外，我还想了解一下“望梅止渴”的历史渊源，它是怎么传下来的？可能在古代的士科制度或者其他文化活动中，人们为了展示自己的才能和智慧，会通过描写梅花盛开时的姿态或动作来表现自己，而这种表现也常常带有积极向上的意义。所以，“望梅止渴”不仅是描述梅花本身，更是象征着一种精神追求。\n",
      "\n",
      "总结一下，“望梅止渴”是一个积极向上、对未来充满信心的表达方式，它通过描绘梅花在寒冷中的美丽和坚韧，传递了希望和坚持的精神。同时，它也暗示了一种心态，即即使遇到困难或挫折，也要保持耐心和毅力，等待机会来临时，再采取行动。这种态度不仅是一种心理状态，也是一种行为选择，有助于人们在面对挑战时保持信心，取得成功。\n",
      "\n",
      "接下来，我可以进一步查找相关资料，确认“望梅止渴”这个词的准确用法、历史背景以及具体语境下的表现形式，以确保我的理解是正确的。\n",
      "</think>\n",
      "\n",
      "“望梅止渴”是一个汉语成语，具有积极向上和坚定果敢的意义。以下是对其意思的详细解释：\n",
      "\n",
      "1. **象征意义**：梅花在寒冷的季节盛开，象征着坚韧不拔的精神和强大的意志力。望其止渴则表达了希望通过等待或等待机会来实现目标的努力。\n",
      "\n",
      "2. **心理暗示**：该成语常用来形容一种乐观的心态，即使面对困难或挫折，也能坚持不懈地去克服，最终取得成功。\n",
      "\n",
      "3. **语境与用法**：\n",
      "   - 在文学作品中，可能通过描绘梅花的美丽来表达对未来的希望。\n",
      "   - 也常用于口语和演讲中，是一种简洁有力的表达方式，传达积极向上的态度。\n",
      "\n",
      "4. **历史渊源**：虽然在古代汉语中“望梅止渴”并不常见，但随着文化的传播和发展，在文学作品中逐渐被使用，并成为一种象征性的表达方式。\n",
      "\n",
      "5. **现代语境**：\n",
      "   - 随着语言的普及，“望梅止渴”已融入日常口语和书面语中，成为一种常用成语。\n",
      "   - 也常用来比喻在追求某个目标时，由于环境或条件的原因，选择暂时放慢脚步，等待时机来临时，再行动。\n",
      "\n",
      "总结而言，“望梅止渴”不仅是对梅花的赞美，更是传达一种积极向上的态度，鼓励人们通过耐心和毅力，等待机会来临时，共同面对挑战，实现目标。\n",
      "输入Token: 9\n",
      "输出Token: 1144\n",
      "总消耗Token: 1153\n"
     ]
    }
   ],
   "source": [
    "from langchain_ollama import ChatOllama\n",
    "from langchain_core.messages import HumanMessage\n",
    "\n",
    "llm = ChatOllama(\n",
    "    model=\"deepseek-r1:1.5b\",\n",
    "    temperature=0.7,\n",
    "    base_url=\"http://localhost:11434\",\n",
    "    stream_usage=True \n",
    ")\n",
    "\n",
    "response = llm.invoke([\n",
    "    HumanMessage(content=\"望梅止渴是什么意思\")\n",
    "])\n",
    "\n",
    "# 输出内容和token统计\n",
    "print(f\"响应内容: {response.content}\")\n",
    "print(f\"输入Token: {response.usage_metadata['input_tokens']}\")\n",
    "print(f\"输出Token: {response.usage_metadata['output_tokens']}\")\n",
    "print(f\"总消耗Token: {response.usage_metadata['total_tokens']}\")"
   ]
  },
  {
   "cell_type": "markdown",
   "id": "e1ca6610-2785-458a-8115-9939d9c05b97",
   "metadata": {},
   "source": [
    "### 加载以下类型文件\n",
    ".md .json .txt .csv .html .pdf"
   ]
  },
  {
   "cell_type": "markdown",
   "id": "88109a34-8a80-483b-891e-96e6dca48310",
   "metadata": {},
   "source": [
    "### .md类型文件"
   ]
  },
  {
   "cell_type": "code",
   "execution_count": 11,
   "id": "2abf0d73-2a3c-43e6-bc8c-0243e816e9b5",
   "metadata": {},
   "outputs": [
    {
     "name": "stdout",
     "output_type": "stream",
     "text": [
      "# This is an example of the makedown format.\n",
      "* Life is really simple, but people insist on making it complicated.\n",
      "{'source': './test_load/example.md'}\n"
     ]
    }
   ],
   "source": [
    "from langchain_community.document_loaders import TextLoader\n",
    "\n",
    "loader = TextLoader(\"./test_load/example.md\")\n",
    "docs = loader.load()\n",
    "print(docs[0].page_content) \n",
    "print(docs[0].metadata)"
   ]
  },
  {
   "cell_type": "markdown",
   "id": "50214d23-6cc0-4e0c-b00b-c7dcdf7ef2d2",
   "metadata": {},
   "source": [
    "### .json类型文件"
   ]
  },
  {
   "cell_type": "code",
   "execution_count": 12,
   "id": "6863a0a5-d1dc-456e-866b-3c48e7b20cd8",
   "metadata": {},
   "outputs": [
    {
     "name": "stdout",
     "output_type": "stream",
     "text": [
      "New York\n",
      "{'source': 'D:\\\\AI\\\\test_load\\\\example.json', 'seq_num': 1}\n"
     ]
    }
   ],
   "source": [
    "from langchain_community.document_loaders import JSONLoader\n",
    "\n",
    "loader = JSONLoader(\n",
    "    file_path=\"./test_load/example.json\",\n",
    "    jq_schema=\".city\"\n",
    ")\n",
    "# jq_schema参数在 JSONLoader中使用的是 jq查询语言\n",
    "# jq_schema=\".city\" 查询city\n",
    "docs = loader.load()\n",
    "print(docs[0].page_content)\n",
    "print(docs[0].metadata)\n"
   ]
  },
  {
   "cell_type": "markdown",
   "id": "65518c0a-329e-48c7-85ba-5b060e9ca9da",
   "metadata": {},
   "source": [
    "### .txt类型文件"
   ]
  },
  {
   "cell_type": "code",
   "execution_count": 13,
   "id": "ce1c03ed-8db3-4c17-9853-465b8b6abca2",
   "metadata": {},
   "outputs": [
    {
     "name": "stdout",
     "output_type": "stream",
     "text": [
      "This is an example of the txt format.\n",
      "You are all on your own.\n",
      "{'source': './test_load/example.txt'}\n"
     ]
    }
   ],
   "source": [
    "loader = TextLoader(\"./test_load/example.txt\")\n",
    "docs = loader.load()\n",
    "print(docs[0].page_content)  \n",
    "print(docs[0].metadata)"
   ]
  },
  {
   "cell_type": "markdown",
   "id": "38b5135c-e42e-4f63-9c49-7f1dc7d1e819",
   "metadata": {},
   "source": [
    "### .csv类型文件"
   ]
  },
  {
   "cell_type": "code",
   "execution_count": 14,
   "id": "49591fc1-1c73-4bc7-9f67-ab38412b14ee",
   "metadata": {},
   "outputs": [
    {
     "name": "stdout",
     "output_type": "stream",
     "text": [
      "Name,Age,City\n",
      "Alice,25,New York\n",
      "Bob,30,Los Angeles\n",
      "Charlie,35,Chicago\n",
      "\n",
      "{'source': './test_load/example.csv'}\n"
     ]
    }
   ],
   "source": [
    "loader = TextLoader(\"./test_load/example.csv\")\n",
    "docs = loader.load()\n",
    "print(docs[0].page_content)  \n",
    "print(docs[0].metadata)"
   ]
  },
  {
   "cell_type": "markdown",
   "id": "f38b0867-291c-46fe-abbc-4d8a31d8f2cb",
   "metadata": {},
   "source": [
    "### .html类型文件"
   ]
  },
  {
   "cell_type": "code",
   "execution_count": 15,
   "id": "2466c3a3-c99f-4d88-8840-a9144c1961b9",
   "metadata": {},
   "outputs": [
    {
     "name": "stdout",
     "output_type": "stream",
     "text": [
      "我的第一个标题\n",
      "\n",
      "我的第一个段落。\n",
      "{'source': './test_load/example.html'}\n"
     ]
    }
   ],
   "source": [
    "from langchain_community.document_loaders import UnstructuredHTMLLoader\n",
    "loader = UnstructuredHTMLLoader(\"./test_load/example.html\")\n",
    "docs = loader.load()\n",
    "print(docs[0].page_content)  \n",
    "print(docs[0].metadata)"
   ]
  },
  {
   "cell_type": "markdown",
   "id": "26fc3699-0850-4040-9280-85d2ef64d9d7",
   "metadata": {},
   "source": [
    "### .pdf类型文件"
   ]
  },
  {
   "cell_type": "code",
   "execution_count": 16,
   "id": "28fcd0c3-a54f-405a-84fa-fe0fdeb400f6",
   "metadata": {},
   "outputs": [
    {
     "name": "stdout",
     "output_type": "stream",
     "text": [
      "Hello, this is a PDF file created with FPDF!\n",
      "This is the second line of text.\n",
      "{'producer': 'PyFPDF 1.7.2 http://pyfpdf.googlecode.com/', 'creator': 'PyPDF', 'creationdate': 'D:20250226165734', 'source': './test_load/example.pdf', 'total_pages': 1, 'page': 0, 'page_label': '1'}\n"
     ]
    }
   ],
   "source": [
    "from langchain_community.document_loaders import PyPDFLoader\n",
    "loader = PyPDFLoader(\"./test_load/example.pdf\")\n",
    "docs = loader.load()\n",
    "print(docs[0].page_content)  \n",
    "print(docs[0].metadata)"
   ]
  },
  {
   "cell_type": "markdown",
   "id": "49e17e64-cdfd-419c-8e57-43ece96fbcbd",
   "metadata": {},
   "source": [
    "### Excel文件"
   ]
  },
  {
   "cell_type": "code",
   "execution_count": 17,
   "id": "178b0bee-c910-405d-a2fa-50b612ca4ffb",
   "metadata": {},
   "outputs": [
    {
     "name": "stdout",
     "output_type": "stream",
     "text": [
      "Name Age City Alice 25 New York Bob 30 Los Angeles Charlie 35 Chicago\n",
      "{'source': './test_load/example.xlsx', 'file_directory': './test_load', 'filename': 'example.xlsx', 'last_modified': '2025-02-26T17:02:48', 'page_name': 'Sheet1', 'page_number': 1, 'text_as_html': '<table><tr><td>Name</td><td>Age</td><td>City</td></tr><tr><td>Alice</td><td>25</td><td>New York</td></tr><tr><td>Bob</td><td>30</td><td>Los Angeles</td></tr><tr><td>Charlie</td><td>35</td><td>Chicago</td></tr></table>', 'languages': ['eng'], 'filetype': 'application/vnd.openxmlformats-officedocument.spreadsheetml.sheet', 'category': 'Table', 'element_id': '5500e7944e954d7d7aedbf5eb129602d'}\n"
     ]
    }
   ],
   "source": [
    "from langchain.document_loaders import UnstructuredExcelLoader\n",
    "loader = UnstructuredExcelLoader(\"./test_load/example.xlsx\", mode=\"elements\")\n",
    "docs = loader.load()\n",
    "print(docs[0].page_content)  \n",
    "print(docs[0].metadata)"
   ]
  },
  {
   "cell_type": "markdown",
   "id": "1febdf39-4f01-4cf6-8d82-9eb5ed4b5a0d",
   "metadata": {},
   "source": [
    "### 文档切割"
   ]
  },
  {
   "cell_type": "code",
   "execution_count": 18,
   "id": "429547ef-2148-4ce5-8cc5-11c691c13edb",
   "metadata": {},
   "outputs": [
    {
     "name": "stdout",
     "output_type": "stream",
     "text": [
      "page_content='This is an example' \n",
      "\n",
      "page_content='example of the txt' \n",
      "\n",
      "page_content='the txt format.' \n",
      "\n",
      "page_content='You are all on your' \n",
      "\n",
      "page_content='on your own.' \n",
      "\n"
     ]
    }
   ],
   "source": [
    "from langchain.text_splitter import RecursiveCharacterTextSplitter\n",
    "# 将长文本拆分成更小块（chunks）\n",
    "# 通过递归的方式拆分文本，使得每个文本块的大小符合设定的限制\n",
    "\n",
    "with open(\"./test_load/example.txt\") as f:\n",
    "    example_doc = f.read()\n",
    "    \n",
    "text_splitter = RecursiveCharacterTextSplitter(\n",
    "    chunk_size = 20, # 每个拆分后的文本块的最大长度（以字符为单位）\n",
    "    chunk_overlap  = 10, # 相邻两个文本块之间的重叠部分的长度（以字符为单位）\n",
    "    length_function = len, # 计算文本长度的函数\n",
    ")\n",
    "\n",
    "texts = text_splitter.create_documents([example_doc])\n",
    "for text in texts:\n",
    "    print(text, '\\n')"
   ]
  },
  {
   "cell_type": "markdown",
   "id": "3029fa9b-53c7-4133-9a7f-93c2596da615",
   "metadata": {},
   "source": [
    "### 用户输入的文件类型是各种各样的。\n",
    "但是不同的类型文件需要不同的loader去解析。\n",
    "现在实现一个方法，不管用户给的是.dm .json .txt .csv .pdf .xlsx 中的哪一种文件，都能读取出来"
   ]
  },
  {
   "cell_type": "code",
   "execution_count": 22,
   "id": "d646d882-37e2-4690-a21d-8d0a44b0872e",
   "metadata": {},
   "outputs": [
    {
     "name": "stdout",
     "output_type": "stream",
     "text": [
      "测试用例 .csv 类型\n",
      "Name,Age,City\n",
      "Alice,25,New York\n",
      "Bob,30,Los Angeles\n",
      "Charlie,35,Chicago\n",
      "\n",
      "{'source': './test_load/example.csv'}\n"
     ]
    }
   ],
   "source": [
    "import os\n",
    "from langchain_community.document_loaders import TextLoader, JSONLoader, UnstructuredExcelLoader, UnstructuredHTMLLoader, PyPDFLoader\n",
    "import random\n",
    "\n",
    "\n",
    "def load_file(file_path):\n",
    "    # 获取文件类型\n",
    "    _, file_type = os.path.splitext(file_path)\n",
    "    file_type = file_type.lower()\n",
    "    # 不同文件类型传入不同处理函数\n",
    "    if file_type == \".md\" or file_type == \".txt\" or file_type == \".csv\":\n",
    "        loader = TextLoader(file_path)\n",
    "    elif file_type == \".json\":\n",
    "        loader = JSONLoader(file_path=file_path,jq_schema=\".test\")\n",
    "    elif file_type == \".xlsx\":\n",
    "        loader = UnstructuredExcelLoader(file_path, mode=\"elements\")\n",
    "    elif file_type == \".pdf\":\n",
    "        loader = PyPDFLoader(file_path)\n",
    "    elif file_type == \".html\":\n",
    "        loader = UnstructuredHTMLLoader(file_path)\n",
    "    else:\n",
    "        print('Unknown file type')\n",
    "    docs = loader.load()\n",
    "    print(docs[0].page_content) \n",
    "    print(docs[0].metadata)\n",
    "\n",
    "# 测试\n",
    "type_list = ['.md', '.txt', '.csv', '.json', '.xlsx', '.pdf', '.html']\n",
    "random_choice = random.choice(type_list)\n",
    "print('测试用例', random_choice, '类型')\n",
    "random_type_file=\"./test_load/example\"+random_choice\n",
    "load_file(random_type_file)\n"
   ]
  },
  {
   "cell_type": "code",
   "execution_count": null,
   "id": "e39ed942-a235-4e8e-aa49-ba871c448c5e",
   "metadata": {},
   "outputs": [],
   "source": []
  }
 ],
 "metadata": {
  "kernelspec": {
   "display_name": "Python 3 (ipykernel)",
   "language": "python",
   "name": "python3"
  },
  "language_info": {
   "codemirror_mode": {
    "name": "ipython",
    "version": 3
   },
   "file_extension": ".py",
   "mimetype": "text/x-python",
   "name": "python",
   "nbconvert_exporter": "python",
   "pygments_lexer": "ipython3",
   "version": "3.12.9"
  }
 },
 "nbformat": 4,
 "nbformat_minor": 5
}
